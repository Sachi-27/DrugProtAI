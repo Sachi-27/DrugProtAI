{
 "cells": [
  {
   "cell_type": "code",
   "execution_count": 1,
   "metadata": {},
   "outputs": [],
   "source": [
    "import json\n",
    "\n",
    "with open(\"protein_drugbank.json\") as f:\n",
    "    data = json.load(f)"
   ]
  },
  {
   "cell_type": "code",
   "execution_count": 2,
   "metadata": {},
   "outputs": [
    {
     "data": {
      "text/plain": [
       "3345"
      ]
     },
     "execution_count": 2,
     "metadata": {},
     "output_type": "execute_result"
    }
   ],
   "source": [
    "len(data.keys()) # Proteins with available information"
   ]
  },
  {
   "cell_type": "code",
   "execution_count": 3,
   "metadata": {},
   "outputs": [
    {
     "name": "stdout",
     "output_type": "stream",
     "text": [
      "A5X5Y0\n",
      "{'DB00246': ['Ziprasidone', 'approved', 'unknown', 'antagonist']}\n",
      "A8MPY1\n",
      "{'DB01567': ['Fludiazepam', 'experimental, illicit', 'yes', 'potentiator'], 'DB16754': ['TPMPA', 'experimental', 'unknown', 'antagonist']}\n",
      "C9JRZ8\n",
      "{'DB06077': ['Lumateperone', 'approved, investigational', 'no', 'substrate']}\n",
      "O00141\n",
      "{'DB03247': ['Flavin mononucleotide', 'approved, investigational', 'unknown'], 'DB07837': ['[4-(5-naphthalen-2-yl-1H-pyrrolo[2,3-b]pyridin-3-yl)phenyl]acetic acid', 'experimental', 'unknown'], 'DB08191': ['4-(5-phenyl-1H-pyrrolo[2,3-b]pyridin-3-yl)benzoic acid', 'experimental', 'unknown']}\n",
      "O00142\n",
      "{'DB02452': [\"Thymidine 5'-triphosphate\", 'experimental', 'unknown'], 'DB02594': [\"2'-Deoxycytidine\", 'experimental, investigational', 'unknown'], 'DB04485': ['Thymidine', 'experimental, investigational', 'unknown', 'substrate'], 'DB03312': ['Brivudine', 'approved, investigational', 'yes', 'substrate'], 'DB00441': ['Gemcitabine', 'approved', 'no', 'substrate']}\n"
     ]
    }
   ],
   "source": [
    "for protein in (list(data.keys()))[:5]:\n",
    "    print(protein)\n",
    "    print(data[protein])"
   ]
  },
  {
   "cell_type": "code",
   "execution_count": 8,
   "metadata": {},
   "outputs": [
    {
     "data": {
      "text/plain": [
       "2652"
      ]
     },
     "execution_count": 8,
     "metadata": {},
     "output_type": "execute_result"
    }
   ],
   "source": [
    "# Count of those proteins with FDA approved drugs\n",
    "f1 = open(\"druggable_proteins.txt\", \"w\")\n",
    "f2 = open(\"approved_druggable_proteins.txt\", \"w\")\n",
    "\n",
    "count = 0\n",
    "druggable_proteins = []\n",
    "for protein in data:\n",
    "    f1.write(protein + \"\\n\")\n",
    "    for k,v in data[protein].items():\n",
    "        if 'approved' in v[1]:\n",
    "            count += 1\n",
    "            druggable_proteins.append(protein)\n",
    "            f2.write(protein + \"\\n\")\n",
    "            break\n",
    "f1.close()\n",
    "f2.close()\n",
    "count"
   ]
  }
 ],
 "metadata": {
  "kernelspec": {
   "display_name": "Python 3",
   "language": "python",
   "name": "python3"
  },
  "language_info": {
   "codemirror_mode": {
    "name": "ipython",
    "version": 3
   },
   "file_extension": ".py",
   "mimetype": "text/x-python",
   "name": "python",
   "nbconvert_exporter": "python",
   "pygments_lexer": "ipython3",
   "version": "3.11.4"
  }
 },
 "nbformat": 4,
 "nbformat_minor": 2
}
