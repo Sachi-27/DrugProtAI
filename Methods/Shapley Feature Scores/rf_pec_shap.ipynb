{
  "cells": [
    {
      "cell_type": "code",
      "execution_count": null,
      "metadata": {
        "id": "oDq4fXrPr55V"
      },
      "outputs": [],
      "source": [
        "# Setting seeds for reproducibility\n",
        "import numpy as np\n",
        "import tensorflow as tf\n",
        "from sklearn.preprocessing import StandardScaler\n",
        "import json\n",
        "from sklearn.model_selection import train_test_split\n",
        "from sklearn.utils import shuffle\n",
        "from sklearn.preprocessing import StandardScaler, MinMaxScaler\n",
        "from imblearn.over_sampling import ADASYN, SMOTE\n",
        "import pandas as pd\n",
        "np.random.seed(42)\n",
        "tf.random.set_seed(42)"
      ]
    },
    {
      "cell_type": "code",
      "execution_count": null,
      "metadata": {
        "id": "-scsJ3kLrZrP"
      },
      "outputs": [],
      "source": [
        "SETTING = 3"
      ]
    },
    {
      "cell_type": "code",
      "execution_count": null,
      "metadata": {
        "colab": {
          "base_uri": "https://localhost:8080/"
        },
        "id": "DWpMSiGBAJZP",
        "outputId": "f7cb6c11-745b-4abf-b7c2-a0e6585988b2"
      },
      "outputs": [
        {
          "name": "stdout",
          "output_type": "stream",
          "text": [
            "Total number of uniprot human verified proteins: 20434\n",
            "Number of druggable proteins: 3345\n",
            "Number of approved druggable proteins: 2652\n",
            "['Sequence Length', 'Molecular Weight', 'GRAVY', 'Isoelectric Point', 'Instability Index', 'Aromaticity', 'Charge at 7', 'Amino Acid Percent A', 'Amino Acid Percent C', 'Amino Acid Percent D', 'Amino Acid Percent E', 'Amino Acid Percent F', 'Amino Acid Percent G', 'Amino Acid Percent H', 'Amino Acid Percent I', 'Amino Acid Percent K', 'Amino Acid Percent L', 'Amino Acid Percent M', 'Amino Acid Percent N', 'Amino Acid Percent P', 'Amino Acid Percent Q', 'Amino Acid Percent R', 'Amino Acid Percent S', 'Amino Acid Percent T', 'Amino Acid Percent V', 'Amino Acid Percent W', 'Amino Acid Percent Y', 'Molar Extinction Coefficient 1', 'Molar Extinction Coefficient 2', 'Secondary Structure helix', 'Secondary Structure turn', 'Secondary Structure sheet', 'aliphatic_aliphatic', 'aliphatic_positive', 'aliphatic_negative', 'aliphatic_uncharged', 'aliphatic_aromatic', 'positive_aliphatic', 'positive_positive', 'positive_negative', 'positive_uncharged', 'positive_aromatic', 'negative_aliphatic', 'negative_positive', 'negative_negative', 'negative_uncharged', 'negative_aromatic', 'uncharged_aliphatic', 'uncharged_positive', 'uncharged_negative', 'uncharged_uncharged', 'uncharged_aromatic', 'aromatic_aliphatic', 'aromatic_positive', 'aromatic_negative', 'aromatic_uncharged', 'aromatic_aromatic', 'Glycosylation', 'Cross-link', 'Modified residue', 'Signal', 'Disulfide bond', 'O-linked', 'N-linked', 'C-linked', 'N-beta-linked', 'S-linked', 'O-alpha-linked', 'binary_count', 'binary_experimental_count', 'xeno_count', 'xeno_experimental_count', 'degree_binary', 'degree_xeno', 'degree_all', 'avg_degree_nbr_binary', 'avg_degree_nbr_xeno', 'avg_degree_nbr_all', 'strongly_connected_component_sizes_all', 'lipid droplet', 'vacuole membrane', 'cell junction', 'synapse', 'cytoplasm', 'chromosome', 'presynapse', 'secreted', 'cell surface', 'target cell membrane', 'photoreceptor', 'preautophagosomal structure', 'rough endoplasmic reticulum', 'dynein axonemal particle', 'endomembrane system', 'lysosome', 'recycling endosome', 'cell projection', 'vacuole', 'cytolitic granule', 'inflammasome', 'vesicle', 'perikaryon', 'zymogen granule', 'virion', 'extracellular vessicle', 'late endosome', 'early endosome', 'postsynapse', 'nucleus', 'mitochondrion', 'cytoplasmic granule', 'midbody', 'lateral cell membrane', 'cytoplasmic vesicle', 'membrane', 'cornified envelope', 'peroxisome', 'golgo apparatus', 'golgi outpost', 'endosome', 'microsome', 'cleavage furrow', 'endoplasmic reticulum', 'smooth endoplasmic reticulum membrane', 'sarcoplasmic reticulum', 'cell membrane', 'parasitophorous vacuole', 'melanosome', 'myelin membrane', 'rrm', 'acidic residues', 'ph', 'krab', 'pdz', 'btb', 'nuclear localization signal', 'fibronectin type-iii', 'disordered', 'ig-like v-type', 'ef-hand', 'sh3', 'ig-like', 'pro residues', 'protein kinase', 'ig-like c2-type', 'basic and acidic residues', 'basic residues', 'egf-like', 'polar residues', 'Mean', 'Mode', 'Min', 'Max', 'Variance', 'Median', 'Standard Deviation', 'Range', 'Min gap', 'Max gap', 'Average gap', 'Min 2-hop gap', 'Max 2-hop gap', 'Average 2-hop gap', 'Latent_Value_1', 'Latent_Value_2', 'Latent_Value_3', 'Latent_Value_4', 'Latent_Value_5', 'Latent_Value_6', 'Latent_Value_7', 'Latent_Value_8', 'Latent_Value_9', 'Latent_Value_10', 'Latent_Value_11', 'Latent_Value_12', 'Latent_Value_13', 'Latent_Value_14', 'Latent_Value_15', 'Latent_Value_16', 'Latent_Value_17', 'Latent_Value_18', 'Latent_Value_19', 'Latent_Value_20']\n",
            "183\n"
          ]
        }
      ],
      "source": [
        "data_file_path = \"../../Features/PCFs/files_for_ml/protein_props.json\"\n",
        "druggable_proteins_file_path = \"../../DrugBank/druggable_proteins.txt\"\n",
        "approved_druggable_proteins_file_path = \"../../DrugBank/approved_druggable_proteins.txt\"\n",
        "\n",
        "with open(data_file_path, 'r') as f:\n",
        "    protein_data = json.load(f)\n",
        "\n",
        "print(\"Total number of uniprot human verified proteins:\", len(protein_data))\n",
        "\n",
        "# Extracting list of druggable and approved druggable proteins\n",
        "with open(druggable_proteins_file_path, 'r') as f:\n",
        "    druggable_proteins = f.read().splitlines()\n",
        "\n",
        "with open(approved_druggable_proteins_file_path, 'r') as f:\n",
        "    approved_druggable_proteins = f.read().splitlines()\n",
        "\n",
        "print(\"Number of druggable proteins:\", len(druggable_proteins))\n",
        "print(\"Number of approved druggable proteins:\", len(approved_druggable_proteins))\n",
        "\n",
        "\n",
        "# Fetching feature data for all proteins\n",
        "properties = (pd.read_json(\"../../Features/PCFs/files_for_ml/protein_props.json\")).transpose()\n",
        "is_druggable = [1 if i in druggable_proteins else 0 for i in properties.index]\n",
        "is_approved_druggable = [1 if i in approved_druggable_proteins else 0 for i in properties.index]\n",
        "\n",
        "properties[\"is_druggable\"] = is_druggable\n",
        "properties[\"is_approved_druggable\"] = is_approved_druggable\n",
        "\n",
        "PCP_properties = properties.copy()\n",
        "amino_acids = 'ACDEFGHIKLMNPQRSTVWY'\n",
        "amino_acid_percent = {i:[] for i in amino_acids}\n",
        "for i in PCP_properties['Amino Acid Percent']:\n",
        "  for aa in amino_acids:\n",
        "    amino_acid_percent[aa].append(i[aa])\n",
        "for aa in amino_acids:\n",
        "  PCP_properties = pd.concat([PCP_properties, pd.Series(amino_acid_percent[aa], index = PCP_properties.index, name = f\"Amino Acid Percent {aa}\")], axis = 1)\n",
        "\n",
        "PCP_properties[f\"Molar Extinction Coefficient 1\"] = pd.Series([x[0] for x in PCP_properties['Molar Extinction Coefficient']], index = PCP_properties.index)\n",
        "PCP_properties[f\"Molar Extinction Coefficient 2\"] = pd.Series([x[1] for x in PCP_properties['Molar Extinction Coefficient']], index = PCP_properties.index)\n",
        "\n",
        "PCP_properties[f\"Secondary Structure helix\"] = pd.Series([x[0] for x in PCP_properties['Secondary Structure']], index = PCP_properties.index)\n",
        "PCP_properties[f\"Secondary Structure turn\"] = pd.Series([x[1] for x in PCP_properties['Secondary Structure']], index = PCP_properties.index)\n",
        "PCP_properties[f\"Secondary Structure sheet\"] = pd.Series([x[2] for x in PCP_properties['Secondary Structure']], index = PCP_properties.index)\n",
        "\n",
        "PCP_properties.drop(columns = ['Amino Acid Count','Amino Acid Percent',\"Molar Extinction Coefficient\",\"Flexibility\",\"Secondary Structure\",'Sequence'], inplace = True)\n",
        "PCP_properties['Sequence Length'] = PCP_properties['Sequence Length'].astype(int)\n",
        "PCP_properties[['Molecular Weight', 'GRAVY', 'Isoelectric Point', 'Instability Index', 'Aromaticity', 'Charge at 7']] = PCP_properties[['Molecular Weight', 'GRAVY', 'Isoelectric Point', 'Instability Index', 'Aromaticity', 'Charge at 7']].astype(float)\n",
        "\n",
        "with open(\"/content/drive/MyDrive/protein_props/features/gdpc_encodings.json\", 'r') as file:\n",
        "    data = json.load(file)\n",
        "gpdc_encodings = pd.DataFrame(data).transpose()\n",
        "\n",
        "ppi = pd.read_json(\"../../Features/PPIs/files_for_ml/ppi.json\").transpose()\n",
        "ppi_network = pd.read_csv(\"../../Features/PPIs/files_for_ml/ppi_network_properties.csv\")\n",
        "ppi_network.index = ppi_network['Unnamed: 0']\n",
        "ppi_network.drop(columns = ['Unnamed: 0'], inplace = True)\n",
        "ppi = pd.concat([ppi, ppi_network], axis = 1)\n",
        "\n",
        "glycolisation = pd.read_csv(\"../../Features/PTMs/files_for_ml/glycosylation.csv\")\n",
        "glycolisation.index = glycolisation['Unnamed: 0']\n",
        "glycolisation.drop(columns = ['Unnamed: 0'], inplace = True)\n",
        "ptm = pd.read_csv(\"../../Features/PTMs/files_for_ml/PTM_counts.csv\")\n",
        "ptm.index = ptm[\"Unnamed: 0\"]\n",
        "ptm.drop(columns = ['Unnamed: 0'], inplace = True)\n",
        "ptm_counts = pd.concat([ptm, glycolisation], axis = 1)\n",
        "\n",
        "with open(\"../../Features/SCL/files_for_ml/subcellular_locations2.json\", 'r') as file:\n",
        "    data = json.load(file)\n",
        "unique_groups = set()\n",
        "for entry in data.values():\n",
        "    if \"general\" in entry:\n",
        "        for general_entry in entry[\"general\"]:\n",
        "            if \"group\" in general_entry: unique_groups.add(general_entry[\"group\"])\n",
        "\n",
        "unique_groups_list = list(unique_groups)\n",
        "\n",
        "rows = []\n",
        "for protein_id in PCP_properties.index:\n",
        "    row = {group: 0 for group in unique_groups_list}\n",
        "    if protein_id in data:\n",
        "        for entry in data[protein_id].get(\"general\", []):\n",
        "            if \"group\" in entry and entry[\"group\"] in unique_groups:\n",
        "                row[entry[\"group\"]] = 1\n",
        "    row[\"protein_id\"] = protein_id\n",
        "    rows.append(row)\n",
        "\n",
        "subcellular_data = pd.DataFrame(rows).set_index(\"protein_id\")\n",
        "\n",
        "domains = pd.read_csv(\"../../Features/Domains/files_for_ml/data_top20.csv\")\n",
        "domains.index = domains['Unnamed: 0']\n",
        "domains.drop(columns = ['Unnamed: 0'], inplace = True)\n",
        "\n",
        "flexibility = pd.read_csv(\"../../Features/PCFs/files_for_ml/flexibility_properties.csv\")\n",
        "flexibility.index = flexibility['Unnamed: 0']\n",
        "flexibility.drop(columns = ['Unnamed: 0'], inplace = True)\n",
        "\n",
        "latent_data = pd.read_csv(\"../../Features/Latents/files_for_ml/latent_values.csv\").transpose()\n",
        "latent_data.columns = [f\"Latent_Value_{i+1}\" for i in latent_data.columns]\n",
        "final_data = pd.concat([PCP_properties,gpdc_encodings, ptm_counts, ppi, subcellular_data, domains, flexibility, latent_data], axis = 1).dropna()\n",
        "features_list = final_data.columns\n",
        "features_list = features_list.drop(['is_druggable','is_approved_druggable'])\n",
        "features_list = list(features_list)\n",
        "print(features_list)\n",
        "print(len(features_list))\n"
      ]
    },
    {
      "cell_type": "code",
      "execution_count": null,
      "metadata": {
        "id": "OEAjsH6Al1j4"
      },
      "outputs": [],
      "source": [
        "# Train Test Splitting\n",
        "from sklearn.model_selection import train_test_split\n",
        "from sklearn.utils import shuffle\n",
        "from sklearn.preprocessing import StandardScaler, MinMaxScaler\n",
        "from imblearn.over_sampling import ADASYN, SMOTE\n",
        "\n",
        "def get_data(x_sample, y_sample):\n",
        "  return np.array(x_sample), np.array(y_sample)\n",
        "\n",
        "def data_splitting(x_sample, y_sample, mode=\"default\", scaler=\"none\", class_size=600):\n",
        "  druggable_indices = (y_sample == 1)  # Assuming 1 represents druggable\n",
        "  non_druggable_indices = (y_sample == 0)  # Assuming 0 represents non-druggable\n",
        "\n",
        "  druggable_X = x_sample[druggable_indices]\n",
        "  druggable_y = y_sample[druggable_indices]\n",
        "\n",
        "  non_druggable_X = x_sample[non_druggable_indices]\n",
        "  non_druggable_y = y_sample[non_druggable_indices]\n",
        "\n",
        "  druggable_X_remaining, druggable_X_test, druggable_y_remaining, druggable_y_test = train_test_split(druggable_X, druggable_y, test_size=class_size, random_state=123)\n",
        "  non_druggable_X_remaining, non_druggable_X_test, non_druggable_y_remaining, non_druggable_y_test = train_test_split(non_druggable_X, non_druggable_y, test_size= class_size, random_state=123)\n",
        "\n",
        "  X_test = pd.concat((druggable_X_test, non_druggable_X_test))\n",
        "  y_test = pd.concat((druggable_y_test, non_druggable_y_test))\n",
        "  X_train = pd.concat((druggable_X_remaining, non_druggable_X_remaining))\n",
        "  y_train = pd.concat((druggable_y_remaining, non_druggable_y_remaining))\n",
        "  X_train, y_train = shuffle(X_train, y_train, random_state=123)\n",
        "  if mode == \"default\":\n",
        "    pass\n",
        "  elif mode == \"adasyn\":\n",
        "    ada = ADASYN(random_state=42)\n",
        "    X_train, y_train = ada.fit_resample(X_train, y_train)\n",
        "  elif mode == \"smote\":\n",
        "    smt = SMOTE(random_state=42)\n",
        "    X_train, y_train = smt.fit_resample(X_train, y_train)\n",
        "\n",
        "  if scaler == \"std\":\n",
        "    scaler = StandardScaler()\n",
        "    X_train = scaler.fit_transform(X_train)\n",
        "    X_test = scaler.transform(X_test)\n",
        "  elif scaler == \"minmax\":\n",
        "    scaler = MinMaxScaler()\n",
        "    X_train = scaler.fit_transform(X_train)\n",
        "    X_test = scaler.transform(X_test)\n",
        "  elif scaler == \"none\":\n",
        "    pass\n",
        "\n",
        "  return X_train, X_test, y_train, y_test\n"
      ]
    },
    {
      "cell_type": "code",
      "execution_count": null,
      "metadata": {
        "colab": {
          "base_uri": "https://localhost:8080/"
        },
        "id": "w_r8uH57XQUf",
        "outputId": "b9e04ad9-be1b-405d-f157-78a616ac29a3"
      },
      "outputs": [
        {
          "data": {
            "text/plain": [
              "((19585, 186), array([16949,     0,  2636]))"
            ]
          },
          "execution_count": 6,
          "metadata": {},
          "output_type": "execute_result"
        }
      ],
      "source": [
        "# rem-new-data is to extract only those proteins which are either approved druggable or non-druggable\n",
        "# i.e., it excludes proteins which are non-approved but druggable\n",
        "new_data = final_data.copy()\n",
        "new_data['new_column'] = new_data['is_druggable'] + new_data['is_approved_druggable']\n",
        "rem_new_data = new_data[new_data['new_column'] != 1]\n",
        "rem_new_data.shape, np.bincount(rem_new_data['new_column'])"
      ]
    },
    {
      "cell_type": "code",
      "execution_count": null,
      "metadata": {
        "colab": {
          "base_uri": "https://localhost:8080/"
        },
        "id": "S9AHTc6f2rll",
        "outputId": "05a1bf30-af2c-4812-c149-37d94f16f1ac"
      },
      "outputs": [
        {
          "data": {
            "text/plain": [
              "((18385, 183), (1200, 183), (18385,), (1200,))"
            ]
          },
          "execution_count": 7,
          "metadata": {},
          "output_type": "execute_result"
        }
      ],
      "source": [
        "if SETTING == 1:\n",
        "  X_train, X_test, y_train, y_test = data_splitting(final_data[features_list], final_data['is_druggable'])\n",
        "elif SETTING == 2:\n",
        "  X_train, X_test, y_train, y_test = data_splitting(final_data[features_list], final_data['is_approved_druggable'])\n",
        "elif SETTING == 3:\n",
        "  X_train, X_test, y_train, y_test = data_splitting(rem_new_data[features_list], rem_new_data['is_druggable'])\n",
        "\n",
        "X_train.shape, X_test.shape, y_train.shape, y_test.shape"
      ]
    },
    {
      "cell_type": "code",
      "execution_count": null,
      "metadata": {
        "colab": {
          "base_uri": "https://localhost:8080/"
        },
        "id": "abN2nMtUOAoe",
        "outputId": "47eb8ef6-8b48-4dc6-b14c-282b7deab544"
      },
      "outputs": [
        {
          "data": {
            "text/plain": [
              "(array([16349,  2036]), array([600, 600]))"
            ]
          },
          "execution_count": 8,
          "metadata": {},
          "output_type": "execute_result"
        }
      ],
      "source": [
        "import numpy as np\n",
        "np.bincount(y_train), np.bincount(y_test)"
      ]
    },
    {
      "cell_type": "markdown",
      "metadata": {
        "id": "98IfS5R9Qsd5"
      },
      "source": [
        "### Feature Selection Scores using the partition Method"
      ]
    },
    {
      "cell_type": "code",
      "execution_count": null,
      "metadata": {
        "id": "wQqhL_jWQv_N"
      },
      "outputs": [],
      "source": [
        "X_train = np.array(X_train)\n",
        "X_test = np.array(X_test)\n",
        "y_train = np.array(y_train)\n",
        "y_test = np.array(y_test)"
      ]
    },
    {
      "cell_type": "code",
      "execution_count": null,
      "metadata": {
        "colab": {
          "base_uri": "https://localhost:8080/"
        },
        "id": "5fuxM6EqQ26B",
        "outputId": "e568fdab-495d-4781-b795-ef727b8eb5e8"
      },
      "outputs": [
        {
          "data": {
            "text/plain": [
              "((19585, 183), (19585,))"
            ]
          },
          "execution_count": 10,
          "metadata": {},
          "output_type": "execute_result"
        }
      ],
      "source": [
        "# On entire data\n",
        "X_combined = np.concatenate((X_train, X_test))\n",
        "y_combined = np.concatenate((y_train, y_test))\n",
        "\n",
        "# shuffling\n",
        "X_combined, y_combined = shuffle(X_combined, y_combined, random_state=123)\n",
        "X_combined.shape, y_combined.shape"
      ]
    },
    {
      "cell_type": "code",
      "execution_count": null,
      "metadata": {
        "id": "Ml_t3D49RAoH"
      },
      "outputs": [],
      "source": [
        "from sklearn.ensemble import RandomForestClassifier"
      ]
    },
    {
      "cell_type": "code",
      "execution_count": null,
      "metadata": {
        "colab": {
          "base_uri": "https://localhost:8080/"
        },
        "id": "xc8MMkCBSDOJ",
        "outputId": "54082ba9-c4e4-4170-df8e-407355cb41fe"
      },
      "outputs": [
        {
          "data": {
            "text/plain": [
              "array([16949,  2636])"
            ]
          },
          "execution_count": 12,
          "metadata": {},
          "output_type": "execute_result"
        }
      ],
      "source": [
        "np.bincount(y_combined)"
      ]
    },
    {
      "cell_type": "markdown",
      "metadata": {
        "id": "DJs4VkGlr8yd"
      },
      "source": [
        "### Feature Scores using Partition Method of Train Data using several RF models"
      ]
    },
    {
      "cell_type": "code",
      "execution_count": null,
      "metadata": {
        "colab": {
          "base_uri": "https://localhost:8080/"
        },
        "id": "_zqXTHQHSGmc",
        "outputId": "29ededb6-85c5-4faa-9a5c-21e2174a79c8"
      },
      "outputs": [
        {
          "name": "stdout",
          "output_type": "stream",
          "text": [
            "Number of partitions: 6\n",
            "(2825, 183)\n",
            "(2825, 183)\n",
            "(2825, 183)\n",
            "(2825, 183)\n",
            "(2825, 183)\n",
            "(2824, 183)\n"
          ]
        }
      ],
      "source": [
        "X_combined_druggable = X_combined[y_combined == 1]\n",
        "X_combined_non_druggable = X_combined[y_combined == 0]\n",
        "number_partitions = int(X_combined_non_druggable.shape[0]/X_combined_druggable.shape[0])\n",
        "X_combined_non_druggable_partitions = np.array_split(X_combined_non_druggable, number_partitions)\n",
        "\n",
        "print(\"Number of partitions:\", len(X_combined_non_druggable_partitions))\n",
        "for partition in X_combined_non_druggable_partitions:\n",
        "  print(partition.shape)"
      ]
    },
    {
      "cell_type": "code",
      "execution_count": null,
      "metadata": {
        "id": "tiYgaR0FSKEU"
      },
      "outputs": [],
      "source": [
        "rf_models = []\n",
        "training_metrics = {}\n",
        "for i, partition in enumerate(X_combined_non_druggable_partitions):\n",
        "  X_train_new = np.concatenate((X_combined_druggable, partition))\n",
        "  y_train_new = np.concatenate((np.ones(X_combined_druggable.shape[0]), np.zeros(partition.shape[0])))\n",
        "  X_train_new, y_train_new = shuffle(X_train_new, y_train_new, random_state=123)\n",
        "  rf_model = RandomForestClassifier(random_state=27)\n",
        "  rf_model.fit(X_train_new, y_train_new)\n",
        "  rf_models.append(rf_model)\n",
        "  training_metrics[f\"partition_{i}\"] = {\n",
        "      \"accuracy_total\" : rf_model.score(X_train_new, y_train_new),\n",
        "      \"accuracy_druggable\": rf_model.score(X_train_new[y_train_new == 1], y_train_new[y_train_new == 1]),\n",
        "      \"accuracy_non-druggable\": rf_model.score(X_train_new[y_train_new == 0], y_train_new[y_train_new == 0])\n",
        "  }"
      ]
    },
    {
      "cell_type": "code",
      "execution_count": null,
      "metadata": {
        "colab": {
          "base_uri": "https://localhost:8080/"
        },
        "id": "zy7VbgUO0U4n",
        "outputId": "1773dc8d-1e4f-4e62-8256-16abd08f9e12"
      },
      "outputs": [
        {
          "name": "stdout",
          "output_type": "stream",
          "text": [
            "Collecting shap\n",
            "  Downloading shap-0.46.0-cp310-cp310-manylinux_2_12_x86_64.manylinux2010_x86_64.manylinux_2_17_x86_64.manylinux2014_x86_64.whl.metadata (24 kB)\n",
            "Requirement already satisfied: numpy in /usr/local/lib/python3.10/dist-packages (from shap) (1.26.4)\n",
            "Requirement already satisfied: scipy in /usr/local/lib/python3.10/dist-packages (from shap) (1.13.1)\n",
            "Requirement already satisfied: scikit-learn in /usr/local/lib/python3.10/dist-packages (from shap) (1.3.2)\n",
            "Requirement already satisfied: pandas in /usr/local/lib/python3.10/dist-packages (from shap) (2.1.4)\n",
            "Requirement already satisfied: tqdm>=4.27.0 in /usr/local/lib/python3.10/dist-packages (from shap) (4.66.5)\n",
            "Requirement already satisfied: packaging>20.9 in /usr/local/lib/python3.10/dist-packages (from shap) (24.1)\n",
            "Collecting slicer==0.0.8 (from shap)\n",
            "  Downloading slicer-0.0.8-py3-none-any.whl.metadata (4.0 kB)\n",
            "Requirement already satisfied: numba in /usr/local/lib/python3.10/dist-packages (from shap) (0.60.0)\n",
            "Requirement already satisfied: cloudpickle in /usr/local/lib/python3.10/dist-packages (from shap) (2.2.1)\n",
            "Requirement already satisfied: llvmlite<0.44,>=0.43.0dev0 in /usr/local/lib/python3.10/dist-packages (from numba->shap) (0.43.0)\n",
            "Requirement already satisfied: python-dateutil>=2.8.2 in /usr/local/lib/python3.10/dist-packages (from pandas->shap) (2.8.2)\n",
            "Requirement already satisfied: pytz>=2020.1 in /usr/local/lib/python3.10/dist-packages (from pandas->shap) (2024.1)\n",
            "Requirement already satisfied: tzdata>=2022.1 in /usr/local/lib/python3.10/dist-packages (from pandas->shap) (2024.1)\n",
            "Requirement already satisfied: joblib>=1.1.1 in /usr/local/lib/python3.10/dist-packages (from scikit-learn->shap) (1.4.2)\n",
            "Requirement already satisfied: threadpoolctl>=2.0.0 in /usr/local/lib/python3.10/dist-packages (from scikit-learn->shap) (3.5.0)\n",
            "Requirement already satisfied: six>=1.5 in /usr/local/lib/python3.10/dist-packages (from python-dateutil>=2.8.2->pandas->shap) (1.16.0)\n",
            "Downloading shap-0.46.0-cp310-cp310-manylinux_2_12_x86_64.manylinux2010_x86_64.manylinux_2_17_x86_64.manylinux2014_x86_64.whl (540 kB)\n",
            "\u001b[2K   \u001b[90m━━━━━━━━━━━━━━━━━━━━━━━━━━━━━━━━━━━━━━━━\u001b[0m \u001b[32m540.1/540.1 kB\u001b[0m \u001b[31m29.1 MB/s\u001b[0m eta \u001b[36m0:00:00\u001b[0m\n",
            "\u001b[?25hDownloading slicer-0.0.8-py3-none-any.whl (15 kB)\n",
            "Installing collected packages: slicer, shap\n",
            "Successfully installed shap-0.46.0 slicer-0.0.8\n"
          ]
        }
      ],
      "source": [
        "!pip install shap\n",
        "import shap"
      ]
    },
    {
      "cell_type": "code",
      "execution_count": null,
      "metadata": {
        "colab": {
          "base_uri": "https://localhost:8080/"
        },
        "id": "sVXIhWfe0V4m",
        "outputId": "9082ce60-abb1-4569-aeda-40abe5e92807"
      },
      "outputs": [
        {
          "name": "stdout",
          "output_type": "stream",
          "text": [
            "Doing partition 0\n",
            "Doing partition 1\n",
            "Doing partition 2\n",
            "Doing partition 3\n",
            "Doing partition 4\n",
            "Doing partition 5\n"
          ]
        }
      ],
      "source": [
        "explainers = []\n",
        "count = 0\n",
        "for model in rf_models:\n",
        "  print(f\"Doing partition {count}\")\n",
        "  explainer = shap.TreeExplainer(model)\n",
        "  explainers.append(explainer)\n",
        "  count+= 1"
      ]
    },
    {
      "cell_type": "code",
      "execution_count": null,
      "metadata": {
        "colab": {
          "base_uri": "https://localhost:8080/"
        },
        "id": "sAt_ZnOjq9Y8",
        "outputId": "67315276-d3a5-493f-d88d-1e207daaea29"
      },
      "outputs": [
        {
          "name": "stdout",
          "output_type": "stream",
          "text": [
            "Doing partition 0\n",
            "Doing partition 1\n",
            "Doing partition 2\n",
            "Doing partition 3\n",
            "Doing partition 4\n",
            "Doing partition 5\n"
          ]
        }
      ],
      "source": [
        "shap_train_values = []\n",
        "count = 0\n",
        "for explainer in explainers:\n",
        "  print(f\"Doing partition {count}\")\n",
        "  count+= 1\n",
        "  shap_train_values.append(explainer.shap_values(X_test))"
      ]
    },
    {
      "cell_type": "code",
      "execution_count": null,
      "metadata": {
        "colab": {
          "base_uri": "https://localhost:8080/"
        },
        "id": "tgG8CBXq0oZb",
        "outputId": "1671e2d9-f463-46b5-c04e-74cb1eccaebf"
      },
      "outputs": [
        {
          "name": "stdout",
          "output_type": "stream",
          "text": [
            "(1200, 183, 2)\n",
            "(1200, 183, 2)\n",
            "(1200, 183, 2)\n",
            "(1200, 183, 2)\n",
            "(1200, 183, 2)\n",
            "(1200, 183, 2)\n"
          ]
        }
      ],
      "source": [
        "for i in range(len(shap_train_values)):\n",
        "  shap_train_values[i] = np.array(shap_train_values[i])\n",
        "  print(shap_train_values[i].shape)"
      ]
    },
    {
      "cell_type": "code",
      "execution_count": null,
      "metadata": {
        "colab": {
          "base_uri": "https://localhost:8080/"
        },
        "id": "Bqi8PtG20pT4",
        "outputId": "57323eea-bd23-4397-c0fa-cd0bbd47edaf"
      },
      "outputs": [
        {
          "data": {
            "text/plain": [
              "(1200, 183, 2)"
            ]
          },
          "execution_count": 19,
          "metadata": {},
          "output_type": "execute_result"
        }
      ],
      "source": [
        "mean_shap_values = np.mean(shap_train_values, axis=0)\n",
        "mean_shap_values.shape"
      ]
    },
    {
      "cell_type": "code",
      "execution_count": null,
      "metadata": {
        "id": "xXf1R-ez0v7M"
      },
      "outputs": [],
      "source": [
        "features_list = [59, 143, 4, 31, 52, 149, 2, 154, 46, 20]"
      ]
    },
    {
      "cell_type": "code",
      "execution_count": null,
      "metadata": {
        "colab": {
          "base_uri": "https://localhost:8080/",
          "height": 557
        },
        "id": "Z3BSsVym1wCr",
        "outputId": "32d81140-91b2-4df0-f11a-d993c31fa812"
      },
      "outputs": [
        {
          "data": {
            "image/png": "[encoded data removed]",
            "text/plain": [
              "<Figure size 800x550 with 2 Axes>"
            ]
          },
          "metadata": {},
          "output_type": "display_data"
        }
      ],
      "source": [
        "import matplotlib.pyplot as plt\n",
        "\n",
        "shap.summary_plot(mean_shap_values[:,features_list,1], X_test[:,features_list], plot_type=\"violin\", show=False)\n",
        "plt.savefig(\"RF_train_complete_shap.png\")"
      ]
    },
    {
      "cell_type": "code",
      "execution_count": null,
      "metadata": {
        "colab": {
          "base_uri": "https://localhost:8080/"
        },
        "id": "BaAe9_pV01Ir",
        "outputId": "3a60e4be-956b-40af-d41c-e24376dcecf1"
      },
      "outputs": [
        {
          "data": {
            "text/plain": [
              "array([0.00486496, 0.00111508, 0.00269436, 0.00234396, 0.00307959,\n",
              "       0.00197927, 0.00209647, 0.00256983, 0.0025926 , 0.00147235])"
            ]
          },
          "execution_count": 27,
          "metadata": {},
          "output_type": "execute_result"
        }
      ],
      "source": [
        "mean_shap_values[:,features_list,1].shape\n",
        "np.mean(mean_shap_values[:,features_list,1], axis=0)"
      ]
    },
    {
      "cell_type": "code",
      "execution_count": null,
      "metadata": {
        "id": "Erif5oEs04he"
      },
      "outputs": [],
      "source": []
    },
    {
      "cell_type": "code",
      "execution_count": null,
      "metadata": {
        "colab": {
          "base_uri": "https://localhost:8080/",
          "height": 517
        },
        "id": "LHnVB64_14Bu",
        "outputId": "d1d186e3-3e6d-45e2-f161-109241520163"
      },
      "outputs": [
        {
          "data": {
            "image/png": "[encoded data removed]",
            "text/plain": [
              "<Figure size 800x550 with 2 Axes>"
            ]
          },
          "metadata": {},
          "output_type": "display_data"
        }
      ],
      "source": [
        "shap.summary_plot(mean_shap_values[:,features_list,1], X_test[:,features_list], plot_type=\"violin\", show=False)\n",
        "plt.gca().set_xticklabels([])\n",
        "plt.gca().set_xlabel('')\n",
        "plt.gca().set_yticklabels([])\n",
        "plt.savefig(\"RF_train_shap.png\")"
      ]
    },
    {
      "cell_type": "code",
      "execution_count": null,
      "metadata": {
        "colab": {
          "background_save": true
        },
        "id": "ne0rjXkKvw8A"
      },
      "outputs": [],
      "source": []
    }
  ],
  "metadata": {
    "colab": {
      "provenance": []
    },
    "kernelspec": {
      "display_name": "Python 3",
      "name": "python3"
    },
    "language_info": {
      "name": "python"
    }
  },
  "nbformat": 4,
  "nbformat_minor": 0
}
