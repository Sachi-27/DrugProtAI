{
  "cells": [
    {
      "cell_type": "code",
      "execution_count": null,
      "metadata": {
        "colab": {
          "base_uri": "https://localhost:8080/"
        },
        "id": "aQjc9zrHADBD",
        "outputId": "3f56cb93-b93e-4d0f-f2af-d525df2289a3"
      },
      "outputs": [
        {
          "output_type": "stream",
          "name": "stdout",
          "text": [
            "Mounted at /content/drive\n"
          ]
        }
      ],
      "source": [
        "# Mount google drive at /content/drive\n",
        "from google.colab import drive\n",
        "drive.mount('/content/drive')"
      ]
    },
    {
      "cell_type": "code",
      "execution_count": null,
      "metadata": {
        "id": "-scsJ3kLrZrP"
      },
      "outputs": [],
      "source": [
        "SETTING = 3\n",
        "# SETTING = 1 -> Non-Druggable v/s Druggable(Approved+Non-Approved)\n",
        "# SETTING = 2 -> Non-Druggable + Druggable(Non-Approved) v/s Druggable(Approved)\n",
        "# SETTING = 3 -> Non-Druggable v/s Druggable(Approved)"
      ]
    },
    {
      "cell_type": "code",
      "execution_count": null,
      "metadata": {
        "id": "oDq4fXrPr55V"
      },
      "outputs": [],
      "source": [
        "# Setting seeds for reproducibility\n",
        "import numpy as np\n",
        "import tensorflow as tf\n",
        "from sklearn.preprocessing import StandardScaler\n",
        "import json\n",
        "from sklearn.model_selection import train_test_split\n",
        "from sklearn.utils import shuffle\n",
        "from sklearn.preprocessing import StandardScaler, MinMaxScaler\n",
        "from imblearn.over_sampling import ADASYN, SMOTE\n",
        "import pandas as pd\n",
        "np.random.seed(42)\n",
        "tf.random.set_seed(42)\n",
        "import matplotlib.pyplot as plt"
      ]
    },
    {
      "cell_type": "code",
      "execution_count": null,
      "metadata": {
        "colab": {
          "base_uri": "https://localhost:8080/"
        },
        "id": "DWpMSiGBAJZP",
        "outputId": "aaaf13c5-e98d-4d66-a130-10c25a561959"
      },
      "outputs": [
        {
          "output_type": "stream",
          "name": "stdout",
          "text": [
            "Total number of uniprot human verified proteins: 20434\n",
            "Number of druggable proteins: 2915\n",
            "Number of druggable approved proteins: 2233\n",
            "['Sequence Length', 'Molecular Weight', 'GRAVY', 'Isoelectric Point', 'Instability Index', 'Aromaticity', 'Charge at 7', 'Amino Acid Percent A', 'Amino Acid Percent C', 'Amino Acid Percent D', 'Amino Acid Percent E', 'Amino Acid Percent F', 'Amino Acid Percent G', 'Amino Acid Percent H', 'Amino Acid Percent I', 'Amino Acid Percent K', 'Amino Acid Percent L', 'Amino Acid Percent M', 'Amino Acid Percent N', 'Amino Acid Percent P', 'Amino Acid Percent Q', 'Amino Acid Percent R', 'Amino Acid Percent S', 'Amino Acid Percent T', 'Amino Acid Percent V', 'Amino Acid Percent W', 'Amino Acid Percent Y', 'Molar Extinction Coefficient 1', 'Molar Extinction Coefficient 2', 'Secondary Structure helix', 'Secondary Structure turn', 'Secondary Structure sheet', 'aliphatic_aliphatic', 'aliphatic_positive', 'aliphatic_negative', 'aliphatic_uncharged', 'aliphatic_aromatic', 'positive_aliphatic', 'positive_positive', 'positive_negative', 'positive_uncharged', 'positive_aromatic', 'negative_aliphatic', 'negative_positive', 'negative_negative', 'negative_uncharged', 'negative_aromatic', 'uncharged_aliphatic', 'uncharged_positive', 'uncharged_negative', 'uncharged_uncharged', 'uncharged_aromatic', 'aromatic_aliphatic', 'aromatic_positive', 'aromatic_negative', 'aromatic_uncharged', 'aromatic_aromatic', 'Glycosylation', 'Cross-link', 'Modified residue', 'Signal', 'Disulfide bond', 'O-linked', 'N-linked', 'C-linked', 'N-beta-linked', 'S-linked', 'O-alpha-linked', 'binary_count', 'binary_experimental_count', 'xeno_count', 'xeno_experimental_count', 'degree_binary', 'degree_xeno', 'degree_all', 'avg_degree_nbr_binary', 'avg_degree_nbr_xeno', 'avg_degree_nbr_all', 'strongly_connected_component_sizes_all', 'vesicle', 'vacuole membrane', 'lateral cell membrane', 'cell junction', 'parasitophorous vacuole', 'cytoplasm', 'peroxisome', 'late endosome', 'inflammasome', 'postsynapse', 'cornified envelope', 'smooth endoplasmic reticulum membrane', 'synapse', 'golgo apparatus', 'microsome', 'myelin membrane', 'mitochondrion', 'photoreceptor', 'vacuole', 'membrane', 'lipid droplet', 'preautophagosomal structure', 'golgi outpost', 'melanosome', 'presynapse', 'early endosome', 'perikaryon', 'recycling endosome', 'cytoplasmic granule', 'lysosome', 'nucleus', 'midbody', 'target cell membrane', 'extracellular vessicle', 'virion', 'cytoplasmic vesicle', 'rough endoplasmic reticulum', 'endosome', 'cytolitic granule', 'zymogen granule', 'secreted', 'cell membrane', 'cell projection', 'chromosome', 'cell surface', 'endomembrane system', 'sarcoplasmic reticulum', 'dynein axonemal particle', 'cleavage furrow', 'endoplasmic reticulum', 'rrm', 'acidic residues', 'ph', 'krab', 'pdz', 'btb', 'nuclear localization signal', 'fibronectin type-iii', 'disordered', 'ig-like v-type', 'ef-hand', 'sh3', 'ig-like', 'pro residues', 'protein kinase', 'ig-like c2-type', 'basic and acidic residues', 'basic residues', 'egf-like', 'polar residues', 'Mean', 'Mode', 'Min', 'Max', 'Variance', 'Median', 'Standard Deviation', 'Range', 'Min gap', 'Max gap', 'Average gap', 'Min 2-hop gap', 'Max 2-hop gap', 'Average 2-hop gap', 'Latent_Value_1', 'Latent_Value_2', 'Latent_Value_3', 'Latent_Value_4', 'Latent_Value_5', 'Latent_Value_6', 'Latent_Value_7', 'Latent_Value_8', 'Latent_Value_9', 'Latent_Value_10', 'Latent_Value_11', 'Latent_Value_12', 'Latent_Value_13', 'Latent_Value_14', 'Latent_Value_15', 'Latent_Value_16', 'Latent_Value_17', 'Latent_Value_18', 'Latent_Value_19', 'Latent_Value_20']\n",
            "183\n"
          ]
        }
      ],
      "source": [
        "data_file_path = \"/content/drive/MyDrive/protein_props/features/protein_props.json\"\n",
        "druggable_proteins_file_path = \"/content/drive/MyDrive/protein_props/NEW_WORK/druggable_proteins.txt\"\n",
        "investigational_proteins_file_path = \"/content/drive/MyDrive/protein_props/NEW_WORK/investigational_proteins.txt\"\n",
        "\n",
        "with open(data_file_path, 'r') as f:\n",
        "    protein_data = json.load(f)\n",
        "\n",
        "print(\"Total number of uniprot human verified proteins:\", len(protein_data))\n",
        "\n",
        "# Extracting list of druggable and approved druggable proteins\n",
        "with open(druggable_proteins_file_path, 'r') as f:\n",
        "    approved_druggable_proteins = f.read().splitlines()\n",
        "\n",
        "with open(investigational_proteins_file_path, 'r') as f:\n",
        "    investigational_proteins = f.read().splitlines()\n",
        "\n",
        "druggable_proteins = approved_druggable_proteins + investigational_proteins\n",
        "\n",
        "print(\"Number of druggable proteins:\", len(druggable_proteins))\n",
        "print(\"Number of druggable approved proteins:\", len(approved_druggable_proteins))\n",
        "\n",
        "\n",
        "# Fetching feature data for all proteins\n",
        "properties = (pd.read_json(\"/content/drive/MyDrive/protein_props/features/protein_props.json\")).transpose()\n",
        "is_druggable = [1 if i in druggable_proteins else 0 for i in properties.index]\n",
        "is_approved_druggable = [1 if i in approved_druggable_proteins else 0 for i in properties.index]\n",
        "\n",
        "properties[\"is_druggable\"] = is_druggable\n",
        "properties[\"is_approved_druggable\"] = is_approved_druggable\n",
        "\n",
        "PCP_properties = properties.copy()\n",
        "amino_acids = 'ACDEFGHIKLMNPQRSTVWY'\n",
        "amino_acid_percent = {i:[] for i in amino_acids}\n",
        "for i in PCP_properties['Amino Acid Percent']:\n",
        "  for aa in amino_acids:\n",
        "    amino_acid_percent[aa].append(i[aa])\n",
        "for aa in amino_acids:\n",
        "  PCP_properties = pd.concat([PCP_properties, pd.Series(amino_acid_percent[aa], index = PCP_properties.index, name = f\"Amino Acid Percent {aa}\")], axis = 1)\n",
        "\n",
        "PCP_properties[f\"Molar Extinction Coefficient 1\"] = pd.Series([x[0] for x in PCP_properties['Molar Extinction Coefficient']], index = PCP_properties.index)\n",
        "PCP_properties[f\"Molar Extinction Coefficient 2\"] = pd.Series([x[1] for x in PCP_properties['Molar Extinction Coefficient']], index = PCP_properties.index)\n",
        "\n",
        "PCP_properties[f\"Secondary Structure helix\"] = pd.Series([x[0] for x in PCP_properties['Secondary Structure']], index = PCP_properties.index)\n",
        "PCP_properties[f\"Secondary Structure turn\"] = pd.Series([x[1] for x in PCP_properties['Secondary Structure']], index = PCP_properties.index)\n",
        "PCP_properties[f\"Secondary Structure sheet\"] = pd.Series([x[2] for x in PCP_properties['Secondary Structure']], index = PCP_properties.index)\n",
        "\n",
        "PCP_properties.drop(columns = ['Amino Acid Count','Amino Acid Percent',\"Molar Extinction Coefficient\",\"Flexibility\",\"Secondary Structure\",'Sequence'], inplace = True)\n",
        "PCP_properties['Sequence Length'] = PCP_properties['Sequence Length'].astype(int)\n",
        "PCP_properties[['Molecular Weight', 'GRAVY', 'Isoelectric Point', 'Instability Index', 'Aromaticity', 'Charge at 7']] = PCP_properties[['Molecular Weight', 'GRAVY', 'Isoelectric Point', 'Instability Index', 'Aromaticity', 'Charge at 7']].astype(float)\n",
        "\n",
        "with open(\"/content/drive/MyDrive/protein_props/features/gdpc_encodings.json\", 'r') as file:\n",
        "    data = json.load(file)\n",
        "gpdc_encodings = pd.DataFrame(data).transpose()\n",
        "\n",
        "ppi = pd.read_json(\"/content/drive/MyDrive/protein_props/features/ppi.json\").transpose()\n",
        "ppi_network = pd.read_csv(\"/content/drive/MyDrive/protein_props/features/ppi_network_properties.csv\")\n",
        "ppi_network.index = ppi_network['Unnamed: 0']\n",
        "ppi_network.drop(columns = ['Unnamed: 0'], inplace = True)\n",
        "ppi = pd.concat([ppi, ppi_network], axis = 1)\n",
        "\n",
        "glycolisation = pd.read_csv(\"/content/drive/MyDrive/protein_props/features/glycosylation.csv\")\n",
        "glycolisation.index = glycolisation['Unnamed: 0']\n",
        "glycolisation.drop(columns = ['Unnamed: 0'], inplace = True)\n",
        "ptm = pd.read_csv(\"/content/drive/MyDrive/protein_props/features/PTM_counts.csv\")\n",
        "ptm.index = ptm[\"Unnamed: 0\"]\n",
        "ptm.drop(columns = ['Unnamed: 0'], inplace = True)\n",
        "ptm_counts = pd.concat([ptm, glycolisation], axis = 1)\n",
        "\n",
        "with open(\"/content/drive/MyDrive/protein_props/features/subcellular_locations2.json\", 'r') as file:\n",
        "    data = json.load(file)\n",
        "unique_groups = set()\n",
        "for entry in data.values():\n",
        "    if \"general\" in entry:\n",
        "        for general_entry in entry[\"general\"]:\n",
        "            if \"group\" in general_entry: unique_groups.add(general_entry[\"group\"])\n",
        "\n",
        "unique_groups_list = list(unique_groups)\n",
        "\n",
        "rows = []\n",
        "for protein_id in PCP_properties.index:\n",
        "    row = {group: 0 for group in unique_groups_list}\n",
        "    if protein_id in data:\n",
        "        for entry in data[protein_id].get(\"general\", []):\n",
        "            if \"group\" in entry and entry[\"group\"] in unique_groups:\n",
        "                row[entry[\"group\"]] = 1\n",
        "    row[\"protein_id\"] = protein_id\n",
        "    rows.append(row)\n",
        "\n",
        "subcellular_data = pd.DataFrame(rows).set_index(\"protein_id\")\n",
        "\n",
        "domains = pd.read_csv(\"/content/drive/MyDrive/protein_props/features/data_top20_updated.csv\")\n",
        "domains.index = domains['Unnamed: 0']\n",
        "domains.drop(columns = ['Unnamed: 0'], inplace = True)\n",
        "\n",
        "flexibility = pd.read_csv(\"/content/drive/MyDrive/protein_props/features/flexibility_properties.csv\")\n",
        "flexibility.index = flexibility['Unnamed: 0']\n",
        "flexibility.drop(columns = ['Unnamed: 0'], inplace = True)\n",
        "\n",
        "latent_data = pd.read_csv(\"/content/drive/MyDrive/protein_props/features/latent_values.csv\").transpose()\n",
        "latent_data.columns = [f\"Latent_Value_{i+1}\" for i in latent_data.columns]\n",
        "final_data = pd.concat([PCP_properties,gpdc_encodings, ptm_counts, ppi, subcellular_data, domains, flexibility, latent_data], axis = 1).dropna()\n",
        "features_list = final_data.columns\n",
        "features_list = features_list.drop(['is_druggable','is_approved_druggable'])\n",
        "features_list = list(features_list)\n",
        "print(features_list)\n",
        "print(len(features_list))\n"
      ]
    },
    {
      "cell_type": "code",
      "execution_count": null,
      "metadata": {
        "id": "OEAjsH6Al1j4"
      },
      "outputs": [],
      "source": [
        "# Train Test Splitting\n",
        "def data_splitting(x_sample, y_sample, mode=\"default\", scaler=\"none\"):\n",
        "  druggable_indices = (y_sample == 1)  # Assuming 1 represents druggable\n",
        "  non_druggable_indices = (y_sample == 0)  # Assuming 0 represents non-druggable\n",
        "\n",
        "  druggable_X = x_sample[druggable_indices]\n",
        "  druggable_y = y_sample[druggable_indices]\n",
        "\n",
        "  non_druggable_X = x_sample[non_druggable_indices]\n",
        "  non_druggable_y = y_sample[non_druggable_indices]\n",
        "\n",
        "  class_size = 300\n",
        "  druggable_X_remaining, druggable_X_test, druggable_y_remaining, druggable_y_test = train_test_split(druggable_X, druggable_y, test_size=class_size, random_state=123)\n",
        "  non_druggable_X_remaining, non_druggable_X_test, non_druggable_y_remaining, non_druggable_y_test = train_test_split(non_druggable_X, non_druggable_y, test_size= class_size, random_state=123)\n",
        "\n",
        "  X_test = pd.concat((druggable_X_test, non_druggable_X_test))\n",
        "  y_test = pd.concat((druggable_y_test, non_druggable_y_test))\n",
        "  X_train = pd.concat((druggable_X_remaining, non_druggable_X_remaining))\n",
        "  y_train = pd.concat((druggable_y_remaining, non_druggable_y_remaining))\n",
        "  X_train, y_train = shuffle(X_train, y_train, random_state=123)\n",
        "  if mode == \"default\":\n",
        "    pass\n",
        "  elif mode == \"adasyn\":\n",
        "    ada = ADASYN(random_state=42)\n",
        "    X_train, y_train = ada.fit_resample(X_train, y_train)\n",
        "  elif mode == \"smote\":\n",
        "    smt = SMOTE(random_state=42)\n",
        "    X_train, y_train = smt.fit_resample(X_train, y_train)\n",
        "\n",
        "  if scaler == \"std\":\n",
        "    scaler = StandardScaler()\n",
        "    X_train = scaler.fit_transform(X_train)\n",
        "    X_test = scaler.transform(X_test)\n",
        "  elif scaler == \"minmax\":\n",
        "    scaler = MinMaxScaler()\n",
        "    X_train = scaler.fit_transform(X_train)\n",
        "    X_test = scaler.transform(X_test)\n",
        "  elif scaler == \"none\":\n",
        "    pass\n",
        "\n",
        "  return X_train, X_test, y_train, y_test\n"
      ]
    },
    {
      "cell_type": "code",
      "execution_count": null,
      "metadata": {
        "colab": {
          "base_uri": "https://localhost:8080/"
        },
        "id": "w_r8uH57XQUf",
        "outputId": "38675d66-23d1-4852-c9a5-be79b6bec72d"
      },
      "outputs": [
        {
          "output_type": "execute_result",
          "data": {
            "text/plain": [
              "((19596, 186), array([17377,     0,  2219]))"
            ]
          },
          "metadata": {},
          "execution_count": 21
        }
      ],
      "source": [
        "# rem-new-data is to extract only those proteins which are either approved druggable or non-druggable\n",
        "# i.e., it excludes proteins which are non-approved but druggable\n",
        "new_data = final_data.copy()\n",
        "new_data['new_column'] = new_data['is_druggable'] + new_data['is_approved_druggable']\n",
        "rem_new_data = new_data[new_data['new_column'] != 1]\n",
        "rem_new_data.shape, np.bincount(rem_new_data['new_column'])"
      ]
    },
    {
      "cell_type": "code",
      "execution_count": null,
      "metadata": {
        "colab": {
          "base_uri": "https://localhost:8080/"
        },
        "id": "S9AHTc6f2rll",
        "outputId": "76110462-e558-483a-c2dc-86bdd3cc6672"
      },
      "outputs": [
        {
          "output_type": "execute_result",
          "data": {
            "text/plain": [
              "((18996, 183), (600, 183), (18996,), (600,))"
            ]
          },
          "metadata": {},
          "execution_count": 22
        }
      ],
      "source": [
        "if SETTING == 1:\n",
        "  X_train, X_test, y_train, y_test = data_splitting(final_data[features_list], final_data['is_druggable'])\n",
        "elif SETTING == 2:\n",
        "  X_train, X_test, y_train, y_test = data_splitting(final_data[features_list], final_data['is_approved_druggable'])\n",
        "elif SETTING == 3:\n",
        "  X_train, X_test, y_train, y_test = data_splitting(rem_new_data[features_list], rem_new_data['is_druggable'])\n",
        "\n",
        "X_train.shape, X_test.shape, y_train.shape, y_test.shape"
      ]
    },
    {
      "cell_type": "code",
      "execution_count": null,
      "metadata": {
        "colab": {
          "base_uri": "https://localhost:8080/"
        },
        "id": "abN2nMtUOAoe",
        "outputId": "a9498b13-d009-4e1a-9038-85fa77704ce3"
      },
      "outputs": [
        {
          "output_type": "execute_result",
          "data": {
            "text/plain": [
              "(array([17077,  1919]), array([300, 300]))"
            ]
          },
          "metadata": {},
          "execution_count": 23
        }
      ],
      "source": [
        "import numpy as np\n",
        "np.bincount(y_train), np.bincount(y_test)"
      ]
    },
    {
      "cell_type": "markdown",
      "metadata": {
        "id": "98IfS5R9Qsd5"
      },
      "source": [
        "### Feature Selection Scores using the partition Method"
      ]
    },
    {
      "cell_type": "code",
      "execution_count": null,
      "metadata": {
        "id": "wQqhL_jWQv_N"
      },
      "outputs": [],
      "source": [
        "X_train = np.array(X_train)\n",
        "X_test = np.array(X_test)\n",
        "y_train = np.array(y_train)\n",
        "y_test = np.array(y_test)"
      ]
    },
    {
      "cell_type": "code",
      "execution_count": null,
      "metadata": {
        "id": "5fuxM6EqQ26B"
      },
      "outputs": [],
      "source": [
        "# # On entire data\n",
        "# X_combined = np.concatenate((X_train, X_test))\n",
        "# y_combined = np.concatenate((y_train, y_test))\n",
        "\n",
        "# # shuffling\n",
        "# X_combined, y_combined = shuffle(X_combined, y_combined, random_state=123)\n",
        "# X_combined.shape, y_combined.shape"
      ]
    },
    {
      "cell_type": "code",
      "execution_count": null,
      "metadata": {
        "id": "Ml_t3D49RAoH"
      },
      "outputs": [],
      "source": [
        "from sklearn.ensemble import RandomForestClassifier"
      ]
    },
    {
      "cell_type": "markdown",
      "metadata": {
        "id": "DJs4VkGlr8yd"
      },
      "source": [
        "### Feature Scores using Partition Method of Train Data using several RF models"
      ]
    },
    {
      "cell_type": "code",
      "execution_count": null,
      "metadata": {
        "colab": {
          "base_uri": "https://localhost:8080/"
        },
        "id": "_zqXTHQHSGmc",
        "outputId": "ea1c7245-021e-4235-8921-f02121fe0892"
      },
      "outputs": [
        {
          "output_type": "stream",
          "name": "stdout",
          "text": [
            "Number of partitions: 9\n",
            "(1898, 183)\n",
            "(1898, 183)\n",
            "(1898, 183)\n",
            "(1898, 183)\n",
            "(1897, 183)\n",
            "(1897, 183)\n",
            "(1897, 183)\n",
            "(1897, 183)\n",
            "(1897, 183)\n"
          ]
        }
      ],
      "source": [
        "X_train_druggable = X_train[y_train == 1]\n",
        "X_train_non_druggable = X_train[y_train == 0]\n",
        "number_partitions = round(X_train_non_druggable.shape[0]/X_train_druggable.shape[0])\n",
        "X_train_non_druggable_partitions = np.array_split(X_train_non_druggable, number_partitions)\n",
        "\n",
        "print(\"Number of partitions:\", len(X_train_non_druggable_partitions))\n",
        "for partition in X_train_non_druggable_partitions:\n",
        "  print(partition.shape)"
      ]
    },
    {
      "cell_type": "code",
      "execution_count": null,
      "metadata": {
        "id": "tiYgaR0FSKEU",
        "colab": {
          "base_uri": "https://localhost:8080/"
        },
        "outputId": "922965ac-9e6b-4ad5-ec94-631810a9f33c"
      },
      "outputs": [
        {
          "output_type": "execute_result",
          "data": {
            "text/plain": [
              "9"
            ]
          },
          "metadata": {},
          "execution_count": 31
        }
      ],
      "source": [
        "from sklearn.ensemble import RandomForestClassifier\n",
        "\n",
        "def calculate_feature_scores(seed):\n",
        "  rf_models = []\n",
        "  for i, partition in enumerate(X_train_non_druggable_partitions):\n",
        "    X_train_new = np.concatenate((X_train_druggable, partition))\n",
        "    y_train_new = np.concatenate((np.ones(X_train_druggable.shape[0]), np.zeros(partition.shape[0])))\n",
        "    X_train_new, y_train_new = shuffle(X_train_new, y_train_new, random_state=seed)\n",
        "    rf_model_fs2 = RandomForestClassifier(random_state=seed)\n",
        "    rf_model_fs2.fit(X_train_new, y_train_new)\n",
        "    rf_models.append(rf_model_fs2)\n",
        "  mean_feature_importances = np.mean([model.feature_importances_ for model in rf_models], axis=0)\n",
        "  return rf_models, mean_feature_importances\n",
        "\n",
        "rf_models, mean_feature_importances = calculate_feature_scores(seed=42)\n",
        "len(rf_models)"
      ]
    },
    {
      "cell_type": "code",
      "execution_count": null,
      "metadata": {
        "colab": {
          "base_uri": "https://localhost:8080/"
        },
        "id": "zy7VbgUO0U4n",
        "outputId": "154cf9a9-db24-4932-e656-a6a43c8bcffb"
      },
      "outputs": [
        {
          "output_type": "stream",
          "name": "stdout",
          "text": [
            "Requirement already satisfied: shap in /usr/local/lib/python3.11/dist-packages (0.46.0)\n",
            "Requirement already satisfied: numpy in /usr/local/lib/python3.11/dist-packages (from shap) (1.26.4)\n",
            "Requirement already satisfied: scipy in /usr/local/lib/python3.11/dist-packages (from shap) (1.13.1)\n",
            "Requirement already satisfied: scikit-learn in /usr/local/lib/python3.11/dist-packages (from shap) (1.6.1)\n",
            "Requirement already satisfied: pandas in /usr/local/lib/python3.11/dist-packages (from shap) (2.2.2)\n",
            "Requirement already satisfied: tqdm>=4.27.0 in /usr/local/lib/python3.11/dist-packages (from shap) (4.67.1)\n",
            "Requirement already satisfied: packaging>20.9 in /usr/local/lib/python3.11/dist-packages (from shap) (24.2)\n",
            "Requirement already satisfied: slicer==0.0.8 in /usr/local/lib/python3.11/dist-packages (from shap) (0.0.8)\n",
            "Requirement already satisfied: numba in /usr/local/lib/python3.11/dist-packages (from shap) (0.61.0)\n",
            "Requirement already satisfied: cloudpickle in /usr/local/lib/python3.11/dist-packages (from shap) (3.1.1)\n",
            "Requirement already satisfied: llvmlite<0.45,>=0.44.0dev0 in /usr/local/lib/python3.11/dist-packages (from numba->shap) (0.44.0)\n",
            "Requirement already satisfied: python-dateutil>=2.8.2 in /usr/local/lib/python3.11/dist-packages (from pandas->shap) (2.8.2)\n",
            "Requirement already satisfied: pytz>=2020.1 in /usr/local/lib/python3.11/dist-packages (from pandas->shap) (2025.1)\n",
            "Requirement already satisfied: tzdata>=2022.7 in /usr/local/lib/python3.11/dist-packages (from pandas->shap) (2025.1)\n",
            "Requirement already satisfied: joblib>=1.2.0 in /usr/local/lib/python3.11/dist-packages (from scikit-learn->shap) (1.4.2)\n",
            "Requirement already satisfied: threadpoolctl>=3.1.0 in /usr/local/lib/python3.11/dist-packages (from scikit-learn->shap) (3.5.0)\n",
            "Requirement already satisfied: six>=1.5 in /usr/local/lib/python3.11/dist-packages (from python-dateutil>=2.8.2->pandas->shap) (1.17.0)\n"
          ]
        }
      ],
      "source": [
        "!pip install shap\n",
        "import shap"
      ]
    },
    {
      "cell_type": "code",
      "execution_count": null,
      "metadata": {
        "colab": {
          "base_uri": "https://localhost:8080/"
        },
        "id": "sVXIhWfe0V4m",
        "outputId": "cab05994-bcad-4826-bf78-ea3c68f64a12"
      },
      "outputs": [
        {
          "output_type": "stream",
          "name": "stdout",
          "text": [
            "0\n",
            "1\n",
            "2\n",
            "3\n",
            "4\n",
            "5\n",
            "6\n",
            "7\n",
            "8\n"
          ]
        }
      ],
      "source": [
        "import shap\n",
        "explainers = []\n",
        "for model in rf_models:\n",
        "  explainer = shap.TreeExplainer(model)\n",
        "  explainers.append(explainer)\n",
        "\n",
        "shap_values_test = []\n",
        "i = 0\n",
        "for explainer in explainers:\n",
        "  print(i)\n",
        "  i += 1\n",
        "  shap_values_test.append(explainer.shap_values(X_test))"
      ]
    },
    {
      "cell_type": "code",
      "execution_count": null,
      "metadata": {
        "colab": {
          "base_uri": "https://localhost:8080/"
        },
        "id": "sAt_ZnOjq9Y8",
        "outputId": "8fc03d95-ff98-4f08-f2d3-fd95e8b2f1d8"
      },
      "outputs": [
        {
          "output_type": "stream",
          "name": "stdout",
          "text": [
            "(600, 183, 2)\n",
            "(600, 183, 2)\n",
            "(600, 183, 2)\n",
            "(600, 183, 2)\n",
            "(600, 183, 2)\n",
            "(600, 183, 2)\n",
            "(600, 183, 2)\n",
            "(600, 183, 2)\n",
            "(600, 183, 2)\n"
          ]
        }
      ],
      "source": [
        "for i in range(len(shap_values_test)):\n",
        "  print(shap_values_test[i].shape)"
      ]
    },
    {
      "cell_type": "code",
      "execution_count": null,
      "metadata": {
        "colab": {
          "base_uri": "https://localhost:8080/"
        },
        "id": "tgG8CBXq0oZb",
        "outputId": "2764c833-e2b0-46ca-97c7-7c2390391443"
      },
      "outputs": [
        {
          "output_type": "execute_result",
          "data": {
            "text/plain": [
              "(600, 183, 2)"
            ]
          },
          "metadata": {},
          "execution_count": 34
        }
      ],
      "source": [
        "mean_shap_values = np.mean(shap_values_test, axis=0)\n",
        "mean_shap_values.shape"
      ]
    },
    {
      "cell_type": "code",
      "source": [
        "feature_list = [59, 143, 31, 4, 52, 149, 154, 2, 20, 14]"
      ],
      "metadata": {
        "id": "BrzQLxeEvZme"
      },
      "execution_count": null,
      "outputs": []
    },
    {
      "cell_type": "code",
      "source": [],
      "metadata": {
        "id": "mLgd63hRwHlk"
      },
      "execution_count": null,
      "outputs": []
    },
    {
      "cell_type": "code",
      "source": [
        "shap.summary_plot(mean_shap_values[:,feature_list,0], X_test[:,feature_list], plot_type=\"violin\", show=False)"
      ],
      "metadata": {
        "colab": {
          "base_uri": "https://localhost:8080/",
          "height": 557
        },
        "id": "DEsNmXD1vc8P",
        "outputId": "cdf876ca-e265-49b9-d82d-e647cc102ff8"
      },
      "execution_count": null,
      "outputs": [
        {
          "output_type": "display_data",
          "data": {
            "text/plain": [
              "<Figure size 800x550 with 2 Axes>"
            ],
            "image/png": "[encoded data removed]"
          },
          "metadata": {}
        }
      ]
    },
    {
      "cell_type": "code",
      "source": [
        "shap.summary_plot(mean_shap_values[:,feature_list,0], X_test[:,feature_list], plot_type=\"violin\", show=False)\n",
        "plt.gca().set_xticklabels([])\n",
        "plt.gca().set_xlabel('')\n",
        "plt.gca().set_yticklabels([])\n",
        "plt.savefig(\"RF_train_shap.png\")"
      ],
      "metadata": {
        "colab": {
          "base_uri": "https://localhost:8080/",
          "height": 517
        },
        "id": "AcMPmw87vdDt",
        "outputId": "21562c39-3c9f-45d8-e117-022af01a0979"
      },
      "execution_count": null,
      "outputs": [
        {
          "output_type": "display_data",
          "data": {
            "text/plain": [
              "<Figure size 800x550 with 2 Axes>"
            ],
            "image/png": "[encoded data removed]"
          },
          "metadata": {}
        }
      ]
    },
    {
      "cell_type": "code",
      "execution_count": null,
      "metadata": {
        "colab": {
          "background_save": true
        },
        "id": "ne0rjXkKvw8A"
      },
      "outputs": [],
      "source": []
    }
  ],
  "metadata": {
    "colab": {
      "provenance": []
    },
    "kernelspec": {
      "display_name": "Python 3",
      "name": "python3"
    },
    "language_info": {
      "name": "python"
    }
  },
  "nbformat": 4,
  "nbformat_minor": 0
}