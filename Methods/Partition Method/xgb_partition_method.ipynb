{
  "cells": [
    {
      "cell_type": "code",
      "execution_count": null,
      "metadata": {
        "id": "oDq4fXrPr55V"
      },
      "outputs": [],
      "source": [
        "# Setting seeds for reproducibility\n",
        "import numpy as np\n",
        "import tensorflow as tf\n",
        "from sklearn.preprocessing import StandardScaler\n",
        "import json\n",
        "from sklearn.model_selection import train_test_split\n",
        "from sklearn.utils import shuffle\n",
        "from sklearn.preprocessing import StandardScaler, MinMaxScaler\n",
        "from imblearn.over_sampling import ADASYN, SMOTE\n",
        "import pandas as pd\n",
        "np.random.seed(42)\n",
        "tf.random.set_seed(42)"
      ]
    },
    {
      "cell_type": "code",
      "execution_count": null,
      "metadata": {},
      "outputs": [],
      "source": [
        "SETTING = 3"
      ]
    },
    {
      "cell_type": "code",
      "execution_count": null,
      "metadata": {
        "colab": {
          "base_uri": "https://localhost:8080/"
        },
        "id": "DWpMSiGBAJZP",
        "outputId": "447aaf7f-28c5-41e2-8e12-c8d5ce20d6dd"
      },
      "outputs": [
        {
          "name": "stdout",
          "output_type": "stream",
          "text": [
            "Total number of uniprot human verified proteins: 20434\n",
            "Number of druggable proteins: 3345\n",
            "Number of approved druggable proteins: 2652\n",
            "['Sequence Length', 'Molecular Weight', 'GRAVY', 'Isoelectric Point', 'Instability Index', 'Aromaticity', 'Charge at 7', 'Amino Acid Percent A', 'Amino Acid Percent C', 'Amino Acid Percent D', 'Amino Acid Percent E', 'Amino Acid Percent F', 'Amino Acid Percent G', 'Amino Acid Percent H', 'Amino Acid Percent I', 'Amino Acid Percent K', 'Amino Acid Percent L', 'Amino Acid Percent M', 'Amino Acid Percent N', 'Amino Acid Percent P', 'Amino Acid Percent Q', 'Amino Acid Percent R', 'Amino Acid Percent S', 'Amino Acid Percent T', 'Amino Acid Percent V', 'Amino Acid Percent W', 'Amino Acid Percent Y', 'Molar Extinction Coefficient 1', 'Molar Extinction Coefficient 2', 'Secondary Structure helix', 'Secondary Structure turn', 'Secondary Structure sheet', 'aliphatic_aliphatic', 'aliphatic_positive', 'aliphatic_negative', 'aliphatic_uncharged', 'aliphatic_aromatic', 'positive_aliphatic', 'positive_positive', 'positive_negative', 'positive_uncharged', 'positive_aromatic', 'negative_aliphatic', 'negative_positive', 'negative_negative', 'negative_uncharged', 'negative_aromatic', 'uncharged_aliphatic', 'uncharged_positive', 'uncharged_negative', 'uncharged_uncharged', 'uncharged_aromatic', 'aromatic_aliphatic', 'aromatic_positive', 'aromatic_negative', 'aromatic_uncharged', 'aromatic_aromatic', 'Glycosylation', 'Cross-link', 'Modified residue', 'Signal', 'Disulfide bond', 'O-linked', 'N-linked', 'C-linked', 'N-beta-linked', 'S-linked', 'O-alpha-linked', 'binary_count', 'binary_experimental_count', 'xeno_count', 'xeno_experimental_count', 'degree_binary', 'degree_xeno', 'degree_all', 'avg_degree_nbr_binary', 'avg_degree_nbr_xeno', 'avg_degree_nbr_all', 'strongly_connected_component_sizes_all', 'perikaryon', 'lipid droplet', 'nucleus', 'lateral cell membrane', 'zymogen granule', 'vacuole membrane', 'microsome', 'golgi outpost', 'lysosome', 'parasitophorous vacuole', 'vesicle', 'rough endoplasmic reticulum', 'cytoplasm', 'early endosome', 'virion', 'smooth endoplasmic reticulum membrane', 'inflammasome', 'preautophagosomal structure', 'extracellular vessicle', 'recycling endosome', 'peroxisome', 'endomembrane system', 'sarcoplasmic reticulum', 'late endosome', 'cytoplasmic granule', 'membrane', 'myelin membrane', 'postsynapse', 'dynein axonemal particle', 'target cell membrane', 'secreted', 'photoreceptor', 'melanosome', 'cleavage furrow', 'cell membrane', 'endosome', 'presynapse', 'vacuole', 'cytoplasmic vesicle', 'endoplasmic reticulum', 'cell junction', 'cell projection', 'synapse', 'golgo apparatus', 'chromosome', 'cell surface', 'mitochondrion', 'cornified envelope', 'midbody', 'cytolitic granule', 'rrm', 'acidic residues', 'ph', 'krab', 'pdz', 'btb', 'nuclear localization signal', 'fibronectin type-iii', 'disordered', 'ig-like v-type', 'ef-hand', 'sh3', 'ig-like', 'pro residues', 'protein kinase', 'ig-like c2-type', 'basic and acidic residues', 'basic residues', 'egf-like', 'polar residues', 'Mean', 'Mode', 'Min', 'Max', 'Variance', 'Median', 'Standard Deviation', 'Range', 'Min gap', 'Max gap', 'Average gap', 'Min 2-hop gap', 'Max 2-hop gap', 'Average 2-hop gap', 'Latent_Value_1', 'Latent_Value_2', 'Latent_Value_3', 'Latent_Value_4', 'Latent_Value_5', 'Latent_Value_6', 'Latent_Value_7', 'Latent_Value_8', 'Latent_Value_9', 'Latent_Value_10', 'Latent_Value_11', 'Latent_Value_12', 'Latent_Value_13', 'Latent_Value_14', 'Latent_Value_15', 'Latent_Value_16', 'Latent_Value_17', 'Latent_Value_18', 'Latent_Value_19', 'Latent_Value_20']\n",
            "183\n"
          ]
        }
      ],
      "source": [
        "data_file_path = \"../../Features/PCFs/files_for_ml/protein_props.json\"\n",
        "druggable_proteins_file_path = \"../../DrugBank/druggable_proteins.txt\"\n",
        "approved_druggable_proteins_file_path = \"../../DrugBank/approved_druggable_proteins.txt\"\n",
        "\n",
        "with open(data_file_path, 'r') as f:\n",
        "    protein_data = json.load(f)\n",
        "\n",
        "print(\"Total number of uniprot human verified proteins:\", len(protein_data))\n",
        "\n",
        "# Extracting list of druggable and approved druggable proteins\n",
        "with open(druggable_proteins_file_path, 'r') as f:\n",
        "    druggable_proteins = f.read().splitlines()\n",
        "\n",
        "with open(approved_druggable_proteins_file_path, 'r') as f:\n",
        "    approved_druggable_proteins = f.read().splitlines()\n",
        "\n",
        "print(\"Number of druggable proteins:\", len(druggable_proteins))\n",
        "print(\"Number of approved druggable proteins:\", len(approved_druggable_proteins))\n",
        "\n",
        "\n",
        "# Fetching feature data for all proteins\n",
        "properties = (pd.read_json(\"../../Features/PCFs/files_for_ml/protein_props.json\")).transpose()\n",
        "is_druggable = [1 if i in druggable_proteins else 0 for i in properties.index]\n",
        "is_approved_druggable = [1 if i in approved_druggable_proteins else 0 for i in properties.index]\n",
        "\n",
        "properties[\"is_druggable\"] = is_druggable\n",
        "properties[\"is_approved_druggable\"] = is_approved_druggable\n",
        "\n",
        "PCP_properties = properties.copy()\n",
        "amino_acids = 'ACDEFGHIKLMNPQRSTVWY'\n",
        "amino_acid_percent = {i:[] for i in amino_acids}\n",
        "for i in PCP_properties['Amino Acid Percent']:\n",
        "  for aa in amino_acids:\n",
        "    amino_acid_percent[aa].append(i[aa])\n",
        "for aa in amino_acids:\n",
        "  PCP_properties = pd.concat([PCP_properties, pd.Series(amino_acid_percent[aa], index = PCP_properties.index, name = f\"Amino Acid Percent {aa}\")], axis = 1)\n",
        "\n",
        "PCP_properties[f\"Molar Extinction Coefficient 1\"] = pd.Series([x[0] for x in PCP_properties['Molar Extinction Coefficient']], index = PCP_properties.index)\n",
        "PCP_properties[f\"Molar Extinction Coefficient 2\"] = pd.Series([x[1] for x in PCP_properties['Molar Extinction Coefficient']], index = PCP_properties.index)\n",
        "\n",
        "PCP_properties[f\"Secondary Structure helix\"] = pd.Series([x[0] for x in PCP_properties['Secondary Structure']], index = PCP_properties.index)\n",
        "PCP_properties[f\"Secondary Structure turn\"] = pd.Series([x[1] for x in PCP_properties['Secondary Structure']], index = PCP_properties.index)\n",
        "PCP_properties[f\"Secondary Structure sheet\"] = pd.Series([x[2] for x in PCP_properties['Secondary Structure']], index = PCP_properties.index)\n",
        "\n",
        "PCP_properties.drop(columns = ['Amino Acid Count','Amino Acid Percent',\"Molar Extinction Coefficient\",\"Flexibility\",\"Secondary Structure\",'Sequence'], inplace = True)\n",
        "PCP_properties['Sequence Length'] = PCP_properties['Sequence Length'].astype(int)\n",
        "PCP_properties[['Molecular Weight', 'GRAVY', 'Isoelectric Point', 'Instability Index', 'Aromaticity', 'Charge at 7']] = PCP_properties[['Molecular Weight', 'GRAVY', 'Isoelectric Point', 'Instability Index', 'Aromaticity', 'Charge at 7']].astype(float)\n",
        "\n",
        "with open(\"/content/drive/MyDrive/protein_props/features/gdpc_encodings.json\", 'r') as file:\n",
        "    data = json.load(file)\n",
        "gpdc_encodings = pd.DataFrame(data).transpose()\n",
        "\n",
        "ppi = pd.read_json(\"../../Features/PPIs/files_for_ml/ppi.json\").transpose()\n",
        "ppi_network = pd.read_csv(\"../../Features/PPIs/files_for_ml/ppi_network_properties.csv\")\n",
        "ppi_network.index = ppi_network['Unnamed: 0']\n",
        "ppi_network.drop(columns = ['Unnamed: 0'], inplace = True)\n",
        "ppi = pd.concat([ppi, ppi_network], axis = 1)\n",
        "\n",
        "glycolisation = pd.read_csv(\"../../Features/PTMs/files_for_ml/glycosylation.csv\")\n",
        "glycolisation.index = glycolisation['Unnamed: 0']\n",
        "glycolisation.drop(columns = ['Unnamed: 0'], inplace = True)\n",
        "ptm = pd.read_csv(\"../../Features/PTMs/files_for_ml/PTM_counts.csv\")\n",
        "ptm.index = ptm[\"Unnamed: 0\"]\n",
        "ptm.drop(columns = ['Unnamed: 0'], inplace = True)\n",
        "ptm_counts = pd.concat([ptm, glycolisation], axis = 1)\n",
        "\n",
        "with open(\"../../Features/SCL/files_for_ml/subcellular_locations2.json\", 'r') as file:\n",
        "    data = json.load(file)\n",
        "unique_groups = set()\n",
        "for entry in data.values():\n",
        "    if \"general\" in entry:\n",
        "        for general_entry in entry[\"general\"]:\n",
        "            if \"group\" in general_entry: unique_groups.add(general_entry[\"group\"])\n",
        "\n",
        "unique_groups_list = list(unique_groups)\n",
        "\n",
        "rows = []\n",
        "for protein_id in PCP_properties.index:\n",
        "    row = {group: 0 for group in unique_groups_list}\n",
        "    if protein_id in data:\n",
        "        for entry in data[protein_id].get(\"general\", []):\n",
        "            if \"group\" in entry and entry[\"group\"] in unique_groups:\n",
        "                row[entry[\"group\"]] = 1\n",
        "    row[\"protein_id\"] = protein_id\n",
        "    rows.append(row)\n",
        "\n",
        "subcellular_data = pd.DataFrame(rows).set_index(\"protein_id\")\n",
        "\n",
        "domains = pd.read_csv(\"../../Features/Domains/files_for_ml/data_top20.csv\")\n",
        "domains.index = domains['Unnamed: 0']\n",
        "domains.drop(columns = ['Unnamed: 0'], inplace = True)\n",
        "\n",
        "flexibility = pd.read_csv(\"../../Features/PCFs/files_for_ml/flexibility_properties.csv\")\n",
        "flexibility.index = flexibility['Unnamed: 0']\n",
        "flexibility.drop(columns = ['Unnamed: 0'], inplace = True)\n",
        "\n",
        "latent_data = pd.read_csv(\"../../Features/Latents/files_for_ml/latent_values.csv\").transpose()\n",
        "latent_data.columns = [f\"Latent_Value_{i+1}\" for i in latent_data.columns]\n",
        "final_data = pd.concat([PCP_properties,gpdc_encodings, ptm_counts, ppi, subcellular_data, domains, flexibility, latent_data], axis = 1).dropna()\n",
        "features_list = final_data.columns\n",
        "features_list = features_list.drop(['is_druggable','is_approved_druggable'])\n",
        "features_list = list(features_list)\n",
        "print(features_list)\n",
        "print(len(features_list))\n"
      ]
    },
    {
      "cell_type": "code",
      "execution_count": null,
      "metadata": {
        "id": "OEAjsH6Al1j4"
      },
      "outputs": [],
      "source": [
        "# Train Test Splitting\n",
        "from sklearn.model_selection import train_test_split\n",
        "from sklearn.utils import shuffle\n",
        "from sklearn.preprocessing import StandardScaler, MinMaxScaler\n",
        "from imblearn.over_sampling import ADASYN, SMOTE\n",
        "\n",
        "def get_data(x_sample, y_sample):\n",
        "  return np.array(x_sample), np.array(y_sample)\n",
        "\n",
        "def data_splitting(x_sample, y_sample, mode=\"default\", scaler=\"none\", class_size=600, random_state=123):\n",
        "  druggable_indices = (y_sample == 1)  # Assuming 1 represents druggable\n",
        "  non_druggable_indices = (y_sample == 0)  # Assuming 0 represents non-druggable\n",
        "\n",
        "  druggable_X = x_sample[druggable_indices]\n",
        "  druggable_y = y_sample[druggable_indices]\n",
        "\n",
        "  non_druggable_X = x_sample[non_druggable_indices]\n",
        "  non_druggable_y = y_sample[non_druggable_indices]\n",
        "\n",
        "  druggable_X_remaining, druggable_X_test, druggable_y_remaining, druggable_y_test = train_test_split(druggable_X, druggable_y, test_size=class_size, random_state=random_state)\n",
        "  non_druggable_X_remaining, non_druggable_X_test, non_druggable_y_remaining, non_druggable_y_test = train_test_split(non_druggable_X, non_druggable_y, test_size= class_size, random_state=random_state)\n",
        "\n",
        "  X_test = pd.concat((druggable_X_test, non_druggable_X_test))\n",
        "  y_test = pd.concat((druggable_y_test, non_druggable_y_test))\n",
        "  X_train = pd.concat((druggable_X_remaining, non_druggable_X_remaining))\n",
        "  y_train = pd.concat((druggable_y_remaining, non_druggable_y_remaining))\n",
        "  X_train, y_train = shuffle(X_train, y_train, random_state=random_state)\n",
        "  if mode == \"default\":\n",
        "    pass\n",
        "  elif mode == \"adasyn\":\n",
        "    ada = ADASYN(random_state=42)\n",
        "    X_train, y_train = ada.fit_resample(X_train, y_train)\n",
        "  elif mode == \"smote\":\n",
        "    smt = SMOTE(random_state=42)\n",
        "    X_train, y_train = smt.fit_resample(X_train, y_train)\n",
        "\n",
        "  if scaler == \"std\":\n",
        "    scaler = StandardScaler()\n",
        "    X_train = scaler.fit_transform(X_train)\n",
        "    X_test = scaler.transform(X_test)\n",
        "  elif scaler == \"minmax\":\n",
        "    scaler = MinMaxScaler()\n",
        "    X_train = scaler.fit_transform(X_train)\n",
        "    X_test = scaler.transform(X_test)\n",
        "  elif scaler == \"none\":\n",
        "    pass\n",
        "\n",
        "  return X_train, X_test, y_train, y_test\n"
      ]
    },
    {
      "cell_type": "code",
      "execution_count": null,
      "metadata": {
        "colab": {
          "base_uri": "https://localhost:8080/"
        },
        "id": "HZXsgFJvrl_x",
        "outputId": "2bfff166-8668-4c4e-a7d3-e480211d8693"
      },
      "outputs": [
        {
          "data": {
            "text/plain": [
              "((19585, 186), array([16949,     0,  2636]))"
            ]
          },
          "execution_count": 6,
          "metadata": {},
          "output_type": "execute_result"
        }
      ],
      "source": [
        "# rem-new-data is to extract only those proteins which are either approved druggable or non-druggable\n",
        "# i.e., it excludes proteins which are non-approved but druggable\n",
        "new_data = final_data.copy()\n",
        "new_data['new_column'] = new_data['is_druggable'] + new_data['is_approved_druggable']\n",
        "rem_new_data = new_data[new_data['new_column'] != 1]\n",
        "rem_new_data.shape, np.bincount(rem_new_data['new_column'])"
      ]
    },
    {
      "cell_type": "markdown",
      "metadata": {
        "id": "y2T-lM0ivOVZ"
      },
      "source": [
        "### Majority Prediction of Partitions"
      ]
    },
    {
      "cell_type": "code",
      "execution_count": null,
      "metadata": {
        "id": "sFZ_RrHHid5q"
      },
      "outputs": [],
      "source": [
        "import xgboost as xgb\n",
        "from sklearn.metrics import accuracy_score\n",
        "\n",
        "def complete_evaluate(random_state):\n",
        "  if SETTING == 3:\n",
        "    X_train, X_test, y_train, y_test = data_splitting(rem_new_data[features_list], rem_new_data['is_druggable'], random_state=random_state)\n",
        "  print(X_train.shape, X_test.shape, y_train.shape, y_test.shape)\n",
        "  print(np.bincount(y_train), np.bincount(y_test))\n",
        "  X_train_druggable = X_train[y_train == 1]\n",
        "  X_train_non_druggable = X_train[y_train == 0]\n",
        "\n",
        "  X_train_non_druggable_partitions = np.array_split(X_train_non_druggable, round(len(X_train_non_druggable)/len(X_train_druggable)))\n",
        "  print(f\"Splitting into {len(X_train_non_druggable_partitions)} partitions\")\n",
        "  print(\"Sizes of partitions\")\n",
        "  for i, partition in enumerate(X_train_non_druggable_partitions):\n",
        "    print(f\"Partition {i}: {len(partition)}\")\n",
        "  xgb_models = []\n",
        "  for partition in X_train_non_druggable_partitions:\n",
        "    X_combined = np.concatenate((X_train_druggable, partition))\n",
        "    y_combined = np.concatenate((np.ones(len(X_train_druggable)), np.zeros(len(partition))))\n",
        "    xgb_model = xgb.XGBClassifier(objective='binary:logistic', random_state=42)\n",
        "    xgb_model.fit(X_combined, y_combined)\n",
        "    xgb_models.append(xgb_model)\n",
        "  y_preds = []\n",
        "  for model in xgb_models:\n",
        "    y_pred = model.predict(X_test)\n",
        "    y_preds.append(y_pred)\n",
        "\n",
        "  majority_preds = np.mean(y_preds, axis=0)\n",
        "  majority_preds = np.round(majority_preds)\n",
        "  print(majority_preds.shape)\n",
        "\n",
        "  y_pred_probas = []\n",
        "  for model in xgb_models:\n",
        "    y_pred_proba = model.predict_proba(X_test)[:, 1]\n",
        "    y_pred_probas.append(y_pred_proba)\n",
        "\n",
        "  y_pred_probas = np.array(y_pred_probas)\n",
        "  mean_pred_probas = np.mean(y_pred_probas, axis=0)\n",
        "  average_proba_preds = np.round(mean_pred_probas)\n",
        "  print(y_pred_probas.shape, mean_pred_probas.shape, average_proba_preds.shape)\n",
        "  accuracy_metrics = {}\n",
        "  for i, y_pred in enumerate(y_preds):\n",
        "    accuracy_metrics[f\"partition_{i}\"]={\n",
        "        \"accuracy_total\": accuracy_score(y_test, y_pred),\n",
        "        \"accuracy_druggable\": accuracy_score(y_test[y_test == 1], y_pred[y_test == 1]),\n",
        "        \"accuracy_non_druggable\": accuracy_score(y_test[y_test == 0], y_pred[y_test == 0]),\n",
        "    }\n",
        "    accuracy_metrics[\"majority_prediction\"]={\n",
        "        \"accuracy_total\": accuracy_score(y_test, majority_preds),\n",
        "        \"accuracy_druggable\": accuracy_score(y_test[y_test == 1], majority_preds[y_test == 1]),\n",
        "        \"accuracy_non_druggable\": accuracy_score(y_test[y_test == 0], majority_preds[y_test == 0]),\n",
        "    }\n",
        "    accuracy_metrics[\"average_probability_prediction\"] = {\n",
        "        \"accuracy_total\": accuracy_score(y_test, average_proba_preds),\n",
        "        \"accuracy_druggable\": accuracy_score(y_test[y_test == 1], average_proba_preds[y_test == 1]),\n",
        "        \"accuracy_non_druggable\": accuracy_score(y_test[y_test == 0], average_proba_preds[y_test == 0]),\n",
        "    }\n",
        "\n",
        "\n",
        "  df = pd.DataFrame(accuracy_metrics).transpose()\n",
        "  return df\n",
        "\n"
      ]
    },
    {
      "cell_type": "code",
      "execution_count": null,
      "metadata": {
        "colab": {
          "base_uri": "https://localhost:8080/"
        },
        "id": "UlrQSF_Bk3zV",
        "outputId": "126d6558-4723-470b-c76f-26feb546b2bc"
      },
      "outputs": [
        {
          "name": "stdout",
          "output_type": "stream",
          "text": [
            "(18385, 183) (1200, 183) (18385,) (1200,)\n",
            "[16349  2036] [600 600]\n",
            "Splitting into 8 partitions\n",
            "Sizes of partitions\n",
            "Partition 0: 2044\n",
            "Partition 1: 2044\n",
            "Partition 2: 2044\n",
            "Partition 3: 2044\n",
            "Partition 4: 2044\n",
            "Partition 5: 2043\n",
            "Partition 6: 2043\n",
            "Partition 7: 2043\n"
          ]
        },
        {
          "name": "stderr",
          "output_type": "stream",
          "text": [
            "/usr/local/lib/python3.10/dist-packages/numpy/core/fromnumeric.py:59: FutureWarning: 'DataFrame.swapaxes' is deprecated and will be removed in a future version. Please use 'DataFrame.transpose' instead.\n",
            "  return bound(*args, **kwds)\n"
          ]
        },
        {
          "name": "stdout",
          "output_type": "stream",
          "text": [
            "(1200,)\n",
            "(8, 1200) (1200,) (1200,)\n",
            "Completed for random state 54\n",
            "(18385, 183) (1200, 183) (18385,) (1200,)\n",
            "[16349  2036] [600 600]\n"
          ]
        },
        {
          "name": "stderr",
          "output_type": "stream",
          "text": [
            "/usr/local/lib/python3.10/dist-packages/numpy/core/fromnumeric.py:59: FutureWarning: 'DataFrame.swapaxes' is deprecated and will be removed in a future version. Please use 'DataFrame.transpose' instead.\n",
            "  return bound(*args, **kwds)\n"
          ]
        },
        {
          "name": "stdout",
          "output_type": "stream",
          "text": [
            "Splitting into 8 partitions\n",
            "Sizes of partitions\n",
            "Partition 0: 2044\n",
            "Partition 1: 2044\n",
            "Partition 2: 2044\n",
            "Partition 3: 2044\n",
            "Partition 4: 2044\n",
            "Partition 5: 2043\n",
            "Partition 6: 2043\n",
            "Partition 7: 2043\n",
            "(1200,)\n",
            "(8, 1200) (1200,) (1200,)\n",
            "Completed for random state 22\n",
            "(18385, 183) (1200, 183) (18385,) (1200,)\n",
            "[16349  2036] [600 600]\n",
            "Splitting into 8 partitions\n",
            "Sizes of partitions\n",
            "Partition 0: 2044\n",
            "Partition 1: 2044\n",
            "Partition 2: 2044\n",
            "Partition 3: 2044\n",
            "Partition 4: 2044\n",
            "Partition 5: 2043\n",
            "Partition 6: 2043\n",
            "Partition 7: 2043\n"
          ]
        },
        {
          "name": "stderr",
          "output_type": "stream",
          "text": [
            "/usr/local/lib/python3.10/dist-packages/numpy/core/fromnumeric.py:59: FutureWarning: 'DataFrame.swapaxes' is deprecated and will be removed in a future version. Please use 'DataFrame.transpose' instead.\n",
            "  return bound(*args, **kwds)\n"
          ]
        },
        {
          "name": "stdout",
          "output_type": "stream",
          "text": [
            "(1200,)\n",
            "(8, 1200) (1200,) (1200,)\n",
            "Completed for random state 59\n",
            "(18385, 183) (1200, 183) (18385,) (1200,)\n",
            "[16349  2036] [600 600]\n",
            "Splitting into 8 partitions\n",
            "Sizes of partitions\n",
            "Partition 0: 2044\n",
            "Partition 1: 2044\n",
            "Partition 2: 2044\n",
            "Partition 3: 2044\n",
            "Partition 4: 2044\n",
            "Partition 5: 2043\n",
            "Partition 6: 2043\n",
            "Partition 7: 2043\n"
          ]
        },
        {
          "name": "stderr",
          "output_type": "stream",
          "text": [
            "/usr/local/lib/python3.10/dist-packages/numpy/core/fromnumeric.py:59: FutureWarning: 'DataFrame.swapaxes' is deprecated and will be removed in a future version. Please use 'DataFrame.transpose' instead.\n",
            "  return bound(*args, **kwds)\n"
          ]
        },
        {
          "name": "stdout",
          "output_type": "stream",
          "text": [
            "(1200,)\n",
            "(8, 1200) (1200,) (1200,)\n",
            "Completed for random state 3\n",
            "(18385, 183) (1200, 183) (18385,) (1200,)\n",
            "[16349  2036] [600 600]\n"
          ]
        },
        {
          "name": "stderr",
          "output_type": "stream",
          "text": [
            "/usr/local/lib/python3.10/dist-packages/numpy/core/fromnumeric.py:59: FutureWarning: 'DataFrame.swapaxes' is deprecated and will be removed in a future version. Please use 'DataFrame.transpose' instead.\n",
            "  return bound(*args, **kwds)\n"
          ]
        },
        {
          "name": "stdout",
          "output_type": "stream",
          "text": [
            "Splitting into 8 partitions\n",
            "Sizes of partitions\n",
            "Partition 0: 2044\n",
            "Partition 1: 2044\n",
            "Partition 2: 2044\n",
            "Partition 3: 2044\n",
            "Partition 4: 2044\n",
            "Partition 5: 2043\n",
            "Partition 6: 2043\n",
            "Partition 7: 2043\n",
            "(1200,)\n",
            "(8, 1200) (1200,) (1200,)\n",
            "Completed for random state 86\n",
            "(18385, 183) (1200, 183) (18385,) (1200,)\n",
            "[16349  2036] [600 600]\n",
            "Splitting into 8 partitions\n",
            "Sizes of partitions\n",
            "Partition 0: 2044\n",
            "Partition 1: 2044\n",
            "Partition 2: 2044\n",
            "Partition 3: 2044\n",
            "Partition 4: 2044\n",
            "Partition 5: 2043\n",
            "Partition 6: 2043\n",
            "Partition 7: 2043\n"
          ]
        },
        {
          "name": "stderr",
          "output_type": "stream",
          "text": [
            "/usr/local/lib/python3.10/dist-packages/numpy/core/fromnumeric.py:59: FutureWarning: 'DataFrame.swapaxes' is deprecated and will be removed in a future version. Please use 'DataFrame.transpose' instead.\n",
            "  return bound(*args, **kwds)\n"
          ]
        },
        {
          "name": "stdout",
          "output_type": "stream",
          "text": [
            "(1200,)\n",
            "(8, 1200) (1200,) (1200,)\n",
            "Completed for random state 40\n",
            "(18385, 183) (1200, 183) (18385,) (1200,)\n",
            "[16349  2036] [600 600]\n",
            "Splitting into 8 partitions\n",
            "Sizes of partitions\n",
            "Partition 0: 2044\n",
            "Partition 1: 2044\n",
            "Partition 2: 2044\n",
            "Partition 3: 2044\n",
            "Partition 4: 2044\n",
            "Partition 5: 2043\n",
            "Partition 6: 2043\n",
            "Partition 7: 2043\n"
          ]
        },
        {
          "name": "stderr",
          "output_type": "stream",
          "text": [
            "/usr/local/lib/python3.10/dist-packages/numpy/core/fromnumeric.py:59: FutureWarning: 'DataFrame.swapaxes' is deprecated and will be removed in a future version. Please use 'DataFrame.transpose' instead.\n",
            "  return bound(*args, **kwds)\n"
          ]
        },
        {
          "name": "stdout",
          "output_type": "stream",
          "text": [
            "(1200,)\n",
            "(8, 1200) (1200,) (1200,)\n",
            "Completed for random state 0\n",
            "(18385, 183) (1200, 183) (18385,) (1200,)\n",
            "[16349  2036] [600 600]\n",
            "Splitting into 8 partitions\n",
            "Sizes of partitions\n",
            "Partition 0: 2044\n",
            "Partition 1: 2044\n",
            "Partition 2: 2044\n",
            "Partition 3: 2044\n",
            "Partition 4: 2044\n",
            "Partition 5: 2043\n",
            "Partition 6: 2043\n",
            "Partition 7: 2043\n"
          ]
        },
        {
          "name": "stderr",
          "output_type": "stream",
          "text": [
            "/usr/local/lib/python3.10/dist-packages/numpy/core/fromnumeric.py:59: FutureWarning: 'DataFrame.swapaxes' is deprecated and will be removed in a future version. Please use 'DataFrame.transpose' instead.\n",
            "  return bound(*args, **kwds)\n"
          ]
        },
        {
          "name": "stdout",
          "output_type": "stream",
          "text": [
            "(1200,)\n",
            "(8, 1200) (1200,) (1200,)\n",
            "Completed for random state 81\n",
            "(18385, 183) (1200, 183) (18385,) (1200,)\n",
            "[16349  2036] [600 600]\n",
            "Splitting into 8 partitions\n",
            "Sizes of partitions\n",
            "Partition 0: 2044\n",
            "Partition 1: 2044\n",
            "Partition 2: 2044\n",
            "Partition 3: 2044\n",
            "Partition 4: 2044\n",
            "Partition 5: 2043\n",
            "Partition 6: 2043\n",
            "Partition 7: 2043\n"
          ]
        },
        {
          "name": "stderr",
          "output_type": "stream",
          "text": [
            "/usr/local/lib/python3.10/dist-packages/numpy/core/fromnumeric.py:59: FutureWarning: 'DataFrame.swapaxes' is deprecated and will be removed in a future version. Please use 'DataFrame.transpose' instead.\n",
            "  return bound(*args, **kwds)\n"
          ]
        },
        {
          "name": "stdout",
          "output_type": "stream",
          "text": [
            "(1200,)\n",
            "(8, 1200) (1200,) (1200,)\n",
            "Completed for random state 45\n",
            "(18385, 183) (1200, 183) (18385,) (1200,)\n",
            "[16349  2036] [600 600]\n"
          ]
        },
        {
          "name": "stderr",
          "output_type": "stream",
          "text": [
            "/usr/local/lib/python3.10/dist-packages/numpy/core/fromnumeric.py:59: FutureWarning: 'DataFrame.swapaxes' is deprecated and will be removed in a future version. Please use 'DataFrame.transpose' instead.\n",
            "  return bound(*args, **kwds)\n"
          ]
        },
        {
          "name": "stdout",
          "output_type": "stream",
          "text": [
            "Splitting into 8 partitions\n",
            "Sizes of partitions\n",
            "Partition 0: 2044\n",
            "Partition 1: 2044\n",
            "Partition 2: 2044\n",
            "Partition 3: 2044\n",
            "Partition 4: 2044\n",
            "Partition 5: 2043\n",
            "Partition 6: 2043\n",
            "Partition 7: 2043\n",
            "(1200,)\n",
            "(8, 1200) (1200,) (1200,)\n",
            "Completed for random state 43\n",
            "(18385, 183) (1200, 183) (18385,) (1200,)\n",
            "[16349  2036] [600 600]\n",
            "Splitting into 8 partitions\n",
            "Sizes of partitions\n",
            "Partition 0: 2044\n",
            "Partition 1: 2044\n",
            "Partition 2: 2044\n",
            "Partition 3: 2044\n",
            "Partition 4: 2044\n",
            "Partition 5: 2043\n",
            "Partition 6: 2043\n",
            "Partition 7: 2043\n"
          ]
        },
        {
          "name": "stderr",
          "output_type": "stream",
          "text": [
            "/usr/local/lib/python3.10/dist-packages/numpy/core/fromnumeric.py:59: FutureWarning: 'DataFrame.swapaxes' is deprecated and will be removed in a future version. Please use 'DataFrame.transpose' instead.\n",
            "  return bound(*args, **kwds)\n"
          ]
        },
        {
          "name": "stdout",
          "output_type": "stream",
          "text": [
            "(1200,)\n",
            "(8, 1200) (1200,) (1200,)\n",
            "Completed for random state 24\n",
            "(18385, 183) (1200, 183) (18385,) (1200,)\n",
            "[16349  2036] [600 600]\n",
            "Splitting into 8 partitions\n",
            "Sizes of partitions\n",
            "Partition 0: 2044\n",
            "Partition 1: 2044\n",
            "Partition 2: 2044\n",
            "Partition 3: 2044\n",
            "Partition 4: 2044\n",
            "Partition 5: 2043\n",
            "Partition 6: 2043\n",
            "Partition 7: 2043\n"
          ]
        },
        {
          "name": "stderr",
          "output_type": "stream",
          "text": [
            "/usr/local/lib/python3.10/dist-packages/numpy/core/fromnumeric.py:59: FutureWarning: 'DataFrame.swapaxes' is deprecated and will be removed in a future version. Please use 'DataFrame.transpose' instead.\n",
            "  return bound(*args, **kwds)\n"
          ]
        },
        {
          "name": "stdout",
          "output_type": "stream",
          "text": [
            "(1200,)\n",
            "(8, 1200) (1200,) (1200,)\n",
            "Completed for random state 35\n",
            "(18385, 183) (1200, 183) (18385,) (1200,)\n",
            "[16349  2036] [600 600]\n",
            "Splitting into 8 partitions\n",
            "Sizes of partitions\n",
            "Partition 0: 2044\n",
            "Partition 1: 2044\n",
            "Partition 2: 2044\n",
            "Partition 3: 2044\n",
            "Partition 4: 2044\n",
            "Partition 5: 2043\n",
            "Partition 6: 2043\n",
            "Partition 7: 2043\n"
          ]
        },
        {
          "name": "stderr",
          "output_type": "stream",
          "text": [
            "/usr/local/lib/python3.10/dist-packages/numpy/core/fromnumeric.py:59: FutureWarning: 'DataFrame.swapaxes' is deprecated and will be removed in a future version. Please use 'DataFrame.transpose' instead.\n",
            "  return bound(*args, **kwds)\n"
          ]
        },
        {
          "name": "stdout",
          "output_type": "stream",
          "text": [
            "(1200,)\n",
            "(8, 1200) (1200,) (1200,)\n",
            "Completed for random state 88\n",
            "(18385, 183) (1200, 183) (18385,) (1200,)\n",
            "[16349  2036] [600 600]\n",
            "Splitting into 8 partitions\n",
            "Sizes of partitions\n",
            "Partition 0: 2044\n",
            "Partition 1: 2044\n",
            "Partition 2: 2044\n",
            "Partition 3: 2044\n",
            "Partition 4: 2044\n",
            "Partition 5: 2043\n",
            "Partition 6: 2043\n",
            "Partition 7: 2043\n"
          ]
        },
        {
          "name": "stderr",
          "output_type": "stream",
          "text": [
            "/usr/local/lib/python3.10/dist-packages/numpy/core/fromnumeric.py:59: FutureWarning: 'DataFrame.swapaxes' is deprecated and will be removed in a future version. Please use 'DataFrame.transpose' instead.\n",
            "  return bound(*args, **kwds)\n"
          ]
        },
        {
          "name": "stdout",
          "output_type": "stream",
          "text": [
            "(1200,)\n",
            "(8, 1200) (1200,) (1200,)\n",
            "Completed for random state 17\n",
            "(18385, 183) (1200, 183) (18385,) (1200,)\n",
            "[16349  2036] [600 600]\n",
            "Splitting into 8 partitions\n",
            "Sizes of partitions\n",
            "Partition 0: 2044\n",
            "Partition 1: 2044\n",
            "Partition 2: 2044\n",
            "Partition 3: 2044\n",
            "Partition 4: 2044\n",
            "Partition 5: 2043\n",
            "Partition 6: 2043\n",
            "Partition 7: 2043\n"
          ]
        },
        {
          "name": "stderr",
          "output_type": "stream",
          "text": [
            "/usr/local/lib/python3.10/dist-packages/numpy/core/fromnumeric.py:59: FutureWarning: 'DataFrame.swapaxes' is deprecated and will be removed in a future version. Please use 'DataFrame.transpose' instead.\n",
            "  return bound(*args, **kwds)\n"
          ]
        },
        {
          "name": "stdout",
          "output_type": "stream",
          "text": [
            "(1200,)\n",
            "(8, 1200) (1200,) (1200,)\n",
            "Completed for random state 70\n",
            "(18385, 183) (1200, 183) (18385,) (1200,)\n",
            "[16349  2036] [600 600]\n",
            "Splitting into 8 partitions\n",
            "Sizes of partitions\n",
            "Partition 0: 2044\n",
            "Partition 1: 2044\n",
            "Partition 2: 2044\n",
            "Partition 3: 2044\n",
            "Partition 4: 2044\n",
            "Partition 5: 2043\n",
            "Partition 6: 2043\n",
            "Partition 7: 2043\n"
          ]
        },
        {
          "name": "stderr",
          "output_type": "stream",
          "text": [
            "/usr/local/lib/python3.10/dist-packages/numpy/core/fromnumeric.py:59: FutureWarning: 'DataFrame.swapaxes' is deprecated and will be removed in a future version. Please use 'DataFrame.transpose' instead.\n",
            "  return bound(*args, **kwds)\n"
          ]
        },
        {
          "name": "stdout",
          "output_type": "stream",
          "text": [
            "(1200,)\n",
            "(8, 1200) (1200,) (1200,)\n",
            "Completed for random state 91\n",
            "(18385, 183) (1200, 183) (18385,) (1200,)\n",
            "[16349  2036] [600 600]\n",
            "Splitting into 8 partitions\n",
            "Sizes of partitions\n",
            "Partition 0: 2044\n",
            "Partition 1: 2044\n",
            "Partition 2: 2044\n",
            "Partition 3: 2044\n",
            "Partition 4: 2044\n",
            "Partition 5: 2043\n",
            "Partition 6: 2043\n",
            "Partition 7: 2043\n"
          ]
        },
        {
          "name": "stderr",
          "output_type": "stream",
          "text": [
            "/usr/local/lib/python3.10/dist-packages/numpy/core/fromnumeric.py:59: FutureWarning: 'DataFrame.swapaxes' is deprecated and will be removed in a future version. Please use 'DataFrame.transpose' instead.\n",
            "  return bound(*args, **kwds)\n"
          ]
        },
        {
          "name": "stdout",
          "output_type": "stream",
          "text": [
            "(1200,)\n",
            "(8, 1200) (1200,) (1200,)\n",
            "Completed for random state 61\n",
            "(18385, 183) (1200, 183) (18385,) (1200,)\n",
            "[16349  2036] [600 600]\n",
            "Splitting into 8 partitions\n",
            "Sizes of partitions\n",
            "Partition 0: 2044\n",
            "Partition 1: 2044\n",
            "Partition 2: 2044\n",
            "Partition 3: 2044\n",
            "Partition 4: 2044\n",
            "Partition 5: 2043\n",
            "Partition 6: 2043\n",
            "Partition 7: 2043\n"
          ]
        },
        {
          "name": "stderr",
          "output_type": "stream",
          "text": [
            "/usr/local/lib/python3.10/dist-packages/numpy/core/fromnumeric.py:59: FutureWarning: 'DataFrame.swapaxes' is deprecated and will be removed in a future version. Please use 'DataFrame.transpose' instead.\n",
            "  return bound(*args, **kwds)\n"
          ]
        },
        {
          "name": "stdout",
          "output_type": "stream",
          "text": [
            "(1200,)\n",
            "(8, 1200) (1200,) (1200,)\n",
            "Completed for random state 48\n",
            "(18385, 183) (1200, 183) (18385,) (1200,)\n",
            "[16349  2036] [600 600]\n"
          ]
        },
        {
          "name": "stderr",
          "output_type": "stream",
          "text": [
            "/usr/local/lib/python3.10/dist-packages/numpy/core/fromnumeric.py:59: FutureWarning: 'DataFrame.swapaxes' is deprecated and will be removed in a future version. Please use 'DataFrame.transpose' instead.\n",
            "  return bound(*args, **kwds)\n"
          ]
        },
        {
          "name": "stdout",
          "output_type": "stream",
          "text": [
            "Splitting into 8 partitions\n",
            "Sizes of partitions\n",
            "Partition 0: 2044\n",
            "Partition 1: 2044\n",
            "Partition 2: 2044\n",
            "Partition 3: 2044\n",
            "Partition 4: 2044\n",
            "Partition 5: 2043\n",
            "Partition 6: 2043\n",
            "Partition 7: 2043\n",
            "(1200,)\n",
            "(8, 1200) (1200,) (1200,)\n",
            "Completed for random state 42\n",
            "(18385, 183) (1200, 183) (18385,) (1200,)\n",
            "[16349  2036] [600 600]\n"
          ]
        },
        {
          "name": "stderr",
          "output_type": "stream",
          "text": [
            "/usr/local/lib/python3.10/dist-packages/numpy/core/fromnumeric.py:59: FutureWarning: 'DataFrame.swapaxes' is deprecated and will be removed in a future version. Please use 'DataFrame.transpose' instead.\n",
            "  return bound(*args, **kwds)\n"
          ]
        },
        {
          "name": "stdout",
          "output_type": "stream",
          "text": [
            "Splitting into 8 partitions\n",
            "Sizes of partitions\n",
            "Partition 0: 2044\n",
            "Partition 1: 2044\n",
            "Partition 2: 2044\n",
            "Partition 3: 2044\n",
            "Partition 4: 2044\n",
            "Partition 5: 2043\n",
            "Partition 6: 2043\n",
            "Partition 7: 2043\n",
            "(1200,)\n",
            "(8, 1200) (1200,) (1200,)\n",
            "Completed for random state 57\n"
          ]
        }
      ],
      "source": [
        "import random\n",
        "scores_df = []\n",
        "# randomly sample 20 from range(100)\n",
        "random_states = random.sample(range(100), 20)\n",
        "for random_state in random_states:\n",
        "  scores_df.append(complete_evaluate(random_state))\n",
        "  print(f\"Completed for random state {random_state}\")"
      ]
    },
    {
      "cell_type": "code",
      "execution_count": null,
      "metadata": {
        "colab": {
          "base_uri": "https://localhost:8080/"
        },
        "id": "oJO_OsNOk6Nl",
        "outputId": "5c2208e6-9932-4aee-a599-5c1a6b4c5466"
      },
      "outputs": [
        {
          "data": {
            "text/plain": [
              "20"
            ]
          },
          "execution_count": 9,
          "metadata": {},
          "output_type": "execute_result"
        }
      ],
      "source": [
        "len(scores_df)"
      ]
    },
    {
      "cell_type": "code",
      "execution_count": null,
      "metadata": {
        "id": "7iTzQadg7_rA"
      },
      "outputs": [],
      "source": [
        "avg_scores = sum(scores_df)/20"
      ]
    },
    {
      "cell_type": "code",
      "execution_count": null,
      "metadata": {
        "colab": {
          "base_uri": "https://localhost:8080/",
          "height": 363
        },
        "id": "VFaUzL0O96eS",
        "outputId": "86fb1333-24ad-425f-c4e6-63f8e7afecc6"
      },
      "outputs": [
        {
          "data": {
            "application/vnd.google.colaboratory.intrinsic+json": {
              "summary": "{\n  \"name\": \"avg_scores\",\n  \"rows\": 10,\n  \"fields\": [\n    {\n      \"column\": \"accuracy_total\",\n      \"properties\": {\n        \"dtype\": \"number\",\n        \"std\": 0.008727688706313977,\n        \"min\": 0.7595416666666666,\n        \"max\": 0.7824166666666666,\n        \"num_unique_values\": 10,\n        \"samples\": [\n          0.7617499999999999,\n          0.7822083333333332,\n          0.75975\n        ],\n        \"semantic_type\": \"\",\n        \"description\": \"\"\n      }\n    },\n    {\n      \"column\": \"accuracy_druggable\",\n      \"properties\": {\n        \"dtype\": \"number\",\n        \"std\": 0.008053740216910524,\n        \"min\": 0.7627500000000002,\n        \"max\": 0.7913333333333334,\n        \"num_unique_values\": 10,\n        \"samples\": [\n          0.7627500000000002,\n          0.7705,\n          0.7679166666666667\n        ],\n        \"semantic_type\": \"\",\n        \"description\": \"\"\n      }\n    },\n    {\n      \"column\": \"accuracy_non_druggable\",\n      \"properties\": {\n        \"dtype\": \"number\",\n        \"std\": 0.012668603653067618,\n        \"min\": 0.7515833333333334,\n        \"max\": 0.7939166666666666,\n        \"num_unique_values\": 10,\n        \"samples\": [\n          0.76075,\n          0.7939166666666666,\n          0.7515833333333334\n        ],\n        \"semantic_type\": \"\",\n        \"description\": \"\"\n      }\n    }\n  ]\n}",
              "type": "dataframe",
              "variable_name": "avg_scores"
            },
            "text/html": [
              "\n",
              "  <div id=\"df-f02e3af4-2539-43b3-85cd-c882cebbffd8\" class=\"colab-df-container\">\n",
              "    <div>\n",
              "<style scoped>\n",
              "    .dataframe tbody tr th:only-of-type {\n",
              "        vertical-align: middle;\n",
              "    }\n",
              "\n",
              "    .dataframe tbody tr th {\n",
              "        vertical-align: top;\n",
              "    }\n",
              "\n",
              "    .dataframe thead th {\n",
              "        text-align: right;\n",
              "    }\n",
              "</style>\n",
              "<table border=\"1\" class=\"dataframe\">\n",
              "  <thead>\n",
              "    <tr style=\"text-align: right;\">\n",
              "      <th></th>\n",
              "      <th>accuracy_total</th>\n",
              "      <th>accuracy_druggable</th>\n",
              "      <th>accuracy_non_druggable</th>\n",
              "    </tr>\n",
              "  </thead>\n",
              "  <tbody>\n",
              "    <tr>\n",
              "      <th>partition_0</th>\n",
              "      <td>0.762292</td>\n",
              "      <td>0.771333</td>\n",
              "      <td>0.753250</td>\n",
              "    </tr>\n",
              "    <tr>\n",
              "      <th>majority_prediction</th>\n",
              "      <td>0.782208</td>\n",
              "      <td>0.770500</td>\n",
              "      <td>0.793917</td>\n",
              "    </tr>\n",
              "    <tr>\n",
              "      <th>average_probability_prediction</th>\n",
              "      <td>0.782417</td>\n",
              "      <td>0.791333</td>\n",
              "      <td>0.773500</td>\n",
              "    </tr>\n",
              "    <tr>\n",
              "      <th>partition_1</th>\n",
              "      <td>0.759542</td>\n",
              "      <td>0.763500</td>\n",
              "      <td>0.755583</td>\n",
              "    </tr>\n",
              "    <tr>\n",
              "      <th>partition_2</th>\n",
              "      <td>0.761500</td>\n",
              "      <td>0.767833</td>\n",
              "      <td>0.755167</td>\n",
              "    </tr>\n",
              "    <tr>\n",
              "      <th>partition_3</th>\n",
              "      <td>0.759750</td>\n",
              "      <td>0.767917</td>\n",
              "      <td>0.751583</td>\n",
              "    </tr>\n",
              "    <tr>\n",
              "      <th>partition_4</th>\n",
              "      <td>0.764542</td>\n",
              "      <td>0.768667</td>\n",
              "      <td>0.760417</td>\n",
              "    </tr>\n",
              "    <tr>\n",
              "      <th>partition_5</th>\n",
              "      <td>0.764000</td>\n",
              "      <td>0.766917</td>\n",
              "      <td>0.761083</td>\n",
              "    </tr>\n",
              "    <tr>\n",
              "      <th>partition_6</th>\n",
              "      <td>0.761750</td>\n",
              "      <td>0.762750</td>\n",
              "      <td>0.760750</td>\n",
              "    </tr>\n",
              "    <tr>\n",
              "      <th>partition_7</th>\n",
              "      <td>0.762208</td>\n",
              "      <td>0.766500</td>\n",
              "      <td>0.757917</td>\n",
              "    </tr>\n",
              "  </tbody>\n",
              "</table>\n",
              "</div>\n",
              "    <div class=\"colab-df-buttons\">\n",
              "\n",
              "  <div class=\"colab-df-container\">\n",
              "    <button class=\"colab-df-convert\" onclick=\"convertToInteractive('df-f02e3af4-2539-43b3-85cd-c882cebbffd8')\"\n",
              "            title=\"Convert this dataframe to an interactive table.\"\n",
              "            style=\"display:none;\">\n",
              "\n",
              "  <svg xmlns=\"http://www.w3.org/2000/svg\" height=\"24px\" viewBox=\"0 -960 960 960\">\n",
              "    <path d=\"M120-120v-720h720v720H120Zm60-500h600v-160H180v160Zm220 220h160v-160H400v160Zm0 220h160v-160H400v160ZM180-400h160v-160H180v160Zm440 0h160v-160H620v160ZM180-180h160v-160H180v160Zm440 0h160v-160H620v160Z\"/>\n",
              "  </svg>\n",
              "    </button>\n",
              "\n",
              "  <style>\n",
              "    .colab-df-container {\n",
              "      display:flex;\n",
              "      gap: 12px;\n",
              "    }\n",
              "\n",
              "    .colab-df-convert {\n",
              "      background-color: #E8F0FE;\n",
              "      border: none;\n",
              "      border-radius: 50%;\n",
              "      cursor: pointer;\n",
              "      display: none;\n",
              "      fill: #1967D2;\n",
              "      height: 32px;\n",
              "      padding: 0 0 0 0;\n",
              "      width: 32px;\n",
              "    }\n",
              "\n",
              "    .colab-df-convert:hover {\n",
              "      background-color: #E2EBFA;\n",
              "      box-shadow: 0px 1px 2px rgba(60, 64, 67, 0.3), 0px 1px 3px 1px rgba(60, 64, 67, 0.15);\n",
              "      fill: #174EA6;\n",
              "    }\n",
              "\n",
              "    .colab-df-buttons div {\n",
              "      margin-bottom: 4px;\n",
              "    }\n",
              "\n",
              "    [theme=dark] .colab-df-convert {\n",
              "      background-color: #3B4455;\n",
              "      fill: #D2E3FC;\n",
              "    }\n",
              "\n",
              "    [theme=dark] .colab-df-convert:hover {\n",
              "      background-color: #434B5C;\n",
              "      box-shadow: 0px 1px 3px 1px rgba(0, 0, 0, 0.15);\n",
              "      filter: drop-shadow(0px 1px 2px rgba(0, 0, 0, 0.3));\n",
              "      fill: #FFFFFF;\n",
              "    }\n",
              "  </style>\n",
              "\n",
              "    <script>\n",
              "      const buttonEl =\n",
              "        document.querySelector('#df-f02e3af4-2539-43b3-85cd-c882cebbffd8 button.colab-df-convert');\n",
              "      buttonEl.style.display =\n",
              "        google.colab.kernel.accessAllowed ? 'block' : 'none';\n",
              "\n",
              "      async function convertToInteractive(key) {\n",
              "        const element = document.querySelector('#df-f02e3af4-2539-43b3-85cd-c882cebbffd8');\n",
              "        const dataTable =\n",
              "          await google.colab.kernel.invokeFunction('convertToInteractive',\n",
              "                                                    [key], {});\n",
              "        if (!dataTable) return;\n",
              "\n",
              "        const docLinkHtml = 'Like what you see? Visit the ' +\n",
              "          '<a target=\"_blank\" href=https://colab.research.google.com/notebooks/data_table.ipynb>data table notebook</a>'\n",
              "          + ' to learn more about interactive tables.';\n",
              "        element.innerHTML = '';\n",
              "        dataTable['output_type'] = 'display_data';\n",
              "        await google.colab.output.renderOutput(dataTable, element);\n",
              "        const docLink = document.createElement('div');\n",
              "        docLink.innerHTML = docLinkHtml;\n",
              "        element.appendChild(docLink);\n",
              "      }\n",
              "    </script>\n",
              "  </div>\n",
              "\n",
              "\n",
              "<div id=\"df-d026071a-519a-408c-bfec-fcac0de7291c\">\n",
              "  <button class=\"colab-df-quickchart\" onclick=\"quickchart('df-d026071a-519a-408c-bfec-fcac0de7291c')\"\n",
              "            title=\"Suggest charts\"\n",
              "            style=\"display:none;\">\n",
              "\n",
              "<svg xmlns=\"http://www.w3.org/2000/svg\" height=\"24px\"viewBox=\"0 0 24 24\"\n",
              "     width=\"24px\">\n",
              "    <g>\n",
              "        <path d=\"M19 3H5c-1.1 0-2 .9-2 2v14c0 1.1.9 2 2 2h14c1.1 0 2-.9 2-2V5c0-1.1-.9-2-2-2zM9 17H7v-7h2v7zm4 0h-2V7h2v10zm4 0h-2v-4h2v4z\"/>\n",
              "    </g>\n",
              "</svg>\n",
              "  </button>\n",
              "\n",
              "<style>\n",
              "  .colab-df-quickchart {\n",
              "      --bg-color: #E8F0FE;\n",
              "      --fill-color: #1967D2;\n",
              "      --hover-bg-color: #E2EBFA;\n",
              "      --hover-fill-color: #174EA6;\n",
              "      --disabled-fill-color: #AAA;\n",
              "      --disabled-bg-color: #DDD;\n",
              "  }\n",
              "\n",
              "  [theme=dark] .colab-df-quickchart {\n",
              "      --bg-color: #3B4455;\n",
              "      --fill-color: #D2E3FC;\n",
              "      --hover-bg-color: #434B5C;\n",
              "      --hover-fill-color: #FFFFFF;\n",
              "      --disabled-bg-color: #3B4455;\n",
              "      --disabled-fill-color: #666;\n",
              "  }\n",
              "\n",
              "  .colab-df-quickchart {\n",
              "    background-color: var(--bg-color);\n",
              "    border: none;\n",
              "    border-radius: 50%;\n",
              "    cursor: pointer;\n",
              "    display: none;\n",
              "    fill: var(--fill-color);\n",
              "    height: 32px;\n",
              "    padding: 0;\n",
              "    width: 32px;\n",
              "  }\n",
              "\n",
              "  .colab-df-quickchart:hover {\n",
              "    background-color: var(--hover-bg-color);\n",
              "    box-shadow: 0 1px 2px rgba(60, 64, 67, 0.3), 0 1px 3px 1px rgba(60, 64, 67, 0.15);\n",
              "    fill: var(--button-hover-fill-color);\n",
              "  }\n",
              "\n",
              "  .colab-df-quickchart-complete:disabled,\n",
              "  .colab-df-quickchart-complete:disabled:hover {\n",
              "    background-color: var(--disabled-bg-color);\n",
              "    fill: var(--disabled-fill-color);\n",
              "    box-shadow: none;\n",
              "  }\n",
              "\n",
              "  .colab-df-spinner {\n",
              "    border: 2px solid var(--fill-color);\n",
              "    border-color: transparent;\n",
              "    border-bottom-color: var(--fill-color);\n",
              "    animation:\n",
              "      spin 1s steps(1) infinite;\n",
              "  }\n",
              "\n",
              "  @keyframes spin {\n",
              "    0% {\n",
              "      border-color: transparent;\n",
              "      border-bottom-color: var(--fill-color);\n",
              "      border-left-color: var(--fill-color);\n",
              "    }\n",
              "    20% {\n",
              "      border-color: transparent;\n",
              "      border-left-color: var(--fill-color);\n",
              "      border-top-color: var(--fill-color);\n",
              "    }\n",
              "    30% {\n",
              "      border-color: transparent;\n",
              "      border-left-color: var(--fill-color);\n",
              "      border-top-color: var(--fill-color);\n",
              "      border-right-color: var(--fill-color);\n",
              "    }\n",
              "    40% {\n",
              "      border-color: transparent;\n",
              "      border-right-color: var(--fill-color);\n",
              "      border-top-color: var(--fill-color);\n",
              "    }\n",
              "    60% {\n",
              "      border-color: transparent;\n",
              "      border-right-color: var(--fill-color);\n",
              "    }\n",
              "    80% {\n",
              "      border-color: transparent;\n",
              "      border-right-color: var(--fill-color);\n",
              "      border-bottom-color: var(--fill-color);\n",
              "    }\n",
              "    90% {\n",
              "      border-color: transparent;\n",
              "      border-bottom-color: var(--fill-color);\n",
              "    }\n",
              "  }\n",
              "</style>\n",
              "\n",
              "  <script>\n",
              "    async function quickchart(key) {\n",
              "      const quickchartButtonEl =\n",
              "        document.querySelector('#' + key + ' button');\n",
              "      quickchartButtonEl.disabled = true;  // To prevent multiple clicks.\n",
              "      quickchartButtonEl.classList.add('colab-df-spinner');\n",
              "      try {\n",
              "        const charts = await google.colab.kernel.invokeFunction(\n",
              "            'suggestCharts', [key], {});\n",
              "      } catch (error) {\n",
              "        console.error('Error during call to suggestCharts:', error);\n",
              "      }\n",
              "      quickchartButtonEl.classList.remove('colab-df-spinner');\n",
              "      quickchartButtonEl.classList.add('colab-df-quickchart-complete');\n",
              "    }\n",
              "    (() => {\n",
              "      let quickchartButtonEl =\n",
              "        document.querySelector('#df-d026071a-519a-408c-bfec-fcac0de7291c button');\n",
              "      quickchartButtonEl.style.display =\n",
              "        google.colab.kernel.accessAllowed ? 'block' : 'none';\n",
              "    })();\n",
              "  </script>\n",
              "</div>\n",
              "\n",
              "  <div id=\"id_da87e73a-38c8-4334-8f11-1384dcedf545\">\n",
              "    <style>\n",
              "      .colab-df-generate {\n",
              "        background-color: #E8F0FE;\n",
              "        border: none;\n",
              "        border-radius: 50%;\n",
              "        cursor: pointer;\n",
              "        display: none;\n",
              "        fill: #1967D2;\n",
              "        height: 32px;\n",
              "        padding: 0 0 0 0;\n",
              "        width: 32px;\n",
              "      }\n",
              "\n",
              "      .colab-df-generate:hover {\n",
              "        background-color: #E2EBFA;\n",
              "        box-shadow: 0px 1px 2px rgba(60, 64, 67, 0.3), 0px 1px 3px 1px rgba(60, 64, 67, 0.15);\n",
              "        fill: #174EA6;\n",
              "      }\n",
              "\n",
              "      [theme=dark] .colab-df-generate {\n",
              "        background-color: #3B4455;\n",
              "        fill: #D2E3FC;\n",
              "      }\n",
              "\n",
              "      [theme=dark] .colab-df-generate:hover {\n",
              "        background-color: #434B5C;\n",
              "        box-shadow: 0px 1px 3px 1px rgba(0, 0, 0, 0.15);\n",
              "        filter: drop-shadow(0px 1px 2px rgba(0, 0, 0, 0.3));\n",
              "        fill: #FFFFFF;\n",
              "      }\n",
              "    </style>\n",
              "    <button class=\"colab-df-generate\" onclick=\"generateWithVariable('avg_scores')\"\n",
              "            title=\"Generate code using this dataframe.\"\n",
              "            style=\"display:none;\">\n",
              "\n",
              "  <svg xmlns=\"http://www.w3.org/2000/svg\" height=\"24px\"viewBox=\"0 0 24 24\"\n",
              "       width=\"24px\">\n",
              "    <path d=\"M7,19H8.4L18.45,9,17,7.55,7,17.6ZM5,21V16.75L18.45,3.32a2,2,0,0,1,2.83,0l1.4,1.43a1.91,1.91,0,0,1,.58,1.4,1.91,1.91,0,0,1-.58,1.4L9.25,21ZM18.45,9,17,7.55Zm-12,3A5.31,5.31,0,0,0,4.9,8.1,5.31,5.31,0,0,0,1,6.5,5.31,5.31,0,0,0,4.9,4.9,5.31,5.31,0,0,0,6.5,1,5.31,5.31,0,0,0,8.1,4.9,5.31,5.31,0,0,0,12,6.5,5.46,5.46,0,0,0,6.5,12Z\"/>\n",
              "  </svg>\n",
              "    </button>\n",
              "    <script>\n",
              "      (() => {\n",
              "      const buttonEl =\n",
              "        document.querySelector('#id_da87e73a-38c8-4334-8f11-1384dcedf545 button.colab-df-generate');\n",
              "      buttonEl.style.display =\n",
              "        google.colab.kernel.accessAllowed ? 'block' : 'none';\n",
              "\n",
              "      buttonEl.onclick = () => {\n",
              "        google.colab.notebook.generateWithVariable('avg_scores');\n",
              "      }\n",
              "      })();\n",
              "    </script>\n",
              "  </div>\n",
              "\n",
              "    </div>\n",
              "  </div>\n"
            ],
            "text/plain": [
              "                                accuracy_total  accuracy_druggable  \\\n",
              "partition_0                           0.762292            0.771333   \n",
              "majority_prediction                   0.782208            0.770500   \n",
              "average_probability_prediction        0.782417            0.791333   \n",
              "partition_1                           0.759542            0.763500   \n",
              "partition_2                           0.761500            0.767833   \n",
              "partition_3                           0.759750            0.767917   \n",
              "partition_4                           0.764542            0.768667   \n",
              "partition_5                           0.764000            0.766917   \n",
              "partition_6                           0.761750            0.762750   \n",
              "partition_7                           0.762208            0.766500   \n",
              "\n",
              "                                accuracy_non_druggable  \n",
              "partition_0                                   0.753250  \n",
              "majority_prediction                           0.793917  \n",
              "average_probability_prediction                0.773500  \n",
              "partition_1                                   0.755583  \n",
              "partition_2                                   0.755167  \n",
              "partition_3                                   0.751583  \n",
              "partition_4                                   0.760417  \n",
              "partition_5                                   0.761083  \n",
              "partition_6                                   0.760750  \n",
              "partition_7                                   0.757917  "
            ]
          },
          "execution_count": 11,
          "metadata": {},
          "output_type": "execute_result"
        }
      ],
      "source": [
        "avg_scores"
      ]
    },
    {
      "cell_type": "code",
      "execution_count": null,
      "metadata": {
        "id": "T_mlxlzFFUti"
      },
      "outputs": [],
      "source": [
        "df_accuracy_totals = [scores_df[i][\"accuracy_total\"] for i in range(20)]\n",
        "df_accuracy_druggables = [scores_df[i][\"accuracy_druggable\"] for i in range(20)]\n",
        "df_accuracy_non_druggables = [scores_df[i][\"accuracy_non_druggable\"] for i in range(20)]"
      ]
    },
    {
      "cell_type": "code",
      "execution_count": null,
      "metadata": {
        "colab": {
          "base_uri": "https://localhost:8080/"
        },
        "id": "LHf7vvg2Lomj",
        "outputId": "a6138c22-0c40-409c-fbe0-95e63fcac724"
      },
      "outputs": [
        {
          "data": {
            "text/plain": [
              "((20, 10), (20, 10), (20, 10))"
            ]
          },
          "execution_count": 13,
          "metadata": {},
          "output_type": "execute_result"
        }
      ],
      "source": [
        "df_accuracy_totals = np.array(df_accuracy_totals)\n",
        "df_accuracy_druggables = np.array(df_accuracy_druggables)\n",
        "df_accuracy_non_druggables = np.array(df_accuracy_non_druggables)\n",
        "df_accuracy_totals.shape, df_accuracy_druggables.shape, df_accuracy_non_druggables.shape"
      ]
    },
    {
      "cell_type": "code",
      "execution_count": null,
      "metadata": {
        "colab": {
          "base_uri": "https://localhost:8080/"
        },
        "id": "SN-N2CJHL-og",
        "outputId": "893cc4af-c0e8-43c4-c174-30c3b34ec8e8"
      },
      "outputs": [
        {
          "data": {
            "text/plain": [
              "(array([0.76229167, 0.78220833, 0.78241667, 0.75954167, 0.7615    ,\n",
              "        0.75975   , 0.76454167, 0.764     , 0.76175   , 0.76220833]),\n",
              " array([0.01083614, 0.00874117, 0.0084816 , 0.00893835, 0.01082564,\n",
              "        0.00886668, 0.00798643, 0.00927062, 0.01265158, 0.01026143]))"
            ]
          },
          "execution_count": 14,
          "metadata": {},
          "output_type": "execute_result"
        }
      ],
      "source": [
        "np.mean(df_accuracy_totals, axis=0), np.std(df_accuracy_totals, axis=0)"
      ]
    },
    {
      "cell_type": "code",
      "execution_count": null,
      "metadata": {
        "colab": {
          "base_uri": "https://localhost:8080/"
        },
        "id": "LPjpof29MFwl",
        "outputId": "835c6af6-542e-44c8-c37b-b416264c743e"
      },
      "outputs": [
        {
          "data": {
            "text/plain": [
              "(array([0.77133333, 0.7705    , 0.79133333, 0.7635    , 0.76783333,\n",
              "        0.76791667, 0.76866667, 0.76691667, 0.76275   , 0.7665    ]),\n",
              " array([0.01551523, 0.01454017, 0.01418724, 0.01759814, 0.01480522,\n",
              "        0.01377271, 0.01238951, 0.01409566, 0.0197222 , 0.01680691]))"
            ]
          },
          "execution_count": 15,
          "metadata": {},
          "output_type": "execute_result"
        }
      ],
      "source": [
        "np.mean(df_accuracy_druggables, axis=0), np.std(df_accuracy_druggables, axis=0)"
      ]
    },
    {
      "cell_type": "code",
      "execution_count": null,
      "metadata": {
        "colab": {
          "base_uri": "https://localhost:8080/"
        },
        "id": "NgC3M6OJMX3c",
        "outputId": "8fd4460d-7f57-440d-953c-bf123779468a"
      },
      "outputs": [
        {
          "data": {
            "text/plain": [
              "(array([0.75325   , 0.79391667, 0.7735    , 0.75558333, 0.75516667,\n",
              "        0.75158333, 0.76041667, 0.76108333, 0.76075   , 0.75791667]),\n",
              " array([0.01857025, 0.01697445, 0.01561605, 0.01635776, 0.01525615,\n",
              "        0.01645258, 0.01466169, 0.01577863, 0.01881544, 0.01787981]))"
            ]
          },
          "execution_count": 16,
          "metadata": {},
          "output_type": "execute_result"
        }
      ],
      "source": [
        "np.mean(df_accuracy_non_druggables, axis=0), np.std(df_accuracy_non_druggables, axis=0)"
      ]
    },
    {
      "cell_type": "code",
      "execution_count": null,
      "metadata": {
        "id": "Qc0Jm4IyMY_K"
      },
      "outputs": [],
      "source": []
    }
  ],
  "metadata": {
    "colab": {
      "provenance": []
    },
    "kernelspec": {
      "display_name": "Python 3",
      "name": "python3"
    },
    "language_info": {
      "name": "python"
    }
  },
  "nbformat": 4,
  "nbformat_minor": 0
}
