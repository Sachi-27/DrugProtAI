{
  "nbformat": 4,
  "nbformat_minor": 0,
  "metadata": {
    "colab": {
      "provenance": []
    },
    "kernelspec": {
      "name": "python3",
      "display_name": "Python 3"
    },
    "language_info": {
      "name": "python"
    }
  },
  "cells": [
    {
      "cell_type": "code",
      "execution_count": null,
      "metadata": {
        "colab": {
          "base_uri": "https://localhost:8080/"
        },
        "id": "aQjc9zrHADBD",
        "outputId": "f3273da5-9e64-4f84-c05d-d5d372851127"
      },
      "outputs": [
        {
          "output_type": "stream",
          "name": "stdout",
          "text": [
            "Drive already mounted at /content/drive; to attempt to forcibly remount, call drive.mount(\"/content/drive\", force_remount=True).\n"
          ]
        }
      ],
      "source": [
        "# Mount google drive at /content/drive\n",
        "from google.colab import drive\n",
        "drive.mount('/content/drive')"
      ]
    },
    {
      "cell_type": "code",
      "source": [
        "# Setting seeds for reproducibility\n",
        "import numpy as np\n",
        "import tensorflow as tf\n",
        "from sklearn.preprocessing import StandardScaler\n",
        "import json\n",
        "from sklearn.model_selection import train_test_split\n",
        "from sklearn.utils import shuffle\n",
        "from sklearn.preprocessing import StandardScaler, MinMaxScaler\n",
        "from imblearn.over_sampling import ADASYN, SMOTE\n",
        "import pandas as pd\n",
        "np.random.seed(42)\n",
        "tf.random.set_seed(42)"
      ],
      "metadata": {
        "id": "WzI-rNqdoZBh"
      },
      "execution_count": null,
      "outputs": []
    },
    {
      "cell_type": "code",
      "source": [
        "data_file_path = \"/content/drive/MyDrive/protein_props/features/protein_props.json\"\n",
        "druggable_proteins_file_path = \"/content/drive/MyDrive/protein_props/NEW_WORK/druggable_proteins.txt\"\n",
        "investigational_proteins_file_path = \"/content/drive/MyDrive/protein_props/NEW_WORK/investigational_proteins.txt\"\n",
        "\n",
        "with open(data_file_path, 'r') as f:\n",
        "    protein_data = json.load(f)\n",
        "\n",
        "print(\"Total number of uniprot human verified proteins:\", len(protein_data))\n",
        "\n",
        "# Extracting list of druggable and approved druggable proteins\n",
        "with open(druggable_proteins_file_path, 'r') as f:\n",
        "    approved_druggable_proteins = f.read().splitlines()\n",
        "\n",
        "with open(investigational_proteins_file_path, 'r') as f:\n",
        "    investigational_proteins = f.read().splitlines()\n",
        "\n",
        "druggable_proteins = approved_druggable_proteins + investigational_proteins\n",
        "\n",
        "print(\"Number of druggable proteins:\", len(druggable_proteins))\n",
        "print(\"Number of druggable approved proteins:\", len(approved_druggable_proteins))\n",
        "\n",
        "\n",
        "# Fetching feature data for all proteins\n",
        "properties = (pd.read_json(\"/content/drive/MyDrive/protein_props/features/protein_props.json\")).transpose()\n",
        "is_druggable = [1 if i in druggable_proteins else 0 for i in properties.index]\n",
        "is_approved_druggable = [1 if i in approved_druggable_proteins else 0 for i in properties.index]\n",
        "\n",
        "properties[\"is_druggable\"] = is_druggable\n",
        "properties[\"is_approved_druggable\"] = is_approved_druggable\n",
        "\n",
        "PCP_properties = properties.copy()\n",
        "amino_acids = 'ACDEFGHIKLMNPQRSTVWY'\n",
        "amino_acid_percent = {i:[] for i in amino_acids}\n",
        "for i in PCP_properties['Amino Acid Percent']:\n",
        "  for aa in amino_acids:\n",
        "    amino_acid_percent[aa].append(i[aa])\n",
        "for aa in amino_acids:\n",
        "  PCP_properties = pd.concat([PCP_properties, pd.Series(amino_acid_percent[aa], index = PCP_properties.index, name = f\"Amino Acid Percent {aa}\")], axis = 1)\n",
        "\n",
        "PCP_properties[f\"Molar Extinction Coefficient 1\"] = pd.Series([x[0] for x in PCP_properties['Molar Extinction Coefficient']], index = PCP_properties.index)\n",
        "PCP_properties[f\"Molar Extinction Coefficient 2\"] = pd.Series([x[1] for x in PCP_properties['Molar Extinction Coefficient']], index = PCP_properties.index)\n",
        "\n",
        "PCP_properties[f\"Secondary Structure helix\"] = pd.Series([x[0] for x in PCP_properties['Secondary Structure']], index = PCP_properties.index)\n",
        "PCP_properties[f\"Secondary Structure turn\"] = pd.Series([x[1] for x in PCP_properties['Secondary Structure']], index = PCP_properties.index)\n",
        "PCP_properties[f\"Secondary Structure sheet\"] = pd.Series([x[2] for x in PCP_properties['Secondary Structure']], index = PCP_properties.index)\n",
        "\n",
        "PCP_properties.drop(columns = ['Amino Acid Count','Amino Acid Percent',\"Molar Extinction Coefficient\",\"Flexibility\",\"Secondary Structure\",'Sequence'], inplace = True)\n",
        "PCP_properties['Sequence Length'] = PCP_properties['Sequence Length'].astype(int)\n",
        "PCP_properties[['Molecular Weight', 'GRAVY', 'Isoelectric Point', 'Instability Index', 'Aromaticity', 'Charge at 7']] = PCP_properties[['Molecular Weight', 'GRAVY', 'Isoelectric Point', 'Instability Index', 'Aromaticity', 'Charge at 7']].astype(float)\n",
        "\n",
        "with open(\"/content/drive/MyDrive/protein_props/features/gdpc_encodings.json\", 'r') as file:\n",
        "    data = json.load(file)\n",
        "gpdc_encodings = pd.DataFrame(data).transpose()\n",
        "\n",
        "ppi = pd.read_json(\"/content/drive/MyDrive/protein_props/features/ppi.json\").transpose()\n",
        "ppi_network = pd.read_csv(\"/content/drive/MyDrive/protein_props/features/ppi_network_properties.csv\")\n",
        "ppi_network.index = ppi_network['Unnamed: 0']\n",
        "ppi_network.drop(columns = ['Unnamed: 0'], inplace = True)\n",
        "ppi = pd.concat([ppi, ppi_network], axis = 1)\n",
        "\n",
        "glycolisation = pd.read_csv(\"/content/drive/MyDrive/protein_props/features/glycosylation.csv\")\n",
        "glycolisation.index = glycolisation['Unnamed: 0']\n",
        "glycolisation.drop(columns = ['Unnamed: 0'], inplace = True)\n",
        "ptm = pd.read_csv(\"/content/drive/MyDrive/protein_props/features/PTM_counts.csv\")\n",
        "ptm.index = ptm[\"Unnamed: 0\"]\n",
        "ptm.drop(columns = ['Unnamed: 0'], inplace = True)\n",
        "ptm_counts = pd.concat([ptm, glycolisation], axis = 1)\n",
        "\n",
        "with open(\"/content/drive/MyDrive/protein_props/features/subcellular_locations2.json\", 'r') as file:\n",
        "    data = json.load(file)\n",
        "unique_groups = set()\n",
        "for entry in data.values():\n",
        "    if \"general\" in entry:\n",
        "        for general_entry in entry[\"general\"]:\n",
        "            if \"group\" in general_entry: unique_groups.add(general_entry[\"group\"])\n",
        "\n",
        "unique_groups_list = list(unique_groups)\n",
        "\n",
        "rows = []\n",
        "for protein_id in PCP_properties.index:\n",
        "    row = {group: 0 for group in unique_groups_list}\n",
        "    if protein_id in data:\n",
        "        for entry in data[protein_id].get(\"general\", []):\n",
        "            if \"group\" in entry and entry[\"group\"] in unique_groups:\n",
        "                row[entry[\"group\"]] = 1\n",
        "    row[\"protein_id\"] = protein_id\n",
        "    rows.append(row)\n",
        "\n",
        "subcellular_data = pd.DataFrame(rows).set_index(\"protein_id\")\n",
        "\n",
        "domains = pd.read_csv(\"/content/drive/MyDrive/protein_props/features/data_top20_updated.csv\")\n",
        "domains.index = domains['Unnamed: 0']\n",
        "domains.drop(columns = ['Unnamed: 0'], inplace = True)\n",
        "\n",
        "flexibility = pd.read_csv(\"/content/drive/MyDrive/protein_props/features/flexibility_properties.csv\")\n",
        "flexibility.index = flexibility['Unnamed: 0']\n",
        "flexibility.drop(columns = ['Unnamed: 0'], inplace = True)\n",
        "\n",
        "latent_data = pd.read_csv(\"/content/drive/MyDrive/protein_props/features/latent_values.csv\").transpose()\n",
        "latent_data.columns = [f\"Latent_Value_{i+1}\" for i in latent_data.columns]\n",
        "final_data = pd.concat([PCP_properties,gpdc_encodings, ptm_counts, ppi, subcellular_data, domains, flexibility, latent_data], axis = 1).dropna()\n",
        "features_list = final_data.columns\n",
        "features_list = features_list.drop(['is_druggable','is_approved_druggable'])\n",
        "features_list = list(features_list)\n",
        "print(features_list)\n",
        "print(len(features_list))"
      ],
      "metadata": {
        "colab": {
          "base_uri": "https://localhost:8080/"
        },
        "id": "DWpMSiGBAJZP",
        "outputId": "d66b0205-fbcd-4b90-d36e-dca8423392fd"
      },
      "execution_count": null,
      "outputs": [
        {
          "output_type": "stream",
          "name": "stdout",
          "text": [
            "Total number of uniprot human verified proteins: 20434\n",
            "Number of druggable proteins: 2915\n",
            "Number of druggable approved proteins: 2233\n",
            "['Sequence Length', 'Molecular Weight', 'GRAVY', 'Isoelectric Point', 'Instability Index', 'Aromaticity', 'Charge at 7', 'Amino Acid Percent A', 'Amino Acid Percent C', 'Amino Acid Percent D', 'Amino Acid Percent E', 'Amino Acid Percent F', 'Amino Acid Percent G', 'Amino Acid Percent H', 'Amino Acid Percent I', 'Amino Acid Percent K', 'Amino Acid Percent L', 'Amino Acid Percent M', 'Amino Acid Percent N', 'Amino Acid Percent P', 'Amino Acid Percent Q', 'Amino Acid Percent R', 'Amino Acid Percent S', 'Amino Acid Percent T', 'Amino Acid Percent V', 'Amino Acid Percent W', 'Amino Acid Percent Y', 'Molar Extinction Coefficient 1', 'Molar Extinction Coefficient 2', 'Secondary Structure helix', 'Secondary Structure turn', 'Secondary Structure sheet', 'aliphatic_aliphatic', 'aliphatic_positive', 'aliphatic_negative', 'aliphatic_uncharged', 'aliphatic_aromatic', 'positive_aliphatic', 'positive_positive', 'positive_negative', 'positive_uncharged', 'positive_aromatic', 'negative_aliphatic', 'negative_positive', 'negative_negative', 'negative_uncharged', 'negative_aromatic', 'uncharged_aliphatic', 'uncharged_positive', 'uncharged_negative', 'uncharged_uncharged', 'uncharged_aromatic', 'aromatic_aliphatic', 'aromatic_positive', 'aromatic_negative', 'aromatic_uncharged', 'aromatic_aromatic', 'Glycosylation', 'Cross-link', 'Modified residue', 'Signal', 'Disulfide bond', 'O-linked', 'N-linked', 'C-linked', 'N-beta-linked', 'S-linked', 'O-alpha-linked', 'binary_count', 'binary_experimental_count', 'xeno_count', 'xeno_experimental_count', 'degree_binary', 'degree_xeno', 'degree_all', 'avg_degree_nbr_binary', 'avg_degree_nbr_xeno', 'avg_degree_nbr_all', 'strongly_connected_component_sizes_all', 'perikaryon', 'lipid droplet', 'cytoplasm', 'cell junction', 'target cell membrane', 'cleavage furrow', 'vacuole membrane', 'inflammasome', 'endomembrane system', 'lateral cell membrane', 'cytoplasmic vesicle', 'melanosome', 'recycling endosome', 'extracellular vessicle', 'vesicle', 'cell membrane', 'zymogen granule', 'nucleus', 'golgi outpost', 'virion', 'smooth endoplasmic reticulum membrane', 'golgo apparatus', 'cytoplasmic granule', 'photoreceptor', 'rough endoplasmic reticulum', 'dynein axonemal particle', 'endoplasmic reticulum', 'mitochondrion', 'endosome', 'membrane', 'late endosome', 'postsynapse', 'presynapse', 'cell surface', 'myelin membrane', 'peroxisome', 'early endosome', 'chromosome', 'synapse', 'sarcoplasmic reticulum', 'midbody', 'preautophagosomal structure', 'vacuole', 'secreted', 'parasitophorous vacuole', 'lysosome', 'cytolitic granule', 'microsome', 'cell projection', 'cornified envelope', 'rrm', 'acidic residues', 'ph', 'krab', 'pdz', 'btb', 'nuclear localization signal', 'fibronectin type-iii', 'disordered', 'ig-like v-type', 'ef-hand', 'sh3', 'ig-like', 'pro residues', 'protein kinase', 'ig-like c2-type', 'basic and acidic residues', 'basic residues', 'egf-like', 'polar residues', 'Mean', 'Mode', 'Min', 'Max', 'Variance', 'Median', 'Standard Deviation', 'Range', 'Min gap', 'Max gap', 'Average gap', 'Min 2-hop gap', 'Max 2-hop gap', 'Average 2-hop gap', 'Latent_Value_1', 'Latent_Value_2', 'Latent_Value_3', 'Latent_Value_4', 'Latent_Value_5', 'Latent_Value_6', 'Latent_Value_7', 'Latent_Value_8', 'Latent_Value_9', 'Latent_Value_10', 'Latent_Value_11', 'Latent_Value_12', 'Latent_Value_13', 'Latent_Value_14', 'Latent_Value_15', 'Latent_Value_16', 'Latent_Value_17', 'Latent_Value_18', 'Latent_Value_19', 'Latent_Value_20']\n",
            "183\n"
          ]
        }
      ]
    },
    {
      "cell_type": "code",
      "source": [
        "# Train Test Splitting\n",
        "from sklearn.model_selection import train_test_split\n",
        "from sklearn.utils import shuffle\n",
        "from sklearn.preprocessing import StandardScaler, MinMaxScaler\n",
        "from imblearn.over_sampling import ADASYN, SMOTE\n",
        "\n",
        "def get_data(x_sample, y_sample):\n",
        "  return np.array(x_sample), np.array(y_sample)\n",
        "\n",
        "def data_splitting(x_sample, y_sample, mode=\"default\", scaler=\"none\", class_size=600, random_state=123):\n",
        "  druggable_indices = (y_sample == 1)  # Assuming 1 represents druggable\n",
        "  non_druggable_indices = (y_sample == 0)  # Assuming 0 represents non-druggable\n",
        "\n",
        "  druggable_X = x_sample[druggable_indices]\n",
        "  druggable_y = y_sample[druggable_indices]\n",
        "\n",
        "  non_druggable_X = x_sample[non_druggable_indices]\n",
        "  non_druggable_y = y_sample[non_druggable_indices]\n",
        "\n",
        "  druggable_X_remaining, druggable_X_test, druggable_y_remaining, druggable_y_test = train_test_split(druggable_X, druggable_y, test_size=class_size, random_state=random_state)\n",
        "  non_druggable_X_remaining, non_druggable_X_test, non_druggable_y_remaining, non_druggable_y_test = train_test_split(non_druggable_X, non_druggable_y, test_size= class_size, random_state=random_state)\n",
        "\n",
        "  X_test = pd.concat((druggable_X_test, non_druggable_X_test))\n",
        "  y_test = pd.concat((druggable_y_test, non_druggable_y_test))\n",
        "  X_train = pd.concat((druggable_X_remaining, non_druggable_X_remaining))\n",
        "  y_train = pd.concat((druggable_y_remaining, non_druggable_y_remaining))\n",
        "  X_train, y_train = shuffle(X_train, y_train, random_state=random_state)\n",
        "  if mode == \"default\":\n",
        "    pass\n",
        "  elif mode == \"adasyn\":\n",
        "    ada = ADASYN(random_state=42)\n",
        "    X_train, y_train = ada.fit_resample(X_train, y_train)\n",
        "  elif mode == \"smote\":\n",
        "    smt = SMOTE(random_state=42)\n",
        "    X_train, y_train = smt.fit_resample(X_train, y_train)\n",
        "\n",
        "  if scaler == \"std\":\n",
        "    scaler = StandardScaler()\n",
        "    X_train = scaler.fit_transform(X_train)\n",
        "    X_test = scaler.transform(X_test)\n",
        "  elif scaler == \"minmax\":\n",
        "    scaler = MinMaxScaler()\n",
        "    X_train = scaler.fit_transform(X_train)\n",
        "    X_test = scaler.transform(X_test)\n",
        "  elif scaler == \"none\":\n",
        "    pass\n",
        "\n",
        "  return X_train, X_test, y_train, y_test\n"
      ],
      "metadata": {
        "id": "OEAjsH6Al1j4"
      },
      "execution_count": null,
      "outputs": []
    },
    {
      "cell_type": "code",
      "source": [
        "# rem-new-data is to extract only those proteins which are either approved druggable or non-druggable\n",
        "# i.e., it excludes proteins which are non-approved but druggable\n",
        "new_data = final_data.copy()\n",
        "new_data['new_column'] = new_data['is_druggable'] + new_data['is_approved_druggable']\n",
        "rem_new_data = new_data[new_data['new_column'] != 1]\n",
        "rem_new_data.shape, np.bincount(rem_new_data['new_column'])"
      ],
      "metadata": {
        "colab": {
          "base_uri": "https://localhost:8080/"
        },
        "id": "3yil5hhubPY1",
        "outputId": "9ac24350-5e40-427d-a86d-7e3e5bd2118e"
      },
      "execution_count": null,
      "outputs": [
        {
          "output_type": "execute_result",
          "data": {
            "text/plain": [
              "((19596, 186), array([17377,     0,  2219]))"
            ]
          },
          "metadata": {},
          "execution_count": 5
        }
      ]
    },
    {
      "cell_type": "code",
      "source": [
        "X_train, X_test, y_train, y_test = data_splitting(rem_new_data[features_list], rem_new_data['is_druggable'], class_size=300)\n",
        "print(X_train.shape, X_test.shape, y_train.shape, y_test.shape)\n",
        "print(np.bincount(y_train), np.bincount(y_test))"
      ],
      "metadata": {
        "id": "B1uCKFkkaFyZ",
        "colab": {
          "base_uri": "https://localhost:8080/"
        },
        "outputId": "d530cf93-89f9-4d15-c948-349a61cfe753"
      },
      "execution_count": null,
      "outputs": [
        {
          "output_type": "stream",
          "name": "stdout",
          "text": [
            "(18996, 183) (600, 183) (18996,) (600,)\n",
            "[17077  1919] [300 300]\n"
          ]
        }
      ]
    },
    {
      "cell_type": "markdown",
      "source": [
        "### Majority Prediction of Partitions"
      ],
      "metadata": {
        "id": "y2T-lM0ivOVZ"
      }
    },
    {
      "cell_type": "code",
      "source": [
        "X_train_druggable = X_train[y_train == 1]\n",
        "X_train_non_druggable = X_train[y_train == 0]\n",
        "\n",
        "X_train_non_druggable_partitions = np.array_split(X_train_non_druggable, round(len(X_train_non_druggable)/len(X_train_druggable)))\n",
        "print(f\"Splitting into {len(X_train_non_druggable_partitions)} partitions\")"
      ],
      "metadata": {
        "colab": {
          "base_uri": "https://localhost:8080/"
        },
        "id": "co-jDG3ovSxT",
        "outputId": "557ddfd9-24d6-4b3a-8611-d5da1066459c"
      },
      "execution_count": null,
      "outputs": [
        {
          "output_type": "stream",
          "name": "stdout",
          "text": [
            "Splitting into 9 partitions\n"
          ]
        },
        {
          "output_type": "stream",
          "name": "stderr",
          "text": [
            "/usr/local/lib/python3.10/dist-packages/numpy/core/fromnumeric.py:59: FutureWarning: 'DataFrame.swapaxes' is deprecated and will be removed in a future version. Please use 'DataFrame.transpose' instead.\n",
            "  return bound(*args, **kwds)\n"
          ]
        }
      ]
    },
    {
      "cell_type": "code",
      "source": [
        "for partition in X_train_non_druggable_partitions:\n",
        "  print(partition.shape)"
      ],
      "metadata": {
        "colab": {
          "base_uri": "https://localhost:8080/"
        },
        "id": "owz4EF5McNqV",
        "outputId": "aeb3b8aa-e411-46b5-e471-96d2f8482f1b"
      },
      "execution_count": null,
      "outputs": [
        {
          "output_type": "stream",
          "name": "stdout",
          "text": [
            "(1898, 183)\n",
            "(1898, 183)\n",
            "(1898, 183)\n",
            "(1898, 183)\n",
            "(1897, 183)\n",
            "(1897, 183)\n",
            "(1897, 183)\n",
            "(1897, 183)\n",
            "(1897, 183)\n"
          ]
        }
      ]
    },
    {
      "cell_type": "code",
      "source": [
        "from sklearn.ensemble import RandomForestClassifier\n",
        "\n",
        "rf_models = []\n",
        "for partition in X_train_non_druggable_partitions:\n",
        "  X_combined = np.concatenate((X_train_druggable, partition))\n",
        "  y_combined = np.concatenate((np.ones(len(X_train_druggable)), np.zeros(len(partition))))\n",
        "  rf_model = RandomForestClassifier(random_state=27)\n",
        "  rf_model.fit(X_combined, y_combined)\n",
        "  rf_models.append(rf_model)\n"
      ],
      "metadata": {
        "id": "xN-eG9OMx4Es"
      },
      "execution_count": null,
      "outputs": []
    },
    {
      "cell_type": "code",
      "source": [
        "y_preds = []\n",
        "for model in rf_models:\n",
        "  y_pred = model.predict(X_test)\n",
        "  y_preds.append(y_pred)\n",
        "y_preds = np.array(y_preds)\n",
        "majority_preds = np.mean(y_preds, axis=0)\n",
        "majority_preds = np.round(majority_preds)\n",
        "\n",
        "y_pred_probas = []\n",
        "for model in rf_models:\n",
        "  y_pred_proba = model.predict_proba(X_test)[:,1]\n",
        "  y_pred_probas.append(y_pred_proba)\n",
        "y_pred_probas = np.array(y_pred_probas)\n",
        "mean_pred_probas = np.mean(y_pred_probas, axis=0)\n",
        "average_proba_pred = np.round(mean_pred_probas)\n",
        "\n",
        "y_preds.shape, y_pred_probas.shape, majority_preds.shape, mean_pred_probas.shape, average_proba_pred.shape"
      ],
      "metadata": {
        "id": "ZuIJYO8vymRd",
        "colab": {
          "base_uri": "https://localhost:8080/"
        },
        "outputId": "cfc12516-1c39-46e2-8c26-456637ed6b6a"
      },
      "execution_count": null,
      "outputs": [
        {
          "output_type": "stream",
          "name": "stderr",
          "text": [
            "/usr/local/lib/python3.10/dist-packages/sklearn/utils/validation.py:2732: UserWarning: X has feature names, but RandomForestClassifier was fitted without feature names\n",
            "  warnings.warn(\n",
            "/usr/local/lib/python3.10/dist-packages/sklearn/utils/validation.py:2732: UserWarning: X has feature names, but RandomForestClassifier was fitted without feature names\n",
            "  warnings.warn(\n",
            "/usr/local/lib/python3.10/dist-packages/sklearn/utils/validation.py:2732: UserWarning: X has feature names, but RandomForestClassifier was fitted without feature names\n",
            "  warnings.warn(\n",
            "/usr/local/lib/python3.10/dist-packages/sklearn/utils/validation.py:2732: UserWarning: X has feature names, but RandomForestClassifier was fitted without feature names\n",
            "  warnings.warn(\n",
            "/usr/local/lib/python3.10/dist-packages/sklearn/utils/validation.py:2732: UserWarning: X has feature names, but RandomForestClassifier was fitted without feature names\n",
            "  warnings.warn(\n",
            "/usr/local/lib/python3.10/dist-packages/sklearn/utils/validation.py:2732: UserWarning: X has feature names, but RandomForestClassifier was fitted without feature names\n",
            "  warnings.warn(\n",
            "/usr/local/lib/python3.10/dist-packages/sklearn/utils/validation.py:2732: UserWarning: X has feature names, but RandomForestClassifier was fitted without feature names\n",
            "  warnings.warn(\n",
            "/usr/local/lib/python3.10/dist-packages/sklearn/utils/validation.py:2732: UserWarning: X has feature names, but RandomForestClassifier was fitted without feature names\n",
            "  warnings.warn(\n",
            "/usr/local/lib/python3.10/dist-packages/sklearn/utils/validation.py:2732: UserWarning: X has feature names, but RandomForestClassifier was fitted without feature names\n",
            "  warnings.warn(\n",
            "/usr/local/lib/python3.10/dist-packages/sklearn/utils/validation.py:2732: UserWarning: X has feature names, but RandomForestClassifier was fitted without feature names\n",
            "  warnings.warn(\n",
            "/usr/local/lib/python3.10/dist-packages/sklearn/utils/validation.py:2732: UserWarning: X has feature names, but RandomForestClassifier was fitted without feature names\n",
            "  warnings.warn(\n",
            "/usr/local/lib/python3.10/dist-packages/sklearn/utils/validation.py:2732: UserWarning: X has feature names, but RandomForestClassifier was fitted without feature names\n",
            "  warnings.warn(\n",
            "/usr/local/lib/python3.10/dist-packages/sklearn/utils/validation.py:2732: UserWarning: X has feature names, but RandomForestClassifier was fitted without feature names\n",
            "  warnings.warn(\n",
            "/usr/local/lib/python3.10/dist-packages/sklearn/utils/validation.py:2732: UserWarning: X has feature names, but RandomForestClassifier was fitted without feature names\n",
            "  warnings.warn(\n",
            "/usr/local/lib/python3.10/dist-packages/sklearn/utils/validation.py:2732: UserWarning: X has feature names, but RandomForestClassifier was fitted without feature names\n",
            "  warnings.warn(\n",
            "/usr/local/lib/python3.10/dist-packages/sklearn/utils/validation.py:2732: UserWarning: X has feature names, but RandomForestClassifier was fitted without feature names\n",
            "  warnings.warn(\n",
            "/usr/local/lib/python3.10/dist-packages/sklearn/utils/validation.py:2732: UserWarning: X has feature names, but RandomForestClassifier was fitted without feature names\n",
            "  warnings.warn(\n",
            "/usr/local/lib/python3.10/dist-packages/sklearn/utils/validation.py:2732: UserWarning: X has feature names, but RandomForestClassifier was fitted without feature names\n",
            "  warnings.warn(\n"
          ]
        },
        {
          "output_type": "execute_result",
          "data": {
            "text/plain": [
              "((9, 600), (9, 600), (600,), (600,), (600,))"
            ]
          },
          "metadata": {},
          "execution_count": 10
        }
      ]
    },
    {
      "cell_type": "code",
      "source": [
        "from sklearn.metrics import accuracy_score\n",
        "accuracy_metrics = {}\n",
        "for i, y_pred in enumerate(y_preds):\n",
        "  accuracy_metrics[f\"partition_{i}\"]={\n",
        "      \"accuracy_total\": accuracy_score(y_test, y_pred),\n",
        "      \"accuracy_druggable\": accuracy_score(y_test[y_test == 1], y_pred[y_test == 1]),\n",
        "      \"accuracy_non_druggable\": accuracy_score(y_test[y_test == 0], y_pred[y_test == 0]),\n",
        "  }\n",
        "\n",
        "accuracy_metrics[\"majority_prediction\"] = {\n",
        "    \"accuracy_total\": accuracy_score(y_test, majority_preds),\n",
        "    \"accuracy_druggable\": accuracy_score(y_test[y_test == 1], majority_preds[y_test == 1]),\n",
        "    \"accuracy_non_druggable\": accuracy_score(y_test[y_test == 0], majority_preds[y_test == 0]),\n",
        "}\n",
        "\n",
        "accuracy_metrics[\"average_probability_predictions\"] = {\n",
        "    \"accuracy_total\": accuracy_score(y_test, average_proba_pred),\n",
        "    \"accuracy_druggable\": accuracy_score(y_test[y_test == 1], average_proba_pred[y_test == 1]),\n",
        "    \"accuracy_non_druggable\": accuracy_score(y_test[y_test == 0], average_proba_pred[y_test == 0]),\n",
        "}\n",
        "\n",
        "df = pd.DataFrame(accuracy_metrics).transpose()\n",
        "# if SETTING == 3:\n",
        "#   df.to_csv(\"/content/drive/MyDrive/protein_props/feature_scores/ensembled_rf_metrics_separate_approved_druggable.csv\")\n",
        "# else:\n",
        "#   raise ValueError(\"Invalid SETTING value\")\n",
        "df\n"
      ],
      "metadata": {
        "colab": {
          "base_uri": "https://localhost:8080/",
          "height": 394
        },
        "id": "Uf06H9aszIAU",
        "outputId": "9c8e4c48-12b3-4a15-e869-3f0329c0f868"
      },
      "execution_count": null,
      "outputs": [
        {
          "output_type": "execute_result",
          "data": {
            "text/plain": [
              "                                 accuracy_total  accuracy_druggable  \\\n",
              "partition_0                            0.730000            0.743333   \n",
              "partition_1                            0.741667            0.756667   \n",
              "partition_2                            0.746667            0.776667   \n",
              "partition_3                            0.741667            0.780000   \n",
              "partition_4                            0.735000            0.740000   \n",
              "partition_5                            0.730000            0.750000   \n",
              "partition_6                            0.731667            0.760000   \n",
              "partition_7                            0.730000            0.736667   \n",
              "partition_8                            0.718333            0.740000   \n",
              "majority_prediction                    0.738333            0.756667   \n",
              "average_probability_predictions        0.745000            0.776667   \n",
              "\n",
              "                                 accuracy_non_druggable  \n",
              "partition_0                                    0.716667  \n",
              "partition_1                                    0.726667  \n",
              "partition_2                                    0.716667  \n",
              "partition_3                                    0.703333  \n",
              "partition_4                                    0.730000  \n",
              "partition_5                                    0.710000  \n",
              "partition_6                                    0.703333  \n",
              "partition_7                                    0.723333  \n",
              "partition_8                                    0.696667  \n",
              "majority_prediction                            0.720000  \n",
              "average_probability_predictions                0.713333  "
            ],
            "text/html": [
              "\n",
              "  <div id=\"df-ecefb29d-496e-4b52-b841-f0b2aa14424e\" class=\"colab-df-container\">\n",
              "    <div>\n",
              "<style scoped>\n",
              "    .dataframe tbody tr th:only-of-type {\n",
              "        vertical-align: middle;\n",
              "    }\n",
              "\n",
              "    .dataframe tbody tr th {\n",
              "        vertical-align: top;\n",
              "    }\n",
              "\n",
              "    .dataframe thead th {\n",
              "        text-align: right;\n",
              "    }\n",
              "</style>\n",
              "<table border=\"1\" class=\"dataframe\">\n",
              "  <thead>\n",
              "    <tr style=\"text-align: right;\">\n",
              "      <th></th>\n",
              "      <th>accuracy_total</th>\n",
              "      <th>accuracy_druggable</th>\n",
              "      <th>accuracy_non_druggable</th>\n",
              "    </tr>\n",
              "  </thead>\n",
              "  <tbody>\n",
              "    <tr>\n",
              "      <th>partition_0</th>\n",
              "      <td>0.730000</td>\n",
              "      <td>0.743333</td>\n",
              "      <td>0.716667</td>\n",
              "    </tr>\n",
              "    <tr>\n",
              "      <th>partition_1</th>\n",
              "      <td>0.741667</td>\n",
              "      <td>0.756667</td>\n",
              "      <td>0.726667</td>\n",
              "    </tr>\n",
              "    <tr>\n",
              "      <th>partition_2</th>\n",
              "      <td>0.746667</td>\n",
              "      <td>0.776667</td>\n",
              "      <td>0.716667</td>\n",
              "    </tr>\n",
              "    <tr>\n",
              "      <th>partition_3</th>\n",
              "      <td>0.741667</td>\n",
              "      <td>0.780000</td>\n",
              "      <td>0.703333</td>\n",
              "    </tr>\n",
              "    <tr>\n",
              "      <th>partition_4</th>\n",
              "      <td>0.735000</td>\n",
              "      <td>0.740000</td>\n",
              "      <td>0.730000</td>\n",
              "    </tr>\n",
              "    <tr>\n",
              "      <th>partition_5</th>\n",
              "      <td>0.730000</td>\n",
              "      <td>0.750000</td>\n",
              "      <td>0.710000</td>\n",
              "    </tr>\n",
              "    <tr>\n",
              "      <th>partition_6</th>\n",
              "      <td>0.731667</td>\n",
              "      <td>0.760000</td>\n",
              "      <td>0.703333</td>\n",
              "    </tr>\n",
              "    <tr>\n",
              "      <th>partition_7</th>\n",
              "      <td>0.730000</td>\n",
              "      <td>0.736667</td>\n",
              "      <td>0.723333</td>\n",
              "    </tr>\n",
              "    <tr>\n",
              "      <th>partition_8</th>\n",
              "      <td>0.718333</td>\n",
              "      <td>0.740000</td>\n",
              "      <td>0.696667</td>\n",
              "    </tr>\n",
              "    <tr>\n",
              "      <th>majority_prediction</th>\n",
              "      <td>0.738333</td>\n",
              "      <td>0.756667</td>\n",
              "      <td>0.720000</td>\n",
              "    </tr>\n",
              "    <tr>\n",
              "      <th>average_probability_predictions</th>\n",
              "      <td>0.745000</td>\n",
              "      <td>0.776667</td>\n",
              "      <td>0.713333</td>\n",
              "    </tr>\n",
              "  </tbody>\n",
              "</table>\n",
              "</div>\n",
              "    <div class=\"colab-df-buttons\">\n",
              "\n",
              "  <div class=\"colab-df-container\">\n",
              "    <button class=\"colab-df-convert\" onclick=\"convertToInteractive('df-ecefb29d-496e-4b52-b841-f0b2aa14424e')\"\n",
              "            title=\"Convert this dataframe to an interactive table.\"\n",
              "            style=\"display:none;\">\n",
              "\n",
              "  <svg xmlns=\"http://www.w3.org/2000/svg\" height=\"24px\" viewBox=\"0 -960 960 960\">\n",
              "    <path d=\"M120-120v-720h720v720H120Zm60-500h600v-160H180v160Zm220 220h160v-160H400v160Zm0 220h160v-160H400v160ZM180-400h160v-160H180v160Zm440 0h160v-160H620v160ZM180-180h160v-160H180v160Zm440 0h160v-160H620v160Z\"/>\n",
              "  </svg>\n",
              "    </button>\n",
              "\n",
              "  <style>\n",
              "    .colab-df-container {\n",
              "      display:flex;\n",
              "      gap: 12px;\n",
              "    }\n",
              "\n",
              "    .colab-df-convert {\n",
              "      background-color: #E8F0FE;\n",
              "      border: none;\n",
              "      border-radius: 50%;\n",
              "      cursor: pointer;\n",
              "      display: none;\n",
              "      fill: #1967D2;\n",
              "      height: 32px;\n",
              "      padding: 0 0 0 0;\n",
              "      width: 32px;\n",
              "    }\n",
              "\n",
              "    .colab-df-convert:hover {\n",
              "      background-color: #E2EBFA;\n",
              "      box-shadow: 0px 1px 2px rgba(60, 64, 67, 0.3), 0px 1px 3px 1px rgba(60, 64, 67, 0.15);\n",
              "      fill: #174EA6;\n",
              "    }\n",
              "\n",
              "    .colab-df-buttons div {\n",
              "      margin-bottom: 4px;\n",
              "    }\n",
              "\n",
              "    [theme=dark] .colab-df-convert {\n",
              "      background-color: #3B4455;\n",
              "      fill: #D2E3FC;\n",
              "    }\n",
              "\n",
              "    [theme=dark] .colab-df-convert:hover {\n",
              "      background-color: #434B5C;\n",
              "      box-shadow: 0px 1px 3px 1px rgba(0, 0, 0, 0.15);\n",
              "      filter: drop-shadow(0px 1px 2px rgba(0, 0, 0, 0.3));\n",
              "      fill: #FFFFFF;\n",
              "    }\n",
              "  </style>\n",
              "\n",
              "    <script>\n",
              "      const buttonEl =\n",
              "        document.querySelector('#df-ecefb29d-496e-4b52-b841-f0b2aa14424e button.colab-df-convert');\n",
              "      buttonEl.style.display =\n",
              "        google.colab.kernel.accessAllowed ? 'block' : 'none';\n",
              "\n",
              "      async function convertToInteractive(key) {\n",
              "        const element = document.querySelector('#df-ecefb29d-496e-4b52-b841-f0b2aa14424e');\n",
              "        const dataTable =\n",
              "          await google.colab.kernel.invokeFunction('convertToInteractive',\n",
              "                                                    [key], {});\n",
              "        if (!dataTable) return;\n",
              "\n",
              "        const docLinkHtml = 'Like what you see? Visit the ' +\n",
              "          '<a target=\"_blank\" href=https://colab.research.google.com/notebooks/data_table.ipynb>data table notebook</a>'\n",
              "          + ' to learn more about interactive tables.';\n",
              "        element.innerHTML = '';\n",
              "        dataTable['output_type'] = 'display_data';\n",
              "        await google.colab.output.renderOutput(dataTable, element);\n",
              "        const docLink = document.createElement('div');\n",
              "        docLink.innerHTML = docLinkHtml;\n",
              "        element.appendChild(docLink);\n",
              "      }\n",
              "    </script>\n",
              "  </div>\n",
              "\n",
              "\n",
              "<div id=\"df-9597f0b5-e75c-46f5-941f-91f180ec4f75\">\n",
              "  <button class=\"colab-df-quickchart\" onclick=\"quickchart('df-9597f0b5-e75c-46f5-941f-91f180ec4f75')\"\n",
              "            title=\"Suggest charts\"\n",
              "            style=\"display:none;\">\n",
              "\n",
              "<svg xmlns=\"http://www.w3.org/2000/svg\" height=\"24px\"viewBox=\"0 0 24 24\"\n",
              "     width=\"24px\">\n",
              "    <g>\n",
              "        <path d=\"M19 3H5c-1.1 0-2 .9-2 2v14c0 1.1.9 2 2 2h14c1.1 0 2-.9 2-2V5c0-1.1-.9-2-2-2zM9 17H7v-7h2v7zm4 0h-2V7h2v10zm4 0h-2v-4h2v4z\"/>\n",
              "    </g>\n",
              "</svg>\n",
              "  </button>\n",
              "\n",
              "<style>\n",
              "  .colab-df-quickchart {\n",
              "      --bg-color: #E8F0FE;\n",
              "      --fill-color: #1967D2;\n",
              "      --hover-bg-color: #E2EBFA;\n",
              "      --hover-fill-color: #174EA6;\n",
              "      --disabled-fill-color: #AAA;\n",
              "      --disabled-bg-color: #DDD;\n",
              "  }\n",
              "\n",
              "  [theme=dark] .colab-df-quickchart {\n",
              "      --bg-color: #3B4455;\n",
              "      --fill-color: #D2E3FC;\n",
              "      --hover-bg-color: #434B5C;\n",
              "      --hover-fill-color: #FFFFFF;\n",
              "      --disabled-bg-color: #3B4455;\n",
              "      --disabled-fill-color: #666;\n",
              "  }\n",
              "\n",
              "  .colab-df-quickchart {\n",
              "    background-color: var(--bg-color);\n",
              "    border: none;\n",
              "    border-radius: 50%;\n",
              "    cursor: pointer;\n",
              "    display: none;\n",
              "    fill: var(--fill-color);\n",
              "    height: 32px;\n",
              "    padding: 0;\n",
              "    width: 32px;\n",
              "  }\n",
              "\n",
              "  .colab-df-quickchart:hover {\n",
              "    background-color: var(--hover-bg-color);\n",
              "    box-shadow: 0 1px 2px rgba(60, 64, 67, 0.3), 0 1px 3px 1px rgba(60, 64, 67, 0.15);\n",
              "    fill: var(--button-hover-fill-color);\n",
              "  }\n",
              "\n",
              "  .colab-df-quickchart-complete:disabled,\n",
              "  .colab-df-quickchart-complete:disabled:hover {\n",
              "    background-color: var(--disabled-bg-color);\n",
              "    fill: var(--disabled-fill-color);\n",
              "    box-shadow: none;\n",
              "  }\n",
              "\n",
              "  .colab-df-spinner {\n",
              "    border: 2px solid var(--fill-color);\n",
              "    border-color: transparent;\n",
              "    border-bottom-color: var(--fill-color);\n",
              "    animation:\n",
              "      spin 1s steps(1) infinite;\n",
              "  }\n",
              "\n",
              "  @keyframes spin {\n",
              "    0% {\n",
              "      border-color: transparent;\n",
              "      border-bottom-color: var(--fill-color);\n",
              "      border-left-color: var(--fill-color);\n",
              "    }\n",
              "    20% {\n",
              "      border-color: transparent;\n",
              "      border-left-color: var(--fill-color);\n",
              "      border-top-color: var(--fill-color);\n",
              "    }\n",
              "    30% {\n",
              "      border-color: transparent;\n",
              "      border-left-color: var(--fill-color);\n",
              "      border-top-color: var(--fill-color);\n",
              "      border-right-color: var(--fill-color);\n",
              "    }\n",
              "    40% {\n",
              "      border-color: transparent;\n",
              "      border-right-color: var(--fill-color);\n",
              "      border-top-color: var(--fill-color);\n",
              "    }\n",
              "    60% {\n",
              "      border-color: transparent;\n",
              "      border-right-color: var(--fill-color);\n",
              "    }\n",
              "    80% {\n",
              "      border-color: transparent;\n",
              "      border-right-color: var(--fill-color);\n",
              "      border-bottom-color: var(--fill-color);\n",
              "    }\n",
              "    90% {\n",
              "      border-color: transparent;\n",
              "      border-bottom-color: var(--fill-color);\n",
              "    }\n",
              "  }\n",
              "</style>\n",
              "\n",
              "  <script>\n",
              "    async function quickchart(key) {\n",
              "      const quickchartButtonEl =\n",
              "        document.querySelector('#' + key + ' button');\n",
              "      quickchartButtonEl.disabled = true;  // To prevent multiple clicks.\n",
              "      quickchartButtonEl.classList.add('colab-df-spinner');\n",
              "      try {\n",
              "        const charts = await google.colab.kernel.invokeFunction(\n",
              "            'suggestCharts', [key], {});\n",
              "      } catch (error) {\n",
              "        console.error('Error during call to suggestCharts:', error);\n",
              "      }\n",
              "      quickchartButtonEl.classList.remove('colab-df-spinner');\n",
              "      quickchartButtonEl.classList.add('colab-df-quickchart-complete');\n",
              "    }\n",
              "    (() => {\n",
              "      let quickchartButtonEl =\n",
              "        document.querySelector('#df-9597f0b5-e75c-46f5-941f-91f180ec4f75 button');\n",
              "      quickchartButtonEl.style.display =\n",
              "        google.colab.kernel.accessAllowed ? 'block' : 'none';\n",
              "    })();\n",
              "  </script>\n",
              "</div>\n",
              "\n",
              "  <div id=\"id_6ba82cd3-72d8-4017-b442-ed09f1adca06\">\n",
              "    <style>\n",
              "      .colab-df-generate {\n",
              "        background-color: #E8F0FE;\n",
              "        border: none;\n",
              "        border-radius: 50%;\n",
              "        cursor: pointer;\n",
              "        display: none;\n",
              "        fill: #1967D2;\n",
              "        height: 32px;\n",
              "        padding: 0 0 0 0;\n",
              "        width: 32px;\n",
              "      }\n",
              "\n",
              "      .colab-df-generate:hover {\n",
              "        background-color: #E2EBFA;\n",
              "        box-shadow: 0px 1px 2px rgba(60, 64, 67, 0.3), 0px 1px 3px 1px rgba(60, 64, 67, 0.15);\n",
              "        fill: #174EA6;\n",
              "      }\n",
              "\n",
              "      [theme=dark] .colab-df-generate {\n",
              "        background-color: #3B4455;\n",
              "        fill: #D2E3FC;\n",
              "      }\n",
              "\n",
              "      [theme=dark] .colab-df-generate:hover {\n",
              "        background-color: #434B5C;\n",
              "        box-shadow: 0px 1px 3px 1px rgba(0, 0, 0, 0.15);\n",
              "        filter: drop-shadow(0px 1px 2px rgba(0, 0, 0, 0.3));\n",
              "        fill: #FFFFFF;\n",
              "      }\n",
              "    </style>\n",
              "    <button class=\"colab-df-generate\" onclick=\"generateWithVariable('df')\"\n",
              "            title=\"Generate code using this dataframe.\"\n",
              "            style=\"display:none;\">\n",
              "\n",
              "  <svg xmlns=\"http://www.w3.org/2000/svg\" height=\"24px\"viewBox=\"0 0 24 24\"\n",
              "       width=\"24px\">\n",
              "    <path d=\"M7,19H8.4L18.45,9,17,7.55,7,17.6ZM5,21V16.75L18.45,3.32a2,2,0,0,1,2.83,0l1.4,1.43a1.91,1.91,0,0,1,.58,1.4,1.91,1.91,0,0,1-.58,1.4L9.25,21ZM18.45,9,17,7.55Zm-12,3A5.31,5.31,0,0,0,4.9,8.1,5.31,5.31,0,0,0,1,6.5,5.31,5.31,0,0,0,4.9,4.9,5.31,5.31,0,0,0,6.5,1,5.31,5.31,0,0,0,8.1,4.9,5.31,5.31,0,0,0,12,6.5,5.46,5.46,0,0,0,6.5,12Z\"/>\n",
              "  </svg>\n",
              "    </button>\n",
              "    <script>\n",
              "      (() => {\n",
              "      const buttonEl =\n",
              "        document.querySelector('#id_6ba82cd3-72d8-4017-b442-ed09f1adca06 button.colab-df-generate');\n",
              "      buttonEl.style.display =\n",
              "        google.colab.kernel.accessAllowed ? 'block' : 'none';\n",
              "\n",
              "      buttonEl.onclick = () => {\n",
              "        google.colab.notebook.generateWithVariable('df');\n",
              "      }\n",
              "      })();\n",
              "    </script>\n",
              "  </div>\n",
              "\n",
              "    </div>\n",
              "  </div>\n"
            ],
            "application/vnd.google.colaboratory.intrinsic+json": {
              "type": "dataframe",
              "variable_name": "df",
              "summary": "{\n  \"name\": \"df\",\n  \"rows\": 11,\n  \"fields\": [\n    {\n      \"column\": \"accuracy_total\",\n      \"properties\": {\n        \"dtype\": \"number\",\n        \"std\": 0.008360561577967707,\n        \"min\": 0.7183333333333334,\n        \"max\": 0.7466666666666667,\n        \"num_unique_values\": 8,\n        \"samples\": [\n          0.7416666666666667,\n          0.7183333333333334,\n          0.73\n        ],\n        \"semantic_type\": \"\",\n        \"description\": \"\"\n      }\n    },\n    {\n      \"column\": \"accuracy_druggable\",\n      \"properties\": {\n        \"dtype\": \"number\",\n        \"std\": 0.01590375090754671,\n        \"min\": 0.7366666666666667,\n        \"max\": 0.78,\n        \"num_unique_values\": 8,\n        \"samples\": [\n          0.7566666666666667,\n          0.75,\n          0.7433333333333333\n        ],\n        \"semantic_type\": \"\",\n        \"description\": \"\"\n      }\n    },\n    {\n      \"column\": \"accuracy_non_druggable\",\n      \"properties\": {\n        \"dtype\": \"number\",\n        \"std\": 0.010463983442979516,\n        \"min\": 0.6966666666666667,\n        \"max\": 0.73,\n        \"num_unique_values\": 9,\n        \"samples\": [\n          0.72,\n          0.7266666666666667,\n          0.7233333333333334\n        ],\n        \"semantic_type\": \"\",\n        \"description\": \"\"\n      }\n    }\n  ]\n}"
            }
          },
          "metadata": {},
          "execution_count": 11
        }
      ]
    },
    {
      "cell_type": "code",
      "source": [
        "from sklearn.metrics import roc_auc_score, roc_curve\n",
        "import matplotlib.pyplot as plt\n",
        "\n",
        "# ROC_AUC for average_probability_preds\n",
        "fpr, tpr, thresholds = roc_curve(y_test, mean_pred_probas)\n",
        "roc_auc = roc_auc_score(y_test, mean_pred_probas)\n",
        "print(roc_auc)\n",
        "\n",
        "# Plot ROC curve\n",
        "plt.figure()\n",
        "plt.plot(fpr, tpr, color='darkorange', lw=2, label='ROC curve (area = %0.2f)' % roc_auc)\n",
        "plt.plot([0, 1], [0, 1], color='navy', lw=2, linestyle='--')\n",
        "plt.xlim([0.0, 1.0])\n",
        "plt.ylim([0.0, 1.05])\n",
        "# no axis marks\n",
        "plt.xticks([])\n",
        "plt.yticks([])\n",
        "# plt.xlabel('False Positive Rate')\n",
        "# plt.ylabel('True Positive Rate')\n",
        "plt.savefig(\"/content/drive/MyDrive/protein_props/NEW_WORK/RF_PEC_AUC_curve.png\")"
      ],
      "metadata": {
        "colab": {
          "base_uri": "https://localhost:8080/",
          "height": 424
        },
        "id": "FSSZYF2OxE8-",
        "outputId": "6d65bf2a-29af-496e-beee-9c5d295e4e8e"
      },
      "execution_count": null,
      "outputs": [
        {
          "output_type": "stream",
          "name": "stdout",
          "text": [
            "0.8289500000000001\n"
          ]
        },
        {
          "output_type": "display_data",
          "data": {
            "text/plain": [
              "<Figure size 640x480 with 1 Axes>"
            ],
            "image/png": "[encoded data removed]"
          },
          "metadata": {}
        }
      ]
    },
    {
      "cell_type": "code",
      "source": [
        "from sklearn.metrics import confusion_matrix\n",
        "import seaborn as sns\n",
        "\n",
        "conf_matrix = confusion_matrix(y_test, average_proba_pred)\n",
        "conf_matrix\n"
      ],
      "metadata": {
        "colab": {
          "base_uri": "https://localhost:8080/"
        },
        "id": "PrurxFX7qIdM",
        "outputId": "4c9e7ad2-63b5-4005-ac97-33f5611aa3b8"
      },
      "execution_count": null,
      "outputs": [
        {
          "output_type": "execute_result",
          "data": {
            "text/plain": [
              "array([[214,  86],\n",
              "       [ 67, 233]])"
            ]
          },
          "metadata": {},
          "execution_count": 13
        }
      ]
    },
    {
      "cell_type": "code",
      "source": [
        "sns.heatmap(conf_matrix, annot=True, cmap='Blues', fmt = 'd')\n",
        "plt.savefig(\"/content/drive/MyDrive/protein_props/NEW_WORK/RF_PEC_confusion_matrix.png\")"
      ],
      "metadata": {
        "colab": {
          "base_uri": "https://localhost:8080/",
          "height": 430
        },
        "id": "2aqf-UwFqKbW",
        "outputId": "2459e46e-9599-41c5-be1e-dda1d76d877a"
      },
      "execution_count": null,
      "outputs": [
        {
          "output_type": "display_data",
          "data": {
            "text/plain": [
              "<Figure size 640x480 with 2 Axes>"
            ],
            "image/png": "[encoded data removed]"
          },
          "metadata": {}
        }
      ]
    }
  ]
}