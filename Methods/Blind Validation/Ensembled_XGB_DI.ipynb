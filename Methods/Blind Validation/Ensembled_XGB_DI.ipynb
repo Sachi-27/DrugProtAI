{
  "cells": [
    {
      "cell_type": "code",
      "execution_count": null,
      "metadata": {
        "id": "oDq4fXrPr55V"
      },
      "outputs": [],
      "source": [
        "# Setting seeds for reproducibility\n",
        "import numpy as np\n",
        "import tensorflow as tf\n",
        "from sklearn.preprocessing import StandardScaler\n",
        "import json\n",
        "from sklearn.model_selection import train_test_split\n",
        "from sklearn.utils import shuffle\n",
        "from sklearn.preprocessing import StandardScaler, MinMaxScaler\n",
        "from imblearn.over_sampling import ADASYN, SMOTE\n",
        "import pandas as pd\n",
        "np.random.seed(42)\n",
        "tf.random.set_seed(42)"
      ]
    },
    {
      "cell_type": "code",
      "execution_count": null,
      "metadata": {
        "colab": {
          "base_uri": "https://localhost:8080/"
        },
        "id": "DWpMSiGBAJZP",
        "outputId": "b302d77c-01e3-46e6-c7c5-8af95778f7d3"
      },
      "outputs": [
        {
          "name": "stdout",
          "output_type": "stream",
          "text": [
            "Total number of uniprot human verified proteins: 20434\n",
            "Number of druggable proteins: 3345\n",
            "Number of approved druggable proteins: 2652\n",
            "['Sequence Length', 'Molecular Weight', 'GRAVY', 'Isoelectric Point', 'Instability Index', 'Aromaticity', 'Charge at 7', 'Amino Acid Percent A', 'Amino Acid Percent C', 'Amino Acid Percent D', 'Amino Acid Percent E', 'Amino Acid Percent F', 'Amino Acid Percent G', 'Amino Acid Percent H', 'Amino Acid Percent I', 'Amino Acid Percent K', 'Amino Acid Percent L', 'Amino Acid Percent M', 'Amino Acid Percent N', 'Amino Acid Percent P', 'Amino Acid Percent Q', 'Amino Acid Percent R', 'Amino Acid Percent S', 'Amino Acid Percent T', 'Amino Acid Percent V', 'Amino Acid Percent W', 'Amino Acid Percent Y', 'Molar Extinction Coefficient 1', 'Molar Extinction Coefficient 2', 'Secondary Structure helix', 'Secondary Structure turn', 'Secondary Structure sheet', 'aliphatic_aliphatic', 'aliphatic_positive', 'aliphatic_negative', 'aliphatic_uncharged', 'aliphatic_aromatic', 'positive_aliphatic', 'positive_positive', 'positive_negative', 'positive_uncharged', 'positive_aromatic', 'negative_aliphatic', 'negative_positive', 'negative_negative', 'negative_uncharged', 'negative_aromatic', 'uncharged_aliphatic', 'uncharged_positive', 'uncharged_negative', 'uncharged_uncharged', 'uncharged_aromatic', 'aromatic_aliphatic', 'aromatic_positive', 'aromatic_negative', 'aromatic_uncharged', 'aromatic_aromatic', 'Glycosylation', 'Cross-link', 'Modified residue', 'Signal', 'Disulfide bond', 'O-linked', 'N-linked', 'C-linked', 'N-beta-linked', 'S-linked', 'O-alpha-linked', 'binary_count', 'binary_experimental_count', 'xeno_count', 'xeno_experimental_count', 'degree_binary', 'degree_xeno', 'degree_all', 'avg_degree_nbr_binary', 'avg_degree_nbr_xeno', 'avg_degree_nbr_all', 'strongly_connected_component_sizes_all', 'myelin membrane', 'late endosome', 'presynapse', 'cytolitic granule', 'preautophagosomal structure', 'smooth endoplasmic reticulum membrane', 'endomembrane system', 'rough endoplasmic reticulum', 'golgo apparatus', 'dynein axonemal particle', 'cell surface', 'cell membrane', 'sarcoplasmic reticulum', 'cytoplasmic vesicle', 'vacuole', 'parasitophorous vacuole', 'cell projection', 'target cell membrane', 'zymogen granule', 'virion', 'extracellular vessicle', 'golgi outpost', 'peroxisome', 'membrane', 'synapse', 'cell junction', 'secreted', 'mitochondrion', 'cleavage furrow', 'vacuole membrane', 'endosome', 'photoreceptor', 'cornified envelope', 'lysosome', 'midbody', 'cytoplasmic granule', 'perikaryon', 'postsynapse', 'lipid droplet', 'chromosome', 'microsome', 'endoplasmic reticulum', 'melanosome', 'recycling endosome', 'vesicle', 'cytoplasm', 'inflammasome', 'nucleus', 'lateral cell membrane', 'early endosome', 'rrm', 'acidic residues', 'ph', 'krab', 'pdz', 'btb', 'nuclear localization signal', 'fibronectin type-iii', 'disordered', 'ig-like v-type', 'ef-hand', 'sh3', 'ig-like', 'pro residues', 'protein kinase', 'ig-like c2-type', 'basic and acidic residues', 'basic residues', 'egf-like', 'polar residues', 'Mean', 'Mode', 'Min', 'Max', 'Variance', 'Median', 'Standard Deviation', 'Range', 'Min gap', 'Max gap', 'Average gap', 'Min 2-hop gap', 'Max 2-hop gap', 'Average 2-hop gap', 'Latent_Value_1', 'Latent_Value_2', 'Latent_Value_3', 'Latent_Value_4', 'Latent_Value_5', 'Latent_Value_6', 'Latent_Value_7', 'Latent_Value_8', 'Latent_Value_9', 'Latent_Value_10', 'Latent_Value_11', 'Latent_Value_12', 'Latent_Value_13', 'Latent_Value_14', 'Latent_Value_15', 'Latent_Value_16', 'Latent_Value_17', 'Latent_Value_18', 'Latent_Value_19', 'Latent_Value_20']\n",
            "183\n"
          ]
        }
      ],
      "source": [
        "data_file_path = \"../../Features/PCFs/files_for_ml/protein_props.json\"\n",
        "druggable_proteins_file_path = \"../../DrugBank/druggable_proteins.txt\"\n",
        "approved_druggable_proteins_file_path = \"../../DrugBank/approved_druggable_proteins.txt\"\n",
        "\n",
        "with open(data_file_path, 'r') as f:\n",
        "    protein_data = json.load(f)\n",
        "\n",
        "print(\"Total number of uniprot human verified proteins:\", len(protein_data))\n",
        "\n",
        "# Extracting list of druggable and approved druggable proteins\n",
        "with open(druggable_proteins_file_path, 'r') as f:\n",
        "    druggable_proteins = f.read().splitlines()\n",
        "\n",
        "with open(approved_druggable_proteins_file_path, 'r') as f:\n",
        "    approved_druggable_proteins = f.read().splitlines()\n",
        "\n",
        "print(\"Number of druggable proteins:\", len(druggable_proteins))\n",
        "print(\"Number of approved druggable proteins:\", len(approved_druggable_proteins))\n",
        "\n",
        "\n",
        "# Fetching feature data for all proteins\n",
        "properties = (pd.read_json(\"../../Features/PCFs/files_for_ml/protein_props.json\")).transpose()\n",
        "is_druggable = [1 if i in druggable_proteins else 0 for i in properties.index]\n",
        "is_approved_druggable = [1 if i in approved_druggable_proteins else 0 for i in properties.index]\n",
        "\n",
        "properties[\"is_druggable\"] = is_druggable\n",
        "properties[\"is_approved_druggable\"] = is_approved_druggable\n",
        "\n",
        "PCP_properties = properties.copy()\n",
        "amino_acids = 'ACDEFGHIKLMNPQRSTVWY'\n",
        "amino_acid_percent = {i:[] for i in amino_acids}\n",
        "for i in PCP_properties['Amino Acid Percent']:\n",
        "  for aa in amino_acids:\n",
        "    amino_acid_percent[aa].append(i[aa])\n",
        "for aa in amino_acids:\n",
        "  PCP_properties = pd.concat([PCP_properties, pd.Series(amino_acid_percent[aa], index = PCP_properties.index, name = f\"Amino Acid Percent {aa}\")], axis = 1)\n",
        "\n",
        "PCP_properties[f\"Molar Extinction Coefficient 1\"] = pd.Series([x[0] for x in PCP_properties['Molar Extinction Coefficient']], index = PCP_properties.index)\n",
        "PCP_properties[f\"Molar Extinction Coefficient 2\"] = pd.Series([x[1] for x in PCP_properties['Molar Extinction Coefficient']], index = PCP_properties.index)\n",
        "\n",
        "PCP_properties[f\"Secondary Structure helix\"] = pd.Series([x[0] for x in PCP_properties['Secondary Structure']], index = PCP_properties.index)\n",
        "PCP_properties[f\"Secondary Structure turn\"] = pd.Series([x[1] for x in PCP_properties['Secondary Structure']], index = PCP_properties.index)\n",
        "PCP_properties[f\"Secondary Structure sheet\"] = pd.Series([x[2] for x in PCP_properties['Secondary Structure']], index = PCP_properties.index)\n",
        "\n",
        "PCP_properties.drop(columns = ['Amino Acid Count','Amino Acid Percent',\"Molar Extinction Coefficient\",\"Flexibility\",\"Secondary Structure\",'Sequence'], inplace = True)\n",
        "PCP_properties['Sequence Length'] = PCP_properties['Sequence Length'].astype(int)\n",
        "PCP_properties[['Molecular Weight', 'GRAVY', 'Isoelectric Point', 'Instability Index', 'Aromaticity', 'Charge at 7']] = PCP_properties[['Molecular Weight', 'GRAVY', 'Isoelectric Point', 'Instability Index', 'Aromaticity', 'Charge at 7']].astype(float)\n",
        "\n",
        "with open(\"/content/drive/MyDrive/protein_props/features/gdpc_encodings.json\", 'r') as file:\n",
        "    data = json.load(file)\n",
        "gpdc_encodings = pd.DataFrame(data).transpose()\n",
        "\n",
        "ppi = pd.read_json(\"../../Features/PPIs/files_for_ml/ppi.json\").transpose()\n",
        "ppi_network = pd.read_csv(\"../../Features/PPIs/files_for_ml/ppi_network_properties.csv\")\n",
        "ppi_network.index = ppi_network['Unnamed: 0']\n",
        "ppi_network.drop(columns = ['Unnamed: 0'], inplace = True)\n",
        "ppi = pd.concat([ppi, ppi_network], axis = 1)\n",
        "\n",
        "glycolisation = pd.read_csv(\"../../Features/PTMs/files_for_ml/glycosylation.csv\")\n",
        "glycolisation.index = glycolisation['Unnamed: 0']\n",
        "glycolisation.drop(columns = ['Unnamed: 0'], inplace = True)\n",
        "ptm = pd.read_csv(\"../../Features/PTMs/files_for_ml/PTM_counts.csv\")\n",
        "ptm.index = ptm[\"Unnamed: 0\"]\n",
        "ptm.drop(columns = ['Unnamed: 0'], inplace = True)\n",
        "ptm_counts = pd.concat([ptm, glycolisation], axis = 1)\n",
        "\n",
        "with open(\"../../Features/SCL/files_for_ml/subcellular_locations2.json\", 'r') as file:\n",
        "    data = json.load(file)\n",
        "unique_groups = set()\n",
        "for entry in data.values():\n",
        "    if \"general\" in entry:\n",
        "        for general_entry in entry[\"general\"]:\n",
        "            if \"group\" in general_entry: unique_groups.add(general_entry[\"group\"])\n",
        "\n",
        "unique_groups_list = list(unique_groups)\n",
        "\n",
        "rows = []\n",
        "for protein_id in PCP_properties.index:\n",
        "    row = {group: 0 for group in unique_groups_list}\n",
        "    if protein_id in data:\n",
        "        for entry in data[protein_id].get(\"general\", []):\n",
        "            if \"group\" in entry and entry[\"group\"] in unique_groups:\n",
        "                row[entry[\"group\"]] = 1\n",
        "    row[\"protein_id\"] = protein_id\n",
        "    rows.append(row)\n",
        "\n",
        "subcellular_data = pd.DataFrame(rows).set_index(\"protein_id\")\n",
        "\n",
        "domains = pd.read_csv(\"../../Features/Domains/files_for_ml/data_top20.csv\")\n",
        "domains.index = domains['Unnamed: 0']\n",
        "domains.drop(columns = ['Unnamed: 0'], inplace = True)\n",
        "\n",
        "flexibility = pd.read_csv(\"../../Features/PCFs/files_for_ml/flexibility_properties.csv\")\n",
        "flexibility.index = flexibility['Unnamed: 0']\n",
        "flexibility.drop(columns = ['Unnamed: 0'], inplace = True)\n",
        "\n",
        "latent_data = pd.read_csv(\"../../Features/Latents/files_for_ml/latent_values.csv\").transpose()\n",
        "latent_data.columns = [f\"Latent_Value_{i+1}\" for i in latent_data.columns]\n",
        "final_data = pd.concat([PCP_properties,gpdc_encodings, ptm_counts, ppi, subcellular_data, domains, flexibility, latent_data], axis = 1).dropna()\n",
        "features_list = final_data.columns\n",
        "features_list = features_list.drop(['is_druggable','is_approved_druggable'])\n",
        "features_list = list(features_list)\n",
        "print(features_list)\n",
        "print(len(features_list))\n"
      ]
    },
    {
      "cell_type": "code",
      "execution_count": null,
      "metadata": {
        "id": "OEAjsH6Al1j4"
      },
      "outputs": [],
      "source": [
        "# Train Test Splitting\n",
        "from sklearn.model_selection import train_test_split\n",
        "from sklearn.utils import shuffle\n",
        "from sklearn.preprocessing import StandardScaler, MinMaxScaler\n",
        "from imblearn.over_sampling import ADASYN, SMOTE\n",
        "\n",
        "def get_data(x_sample, y_sample):\n",
        "  return np.array(x_sample), np.array(y_sample)\n",
        "\n",
        "def data_splitting(x_sample, y_sample, mode=\"default\", scaler=\"none\", class_size=600):\n",
        "  druggable_indices = (y_sample == 1)  # Assuming 1 represents druggable\n",
        "  non_druggable_indices = (y_sample == 0)  # Assuming 0 represents non-druggable\n",
        "\n",
        "  druggable_X = x_sample[druggable_indices]\n",
        "  druggable_y = y_sample[druggable_indices]\n",
        "\n",
        "  non_druggable_X = x_sample[non_druggable_indices]\n",
        "  non_druggable_y = y_sample[non_druggable_indices]\n",
        "\n",
        "  druggable_X_remaining, druggable_X_test, druggable_y_remaining, druggable_y_test = train_test_split(druggable_X, druggable_y, test_size=class_size, random_state=123)\n",
        "  non_druggable_X_remaining, non_druggable_X_test, non_druggable_y_remaining, non_druggable_y_test = train_test_split(non_druggable_X, non_druggable_y, test_size= class_size, random_state=123)\n",
        "\n",
        "  X_test = pd.concat((druggable_X_test, non_druggable_X_test))\n",
        "  y_test = pd.concat((druggable_y_test, non_druggable_y_test))\n",
        "  X_train = pd.concat((druggable_X_remaining, non_druggable_X_remaining))\n",
        "  y_train = pd.concat((druggable_y_remaining, non_druggable_y_remaining))\n",
        "  X_train, y_train = shuffle(X_train, y_train, random_state=123)\n",
        "  if mode == \"default\":\n",
        "    pass\n",
        "  elif mode == \"adasyn\":\n",
        "    ada = ADASYN(random_state=42)\n",
        "    X_train, y_train = ada.fit_resample(X_train, y_train)\n",
        "  elif mode == \"smote\":\n",
        "    smt = SMOTE(random_state=42)\n",
        "    X_train, y_train = smt.fit_resample(X_train, y_train)\n",
        "\n",
        "  if scaler == \"std\":\n",
        "    scaler = StandardScaler()\n",
        "    X_train = scaler.fit_transform(X_train)\n",
        "    X_test = scaler.transform(X_test)\n",
        "  elif scaler == \"minmax\":\n",
        "    scaler = MinMaxScaler()\n",
        "    X_train = scaler.fit_transform(X_train)\n",
        "    X_test = scaler.transform(X_test)\n",
        "  elif scaler == \"none\":\n",
        "    pass\n",
        "\n",
        "  return X_train, X_test, y_train, y_test\n"
      ]
    },
    {
      "cell_type": "code",
      "execution_count": null,
      "metadata": {
        "colab": {
          "base_uri": "https://localhost:8080/"
        },
        "id": "rDcbhEOrrhUs",
        "outputId": "3959b10b-1303-4e36-aa9b-8a5602ed8cb6"
      },
      "outputs": [
        {
          "data": {
            "text/plain": [
              "((19585, 186), array([16949,     0,  2636]))"
            ]
          },
          "execution_count": 5,
          "metadata": {},
          "output_type": "execute_result"
        }
      ],
      "source": [
        "# rem-new-data is to extract only those proteins which are either approved druggable or non-druggable\n",
        "# i.e., it excludes proteins which are non-approved but druggable\n",
        "new_data = final_data.copy()\n",
        "new_data['new_column'] = new_data['is_druggable'] + new_data['is_approved_druggable']\n",
        "rem_new_data = new_data[new_data['new_column'] != 1]\n",
        "rem_new_data.shape, np.bincount(rem_new_data['new_column'])"
      ]
    },
    {
      "cell_type": "markdown",
      "metadata": {
        "id": "7n-CUn3E09xR"
      },
      "source": [
        "### Predicting Druggability Index (DI) using Partition Method"
      ]
    },
    {
      "cell_type": "code",
      "execution_count": null,
      "metadata": {
        "colab": {
          "base_uri": "https://localhost:8080/"
        },
        "id": "-fBlQPI509Eg",
        "outputId": "bcbdc862-d50c-4372-9ab1-5729bea5fd20"
      },
      "outputs": [
        {
          "data": {
            "text/plain": [
              "((19585, 183), (19585,))"
            ]
          },
          "execution_count": 6,
          "metadata": {},
          "output_type": "execute_result"
        }
      ],
      "source": [
        "X, y = rem_new_data[features_list], np.array(rem_new_data[\"is_approved_druggable\"])\n",
        "X.shape, y.shape"
      ]
    },
    {
      "cell_type": "code",
      "execution_count": null,
      "metadata": {
        "colab": {
          "base_uri": "https://localhost:8080/"
        },
        "id": "KtGUyIvT1dK4",
        "outputId": "0a2f56fc-cead-4fce-cd99-8134c01976d6"
      },
      "outputs": [
        {
          "data": {
            "text/plain": [
              "array([16949,  2636])"
            ]
          },
          "execution_count": 7,
          "metadata": {},
          "output_type": "execute_result"
        }
      ],
      "source": [
        "np.bincount(y)"
      ]
    },
    {
      "cell_type": "code",
      "execution_count": null,
      "metadata": {
        "colab": {
          "base_uri": "https://localhost:8080/"
        },
        "id": "zvEuYSYiziHw",
        "outputId": "2acd31ce-0fcb-4ef5-f600-7c83de826842"
      },
      "outputs": [
        {
          "name": "stdout",
          "output_type": "stream",
          "text": [
            "Splitting into 6 partitions\n",
            "Sizes of partitions\n",
            "Partition 0: 2825\n",
            "Partition 1: 2825\n",
            "Partition 2: 2825\n",
            "Partition 3: 2825\n",
            "Partition 4: 2825\n",
            "Partition 5: 2824\n"
          ]
        },
        {
          "name": "stderr",
          "output_type": "stream",
          "text": [
            "/usr/local/lib/python3.10/dist-packages/numpy/core/fromnumeric.py:59: FutureWarning: 'DataFrame.swapaxes' is deprecated and will be removed in a future version. Please use 'DataFrame.transpose' instead.\n",
            "  return bound(*args, **kwds)\n"
          ]
        }
      ],
      "source": [
        "X_druggable = X[y == 1]\n",
        "X_non_druggable = X[y == 0]\n",
        "\n",
        "X_non_druggable_partitions = np.array_split(X_non_druggable, round(len(X_non_druggable)/len(X_druggable)))\n",
        "print(f\"Splitting into {len(X_non_druggable_partitions)} partitions\")\n",
        "print(\"Sizes of partitions\")\n",
        "for i, partition in enumerate(X_non_druggable_partitions):\n",
        "  print(f\"Partition {i}: {len(partition)}\")"
      ]
    },
    {
      "cell_type": "code",
      "execution_count": null,
      "metadata": {
        "id": "Q7ny5EWC1bQF"
      },
      "outputs": [],
      "source": [
        "import xgboost as xgb\n",
        "\n",
        "xgb_models = []\n",
        "for partition in X_non_druggable_partitions:\n",
        "  X_combined = np.concatenate((np.array(X_druggable), np.array(partition)))\n",
        "  y_combined = np.concatenate((np.ones(len(X_druggable)), np.zeros(len(partition))))\n",
        "  xgb_model = xgb.XGBClassifier(objective='binary:logistic', random_state=42)\n",
        "  xgb_model.fit(X_combined, y_combined)\n",
        "  xgb_models.append(xgb_model)\n"
      ]
    },
    {
      "cell_type": "markdown",
      "metadata": {
        "id": "-q0D4DayJgK4"
      },
      "source": [
        "### Druggability Index for Non Approved Druggable Proteins"
      ]
    },
    {
      "cell_type": "code",
      "execution_count": null,
      "metadata": {
        "colab": {
          "base_uri": "https://localhost:8080/"
        },
        "id": "mI39Jb4D2L0H",
        "outputId": "27c30e59-8597-4254-9a25-74c3eb86d6f2"
      },
      "outputs": [
        {
          "data": {
            "text/plain": [
              "(688, 186)"
            ]
          },
          "execution_count": 10,
          "metadata": {},
          "output_type": "execute_result"
        }
      ],
      "source": [
        "non_approved_druggable = new_data[new_data[\"new_column\"] == 1]\n",
        "non_approved_druggable.shape"
      ]
    },
    {
      "cell_type": "code",
      "execution_count": null,
      "metadata": {
        "colab": {
          "base_uri": "https://localhost:8080/",
          "height": 158
        },
        "id": "T-PSdaI52iIV",
        "outputId": "1d5b3bf0-7895-413e-d249-352631e7641f"
      },
      "outputs": [],
      "source": [
        "X_test, y_test = get_data(non_approved_druggable[features_list], non_approved_druggable[\"is_approved_druggable\"])\n",
        "X_test.shape, y_test.shape"
      ]
    },
    {
      "cell_type": "code",
      "execution_count": null,
      "metadata": {
        "id": "_sprY0lT5QM3"
      },
      "outputs": [],
      "source": [
        "protein_names = non_approved_druggable.index\n",
        "len(protein_names)"
      ]
    },
    {
      "cell_type": "code",
      "execution_count": null,
      "metadata": {
        "colab": {
          "base_uri": "https://localhost:8080/",
          "height": 211
        },
        "id": "F4tKqoVk4gUv",
        "outputId": "b10fec9a-f118-4a94-da2e-167d7f4467e9"
      },
      "outputs": [],
      "source": [
        "predictions = []\n",
        "probabilities = []\n",
        "for model in xgb_models:\n",
        "  predictions.append(model.predict(X_test))\n",
        "  probabilities.append(model.predict_proba(X_test)[:,1])\n",
        "\n",
        "predictions = np.array(predictions)\n",
        "probabilities = np.array(probabilities)\n",
        "\n",
        "predictions.shape, probabilities.shape"
      ]
    },
    {
      "cell_type": "code",
      "execution_count": null,
      "metadata": {
        "id": "0oKBFNmM50k-"
      },
      "outputs": [],
      "source": [
        "predictions = np.mean(predictions, axis=0)\n",
        "predictions = np.round(predictions)\n",
        "predictions.shape"
      ]
    },
    {
      "cell_type": "code",
      "execution_count": null,
      "metadata": {
        "id": "h4SK7-DN57BL"
      },
      "outputs": [],
      "source": [
        "mean_probabilities = np.mean(probabilities, axis=0)\n",
        "mean_probabilities.shape"
      ]
    },
    {
      "cell_type": "code",
      "execution_count": null,
      "metadata": {
        "id": "Q4geyqbb675L"
      },
      "outputs": [],
      "source": [
        "data = {\n",
        "    \"Protein\": protein_names\n",
        "}\n",
        "for i,probs in enumerate(probabilities):\n",
        "  data[f\"Probability_Partition_{i+1}\"] = probs\n",
        "data[\"Mean_Probability\"] = mean_probabilities\n",
        "data[\"Majority_Prediction\"] = predictions\n",
        "\n",
        "df = pd.DataFrame(data)\n",
        "df.set_index(\"Protein\", inplace=True)\n",
        "df.head()"
      ]
    },
    {
      "cell_type": "code",
      "execution_count": null,
      "metadata": {
        "id": "ecqGcDn_58s9"
      },
      "outputs": [],
      "source": [
        "df.to_csv(\"XGB/investigational_druggability_index_xgboost_pec.csv\")"
      ]
    },
    {
      "cell_type": "markdown",
      "metadata": {
        "id": "XEnSUPsQKgep"
      },
      "source": [
        "### Druggability Index for Non Druggable Train Set"
      ]
    },
    {
      "cell_type": "code",
      "execution_count": null,
      "metadata": {
        "colab": {
          "base_uri": "https://localhost:8080/"
        },
        "id": "TbxxWbayLna8",
        "outputId": "d49ac56a-709f-4af4-895e-b793b1010b42"
      },
      "outputs": [
        {
          "name": "stdout",
          "output_type": "stream",
          "text": [
            "(2825,) (5, 2825)\n",
            "(2825,) (5, 2825)\n",
            "(2825,) (5, 2825)\n",
            "(2825,) (5, 2825)\n",
            "(2825,) (5, 2825)\n",
            "(2824,) (5, 2824)\n"
          ]
        }
      ],
      "source": [
        "protein_names_all, predictions_all, probabilities_all = [], None, None\n",
        "for i, partition in enumerate(X_non_druggable_partitions):\n",
        "  protein_names = partition.index\n",
        "  predictions, probabilities = [], []\n",
        "  for j, model in enumerate(xgb_models):\n",
        "    if j != i:\n",
        "      predictions.append(model.predict(np.array(partition)))\n",
        "      probabilities.append(model.predict_proba(np.array(partition))[:,1])\n",
        "  predictions, probabilities = np.array(predictions), np.array(probabilities)\n",
        "  predictions = np.mean(predictions, axis=0)\n",
        "  predictions = np.round(predictions)\n",
        "  print(predictions.shape, probabilities.shape)\n",
        "\n",
        "  protein_names_all.extend(protein_names)\n",
        "  if predictions_all is None:\n",
        "    predictions_all = predictions\n",
        "    probabilities_all = probabilities\n",
        "  else:\n",
        "    predictions_all = np.concatenate((predictions_all, predictions))\n",
        "    probabilities_all = np.concatenate((probabilities_all, probabilities), axis=1)"
      ]
    },
    {
      "cell_type": "code",
      "execution_count": null,
      "metadata": {
        "colab": {
          "base_uri": "https://localhost:8080/"
        },
        "id": "e5NvpMPtM_Bg",
        "outputId": "d22ace11-42c4-4cdb-8ef7-1fa33d69937c"
      },
      "outputs": [
        {
          "data": {
            "text/plain": [
              "(16949, (16949,), (5, 16949), (16949,))"
            ]
          },
          "execution_count": 20,
          "metadata": {},
          "output_type": "execute_result"
        }
      ],
      "source": [
        "predictions_all = np.array(predictions_all)\n",
        "probabilities_all = np.array(probabilities_all)\n",
        "mean_probabilities_all = np.mean(probabilities_all, axis=0)\n",
        "len(protein_names_all), predictions_all.shape, probabilities_all.shape, mean_probabilities_all.shape"
      ]
    },
    {
      "cell_type": "code",
      "execution_count": null,
      "metadata": {
        "colab": {
          "base_uri": "https://localhost:8080/"
        },
        "id": "T3W8sorQN6v6",
        "outputId": "fcacc518-c401-44db-8c63-aaff00f8be45"
      },
      "outputs": [
        {
          "data": {
            "application/vnd.google.colaboratory.intrinsic+json": {
              "summary": "{\n  \"name\": \"df\",\n  \"rows\": 16949,\n  \"fields\": [\n    {\n      \"column\": \"Protein\",\n      \"properties\": {\n        \"dtype\": \"string\",\n        \"num_unique_values\": 16949,\n        \"samples\": [\n          \"Q99487\",\n          \"Q6ZSR9\",\n          \"Q96N67\"\n        ],\n        \"semantic_type\": \"\",\n        \"description\": \"\"\n      }\n    },\n    {\n      \"column\": \"Probability_Partition_1\",\n      \"properties\": {\n        \"dtype\": \"float32\",\n        \"num_unique_values\": 16881,\n        \"samples\": [\n          0.18526700139045715,\n          0.06706905364990234,\n          0.2164088487625122\n        ],\n        \"semantic_type\": \"\",\n        \"description\": \"\"\n      }\n    },\n    {\n      \"column\": \"Probability_Partition_2\",\n      \"properties\": {\n        \"dtype\": \"float32\",\n        \"num_unique_values\": 16887,\n        \"samples\": [\n          0.23496896028518677,\n          0.02204078808426857,\n          0.33812248706817627\n        ],\n        \"semantic_type\": \"\",\n        \"description\": \"\"\n      }\n    },\n    {\n      \"column\": \"Probability_Partition_3\",\n      \"properties\": {\n        \"dtype\": \"float32\",\n        \"num_unique_values\": 16883,\n        \"samples\": [\n          0.1202668622136116,\n          0.04274798557162285,\n          0.023579860106110573\n        ],\n        \"semantic_type\": \"\",\n        \"description\": \"\"\n      }\n    },\n    {\n      \"column\": \"Probability_Partition_4\",\n      \"properties\": {\n        \"dtype\": \"float32\",\n        \"num_unique_values\": 16816,\n        \"samples\": [\n          0.9936180114746094,\n          0.0042212302796542645,\n          0.03870658949017525\n        ],\n        \"semantic_type\": \"\",\n        \"description\": \"\"\n      }\n    },\n    {\n      \"column\": \"Probability_Partition_5\",\n      \"properties\": {\n        \"dtype\": \"float32\",\n        \"num_unique_values\": 16219,\n        \"samples\": [\n          0.011755568906664848,\n          0.006556082051247358,\n          0.9993684887886047\n        ],\n        \"semantic_type\": \"\",\n        \"description\": \"\"\n      }\n    },\n    {\n      \"column\": \"Mean_Probability\",\n      \"properties\": {\n        \"dtype\": \"float32\",\n        \"num_unique_values\": 16894,\n        \"samples\": [\n          0.10849075019359589,\n          0.5217703580856323,\n          0.062369346618652344\n        ],\n        \"semantic_type\": \"\",\n        \"description\": \"\"\n      }\n    },\n    {\n      \"column\": \"Majority_Prediction\",\n      \"properties\": {\n        \"dtype\": \"number\",\n        \"std\": 0.46110622181104577,\n        \"min\": 0.0,\n        \"max\": 1.0,\n        \"num_unique_values\": 2,\n        \"samples\": [\n          0.0,\n          1.0\n        ],\n        \"semantic_type\": \"\",\n        \"description\": \"\"\n      }\n    }\n  ]\n}",
              "type": "dataframe",
              "variable_name": "df"
            },
            "text/html": [
              "\n",
              "  <div id=\"df-920efb0d-0734-4d17-84dd-a99729e0eee3\" class=\"colab-df-container\">\n",
              "    <div>\n",
              "<style scoped>\n",
              "    .dataframe tbody tr th:only-of-type {\n",
              "        vertical-align: middle;\n",
              "    }\n",
              "\n",
              "    .dataframe tbody tr th {\n",
              "        vertical-align: top;\n",
              "    }\n",
              "\n",
              "    .dataframe thead th {\n",
              "        text-align: right;\n",
              "    }\n",
              "</style>\n",
              "<table border=\"1\" class=\"dataframe\">\n",
              "  <thead>\n",
              "    <tr style=\"text-align: right;\">\n",
              "      <th></th>\n",
              "      <th>Probability_Partition_1</th>\n",
              "      <th>Probability_Partition_2</th>\n",
              "      <th>Probability_Partition_3</th>\n",
              "      <th>Probability_Partition_4</th>\n",
              "      <th>Probability_Partition_5</th>\n",
              "      <th>Mean_Probability</th>\n",
              "      <th>Majority_Prediction</th>\n",
              "    </tr>\n",
              "    <tr>\n",
              "      <th>Protein</th>\n",
              "      <th></th>\n",
              "      <th></th>\n",
              "      <th></th>\n",
              "      <th></th>\n",
              "      <th></th>\n",
              "      <th></th>\n",
              "      <th></th>\n",
              "    </tr>\n",
              "  </thead>\n",
              "  <tbody>\n",
              "    <tr>\n",
              "      <th>A0A087X1C5</th>\n",
              "      <td>0.885494</td>\n",
              "      <td>0.900505</td>\n",
              "      <td>0.654295</td>\n",
              "      <td>0.856481</td>\n",
              "      <td>0.995312</td>\n",
              "      <td>0.858417</td>\n",
              "      <td>1.0</td>\n",
              "    </tr>\n",
              "    <tr>\n",
              "      <th>A0A0B4J2F0</th>\n",
              "      <td>0.669594</td>\n",
              "      <td>0.497079</td>\n",
              "      <td>0.178652</td>\n",
              "      <td>0.347567</td>\n",
              "      <td>0.929173</td>\n",
              "      <td>0.524413</td>\n",
              "      <td>0.0</td>\n",
              "    </tr>\n",
              "    <tr>\n",
              "      <th>A0A0B4J2F2</th>\n",
              "      <td>0.963219</td>\n",
              "      <td>0.987862</td>\n",
              "      <td>0.987098</td>\n",
              "      <td>0.934569</td>\n",
              "      <td>0.883177</td>\n",
              "      <td>0.951185</td>\n",
              "      <td>1.0</td>\n",
              "    </tr>\n",
              "    <tr>\n",
              "      <th>A0A0C5B5G6</th>\n",
              "      <td>0.418199</td>\n",
              "      <td>0.451553</td>\n",
              "      <td>0.794751</td>\n",
              "      <td>0.127927</td>\n",
              "      <td>0.395506</td>\n",
              "      <td>0.437587</td>\n",
              "      <td>0.0</td>\n",
              "    </tr>\n",
              "    <tr>\n",
              "      <th>A0A0K2S4Q6</th>\n",
              "      <td>0.672305</td>\n",
              "      <td>0.395551</td>\n",
              "      <td>0.055447</td>\n",
              "      <td>0.001300</td>\n",
              "      <td>0.095844</td>\n",
              "      <td>0.244089</td>\n",
              "      <td>0.0</td>\n",
              "    </tr>\n",
              "  </tbody>\n",
              "</table>\n",
              "</div>\n",
              "    <div class=\"colab-df-buttons\">\n",
              "\n",
              "  <div class=\"colab-df-container\">\n",
              "    <button class=\"colab-df-convert\" onclick=\"convertToInteractive('df-920efb0d-0734-4d17-84dd-a99729e0eee3')\"\n",
              "            title=\"Convert this dataframe to an interactive table.\"\n",
              "            style=\"display:none;\">\n",
              "\n",
              "  <svg xmlns=\"http://www.w3.org/2000/svg\" height=\"24px\" viewBox=\"0 -960 960 960\">\n",
              "    <path d=\"M120-120v-720h720v720H120Zm60-500h600v-160H180v160Zm220 220h160v-160H400v160Zm0 220h160v-160H400v160ZM180-400h160v-160H180v160Zm440 0h160v-160H620v160ZM180-180h160v-160H180v160Zm440 0h160v-160H620v160Z\"/>\n",
              "  </svg>\n",
              "    </button>\n",
              "\n",
              "  <style>\n",
              "    .colab-df-container {\n",
              "      display:flex;\n",
              "      gap: 12px;\n",
              "    }\n",
              "\n",
              "    .colab-df-convert {\n",
              "      background-color: #E8F0FE;\n",
              "      border: none;\n",
              "      border-radius: 50%;\n",
              "      cursor: pointer;\n",
              "      display: none;\n",
              "      fill: #1967D2;\n",
              "      height: 32px;\n",
              "      padding: 0 0 0 0;\n",
              "      width: 32px;\n",
              "    }\n",
              "\n",
              "    .colab-df-convert:hover {\n",
              "      background-color: #E2EBFA;\n",
              "      box-shadow: 0px 1px 2px rgba(60, 64, 67, 0.3), 0px 1px 3px 1px rgba(60, 64, 67, 0.15);\n",
              "      fill: #174EA6;\n",
              "    }\n",
              "\n",
              "    .colab-df-buttons div {\n",
              "      margin-bottom: 4px;\n",
              "    }\n",
              "\n",
              "    [theme=dark] .colab-df-convert {\n",
              "      background-color: #3B4455;\n",
              "      fill: #D2E3FC;\n",
              "    }\n",
              "\n",
              "    [theme=dark] .colab-df-convert:hover {\n",
              "      background-color: #434B5C;\n",
              "      box-shadow: 0px 1px 3px 1px rgba(0, 0, 0, 0.15);\n",
              "      filter: drop-shadow(0px 1px 2px rgba(0, 0, 0, 0.3));\n",
              "      fill: #FFFFFF;\n",
              "    }\n",
              "  </style>\n",
              "\n",
              "    <script>\n",
              "      const buttonEl =\n",
              "        document.querySelector('#df-920efb0d-0734-4d17-84dd-a99729e0eee3 button.colab-df-convert');\n",
              "      buttonEl.style.display =\n",
              "        google.colab.kernel.accessAllowed ? 'block' : 'none';\n",
              "\n",
              "      async function convertToInteractive(key) {\n",
              "        const element = document.querySelector('#df-920efb0d-0734-4d17-84dd-a99729e0eee3');\n",
              "        const dataTable =\n",
              "          await google.colab.kernel.invokeFunction('convertToInteractive',\n",
              "                                                    [key], {});\n",
              "        if (!dataTable) return;\n",
              "\n",
              "        const docLinkHtml = 'Like what you see? Visit the ' +\n",
              "          '<a target=\"_blank\" href=https://colab.research.google.com/notebooks/data_table.ipynb>data table notebook</a>'\n",
              "          + ' to learn more about interactive tables.';\n",
              "        element.innerHTML = '';\n",
              "        dataTable['output_type'] = 'display_data';\n",
              "        await google.colab.output.renderOutput(dataTable, element);\n",
              "        const docLink = document.createElement('div');\n",
              "        docLink.innerHTML = docLinkHtml;\n",
              "        element.appendChild(docLink);\n",
              "      }\n",
              "    </script>\n",
              "  </div>\n",
              "\n",
              "\n",
              "<div id=\"df-daaa7de7-8cbe-4d74-ad9c-942a75fafe3d\">\n",
              "  <button class=\"colab-df-quickchart\" onclick=\"quickchart('df-daaa7de7-8cbe-4d74-ad9c-942a75fafe3d')\"\n",
              "            title=\"Suggest charts\"\n",
              "            style=\"display:none;\">\n",
              "\n",
              "<svg xmlns=\"http://www.w3.org/2000/svg\" height=\"24px\"viewBox=\"0 0 24 24\"\n",
              "     width=\"24px\">\n",
              "    <g>\n",
              "        <path d=\"M19 3H5c-1.1 0-2 .9-2 2v14c0 1.1.9 2 2 2h14c1.1 0 2-.9 2-2V5c0-1.1-.9-2-2-2zM9 17H7v-7h2v7zm4 0h-2V7h2v10zm4 0h-2v-4h2v4z\"/>\n",
              "    </g>\n",
              "</svg>\n",
              "  </button>\n",
              "\n",
              "<style>\n",
              "  .colab-df-quickchart {\n",
              "      --bg-color: #E8F0FE;\n",
              "      --fill-color: #1967D2;\n",
              "      --hover-bg-color: #E2EBFA;\n",
              "      --hover-fill-color: #174EA6;\n",
              "      --disabled-fill-color: #AAA;\n",
              "      --disabled-bg-color: #DDD;\n",
              "  }\n",
              "\n",
              "  [theme=dark] .colab-df-quickchart {\n",
              "      --bg-color: #3B4455;\n",
              "      --fill-color: #D2E3FC;\n",
              "      --hover-bg-color: #434B5C;\n",
              "      --hover-fill-color: #FFFFFF;\n",
              "      --disabled-bg-color: #3B4455;\n",
              "      --disabled-fill-color: #666;\n",
              "  }\n",
              "\n",
              "  .colab-df-quickchart {\n",
              "    background-color: var(--bg-color);\n",
              "    border: none;\n",
              "    border-radius: 50%;\n",
              "    cursor: pointer;\n",
              "    display: none;\n",
              "    fill: var(--fill-color);\n",
              "    height: 32px;\n",
              "    padding: 0;\n",
              "    width: 32px;\n",
              "  }\n",
              "\n",
              "  .colab-df-quickchart:hover {\n",
              "    background-color: var(--hover-bg-color);\n",
              "    box-shadow: 0 1px 2px rgba(60, 64, 67, 0.3), 0 1px 3px 1px rgba(60, 64, 67, 0.15);\n",
              "    fill: var(--button-hover-fill-color);\n",
              "  }\n",
              "\n",
              "  .colab-df-quickchart-complete:disabled,\n",
              "  .colab-df-quickchart-complete:disabled:hover {\n",
              "    background-color: var(--disabled-bg-color);\n",
              "    fill: var(--disabled-fill-color);\n",
              "    box-shadow: none;\n",
              "  }\n",
              "\n",
              "  .colab-df-spinner {\n",
              "    border: 2px solid var(--fill-color);\n",
              "    border-color: transparent;\n",
              "    border-bottom-color: var(--fill-color);\n",
              "    animation:\n",
              "      spin 1s steps(1) infinite;\n",
              "  }\n",
              "\n",
              "  @keyframes spin {\n",
              "    0% {\n",
              "      border-color: transparent;\n",
              "      border-bottom-color: var(--fill-color);\n",
              "      border-left-color: var(--fill-color);\n",
              "    }\n",
              "    20% {\n",
              "      border-color: transparent;\n",
              "      border-left-color: var(--fill-color);\n",
              "      border-top-color: var(--fill-color);\n",
              "    }\n",
              "    30% {\n",
              "      border-color: transparent;\n",
              "      border-left-color: var(--fill-color);\n",
              "      border-top-color: var(--fill-color);\n",
              "      border-right-color: var(--fill-color);\n",
              "    }\n",
              "    40% {\n",
              "      border-color: transparent;\n",
              "      border-right-color: var(--fill-color);\n",
              "      border-top-color: var(--fill-color);\n",
              "    }\n",
              "    60% {\n",
              "      border-color: transparent;\n",
              "      border-right-color: var(--fill-color);\n",
              "    }\n",
              "    80% {\n",
              "      border-color: transparent;\n",
              "      border-right-color: var(--fill-color);\n",
              "      border-bottom-color: var(--fill-color);\n",
              "    }\n",
              "    90% {\n",
              "      border-color: transparent;\n",
              "      border-bottom-color: var(--fill-color);\n",
              "    }\n",
              "  }\n",
              "</style>\n",
              "\n",
              "  <script>\n",
              "    async function quickchart(key) {\n",
              "      const quickchartButtonEl =\n",
              "        document.querySelector('#' + key + ' button');\n",
              "      quickchartButtonEl.disabled = true;  // To prevent multiple clicks.\n",
              "      quickchartButtonEl.classList.add('colab-df-spinner');\n",
              "      try {\n",
              "        const charts = await google.colab.kernel.invokeFunction(\n",
              "            'suggestCharts', [key], {});\n",
              "      } catch (error) {\n",
              "        console.error('Error during call to suggestCharts:', error);\n",
              "      }\n",
              "      quickchartButtonEl.classList.remove('colab-df-spinner');\n",
              "      quickchartButtonEl.classList.add('colab-df-quickchart-complete');\n",
              "    }\n",
              "    (() => {\n",
              "      let quickchartButtonEl =\n",
              "        document.querySelector('#df-daaa7de7-8cbe-4d74-ad9c-942a75fafe3d button');\n",
              "      quickchartButtonEl.style.display =\n",
              "        google.colab.kernel.accessAllowed ? 'block' : 'none';\n",
              "    })();\n",
              "  </script>\n",
              "</div>\n",
              "\n",
              "    </div>\n",
              "  </div>\n"
            ],
            "text/plain": [
              "            Probability_Partition_1  Probability_Partition_2  \\\n",
              "Protein                                                        \n",
              "A0A087X1C5                 0.885494                 0.900505   \n",
              "A0A0B4J2F0                 0.669594                 0.497079   \n",
              "A0A0B4J2F2                 0.963219                 0.987862   \n",
              "A0A0C5B5G6                 0.418199                 0.451553   \n",
              "A0A0K2S4Q6                 0.672305                 0.395551   \n",
              "\n",
              "            Probability_Partition_3  Probability_Partition_4  \\\n",
              "Protein                                                        \n",
              "A0A087X1C5                 0.654295                 0.856481   \n",
              "A0A0B4J2F0                 0.178652                 0.347567   \n",
              "A0A0B4J2F2                 0.987098                 0.934569   \n",
              "A0A0C5B5G6                 0.794751                 0.127927   \n",
              "A0A0K2S4Q6                 0.055447                 0.001300   \n",
              "\n",
              "            Probability_Partition_5  Mean_Probability  Majority_Prediction  \n",
              "Protein                                                                     \n",
              "A0A087X1C5                 0.995312          0.858417                  1.0  \n",
              "A0A0B4J2F0                 0.929173          0.524413                  0.0  \n",
              "A0A0B4J2F2                 0.883177          0.951185                  1.0  \n",
              "A0A0C5B5G6                 0.395506          0.437587                  0.0  \n",
              "A0A0K2S4Q6                 0.095844          0.244089                  0.0  "
            ]
          },
          "execution_count": 21,
          "metadata": {},
          "output_type": "execute_result"
        }
      ],
      "source": [
        "data = {\n",
        "    \"Protein\": protein_names_all\n",
        "}\n",
        "for i,probs in enumerate(probabilities_all):\n",
        "  data[f\"Probability_Partition_{i+1}\"] = probs\n",
        "data[\"Mean_Probability\"] = mean_probabilities_all\n",
        "data[\"Majority_Prediction\"] = predictions_all\n",
        "\n",
        "df = pd.DataFrame(data)\n",
        "df.set_index(\"Protein\", inplace=True)\n",
        "df.head()"
      ]
    },
    {
      "cell_type": "code",
      "execution_count": null,
      "metadata": {
        "colab": {
          "base_uri": "https://localhost:8080/"
        },
        "id": "m8eNJzamQBZA",
        "outputId": "613f7e63-d156-4aff-890e-c976f8d3e700"
      },
      "outputs": [
        {
          "data": {
            "text/plain": [
              "0.6933742403681633"
            ]
          },
          "execution_count": 22,
          "metadata": {},
          "output_type": "execute_result"
        }
      ],
      "source": [
        "1 - (sum(predictions_all)/len(predictions_all))"
      ]
    },
    {
      "cell_type": "code",
      "execution_count": null,
      "metadata": {
        "id": "Gr0cHOZxOFdA"
      },
      "outputs": [],
      "source": [
        "df.to_csv(\"XGB/non_druggable_druggability_index_xgboost_ploec.csv\")"
      ]
    },
    {
      "cell_type": "markdown",
      "metadata": {
        "id": "gQmpgEncPlOn"
      },
      "source": [
        "### Druggability Index for Druggable Train Set"
      ]
    },
    {
      "cell_type": "code",
      "execution_count": null,
      "metadata": {
        "colab": {
          "base_uri": "https://localhost:8080/"
        },
        "id": "VCGAz0FzPkpQ",
        "outputId": "0b7a4375-6034-408b-d1a5-bffd2aa52203"
      },
      "outputs": [
        {
          "name": "stdout",
          "output_type": "stream",
          "text": [
            "(2636,) (6, 2636)\n"
          ]
        },
        {
          "data": {
            "text/plain": [
              "(2636,)"
            ]
          },
          "execution_count": 11,
          "metadata": {},
          "output_type": "execute_result"
        }
      ],
      "source": [
        "protein_names = X_druggable.index\n",
        "predictions, probabilities = [], []\n",
        "for model in xgb_models:\n",
        "  predictions.append(model.predict(np.array(X_druggable)))\n",
        "  probabilities.append(model.predict_proba(np.array(X_druggable))[:,1])\n",
        "predictions, probabilities = np.array(predictions), np.array(probabilities)\n",
        "predictions = np.mean(predictions, axis=0)\n",
        "predictions = np.round(predictions)\n",
        "print(predictions.shape, probabilities.shape)\n",
        "mean_probabilities = np.mean(probabilities, axis=0)\n",
        "mean_probabilities.shape"
      ]
    },
    {
      "cell_type": "code",
      "execution_count": null,
      "metadata": {
        "colab": {
          "base_uri": "https://localhost:8080/",
          "height": 257
        },
        "id": "njL3a4WsQp0I",
        "outputId": "d986ca99-94c8-468c-a933-4fb1726d4eb3"
      },
      "outputs": [
        {
          "data": {
            "application/vnd.google.colaboratory.intrinsic+json": {
              "summary": "{\n  \"name\": \"df\",\n  \"rows\": 2636,\n  \"fields\": [\n    {\n      \"column\": \"Protein\",\n      \"properties\": {\n        \"dtype\": \"string\",\n        \"num_unique_values\": 2636,\n        \"samples\": [\n          \"Q9H3S4\",\n          \"P48764\",\n          \"P26358\"\n        ],\n        \"semantic_type\": \"\",\n        \"description\": \"\"\n      }\n    },\n    {\n      \"column\": \"Probability_Partition_1\",\n      \"properties\": {\n        \"dtype\": \"float32\",\n        \"num_unique_values\": 2632,\n        \"samples\": [\n          0.8994681239128113,\n          0.9075145721435547,\n          0.9203881621360779\n        ],\n        \"semantic_type\": \"\",\n        \"description\": \"\"\n      }\n    },\n    {\n      \"column\": \"Probability_Partition_2\",\n      \"properties\": {\n        \"dtype\": \"float32\",\n        \"num_unique_values\": 2635,\n        \"samples\": [\n          0.9064469337463379,\n          0.9068307280540466,\n          0.9585477709770203\n        ],\n        \"semantic_type\": \"\",\n        \"description\": \"\"\n      }\n    },\n    {\n      \"column\": \"Probability_Partition_3\",\n      \"properties\": {\n        \"dtype\": \"float32\",\n        \"num_unique_values\": 2630,\n        \"samples\": [\n          0.9811962842941284,\n          0.9767440557479858,\n          0.9957666397094727\n        ],\n        \"semantic_type\": \"\",\n        \"description\": \"\"\n      }\n    },\n    {\n      \"column\": \"Probability_Partition_4\",\n      \"properties\": {\n        \"dtype\": \"float32\",\n        \"num_unique_values\": 2632,\n        \"samples\": [\n          0.9339994788169861,\n          0.9309107661247253,\n          0.9576284885406494\n        ],\n        \"semantic_type\": \"\",\n        \"description\": \"\"\n      }\n    },\n    {\n      \"column\": \"Probability_Partition_5\",\n      \"properties\": {\n        \"dtype\": \"float32\",\n        \"num_unique_values\": 2539,\n        \"samples\": [\n          0.9880220890045166,\n          0.9757456183433533,\n          0.9999628067016602\n        ],\n        \"semantic_type\": \"\",\n        \"description\": \"\"\n      }\n    },\n    {\n      \"column\": \"Probability_Partition_6\",\n      \"properties\": {\n        \"dtype\": \"float32\",\n        \"num_unique_values\": 2249,\n        \"samples\": [\n          0.9975806474685669,\n          0.999992847442627,\n          0.967849612236023\n        ],\n        \"semantic_type\": \"\",\n        \"description\": \"\"\n      }\n    },\n    {\n      \"column\": \"Mean_Probability\",\n      \"properties\": {\n        \"dtype\": \"float32\",\n        \"num_unique_values\": 2630,\n        \"samples\": [\n          0.9629511833190918,\n          0.9636440277099609,\n          0.9406991004943848\n        ],\n        \"semantic_type\": \"\",\n        \"description\": \"\"\n      }\n    },\n    {\n      \"column\": \"Majority_Prediction\",\n      \"properties\": {\n        \"dtype\": \"number\",\n        \"std\": 0.0,\n        \"min\": 1.0,\n        \"max\": 1.0,\n        \"num_unique_values\": 1,\n        \"samples\": [\n          1.0\n        ],\n        \"semantic_type\": \"\",\n        \"description\": \"\"\n      }\n    }\n  ]\n}",
              "type": "dataframe",
              "variable_name": "df"
            },
            "text/html": [
              "\n",
              "  <div id=\"df-1b0d4fbb-f568-44d8-be59-d27edb48ecb8\" class=\"colab-df-container\">\n",
              "    <div>\n",
              "<style scoped>\n",
              "    .dataframe tbody tr th:only-of-type {\n",
              "        vertical-align: middle;\n",
              "    }\n",
              "\n",
              "    .dataframe tbody tr th {\n",
              "        vertical-align: top;\n",
              "    }\n",
              "\n",
              "    .dataframe thead th {\n",
              "        text-align: right;\n",
              "    }\n",
              "</style>\n",
              "<table border=\"1\" class=\"dataframe\">\n",
              "  <thead>\n",
              "    <tr style=\"text-align: right;\">\n",
              "      <th></th>\n",
              "      <th>Probability_Partition_1</th>\n",
              "      <th>Probability_Partition_2</th>\n",
              "      <th>Probability_Partition_3</th>\n",
              "      <th>Probability_Partition_4</th>\n",
              "      <th>Probability_Partition_5</th>\n",
              "      <th>Probability_Partition_6</th>\n",
              "      <th>Mean_Probability</th>\n",
              "      <th>Majority_Prediction</th>\n",
              "    </tr>\n",
              "    <tr>\n",
              "      <th>Protein</th>\n",
              "      <th></th>\n",
              "      <th></th>\n",
              "      <th></th>\n",
              "      <th></th>\n",
              "      <th></th>\n",
              "      <th></th>\n",
              "      <th></th>\n",
              "      <th></th>\n",
              "    </tr>\n",
              "  </thead>\n",
              "  <tbody>\n",
              "    <tr>\n",
              "      <th>A5X5Y0</th>\n",
              "      <td>0.997124</td>\n",
              "      <td>0.997072</td>\n",
              "      <td>0.984472</td>\n",
              "      <td>0.949442</td>\n",
              "      <td>0.998169</td>\n",
              "      <td>0.999790</td>\n",
              "      <td>0.987678</td>\n",
              "      <td>1.0</td>\n",
              "    </tr>\n",
              "    <tr>\n",
              "      <th>C9JRZ8</th>\n",
              "      <td>0.964498</td>\n",
              "      <td>0.993043</td>\n",
              "      <td>0.983790</td>\n",
              "      <td>0.982112</td>\n",
              "      <td>0.994586</td>\n",
              "      <td>0.996707</td>\n",
              "      <td>0.985790</td>\n",
              "      <td>1.0</td>\n",
              "    </tr>\n",
              "    <tr>\n",
              "      <th>O00141</th>\n",
              "      <td>0.987320</td>\n",
              "      <td>0.996682</td>\n",
              "      <td>0.999509</td>\n",
              "      <td>0.967255</td>\n",
              "      <td>0.999997</td>\n",
              "      <td>0.999999</td>\n",
              "      <td>0.991794</td>\n",
              "      <td>1.0</td>\n",
              "    </tr>\n",
              "    <tr>\n",
              "      <th>O00142</th>\n",
              "      <td>0.986158</td>\n",
              "      <td>0.884080</td>\n",
              "      <td>0.931365</td>\n",
              "      <td>0.946131</td>\n",
              "      <td>0.923213</td>\n",
              "      <td>0.979660</td>\n",
              "      <td>0.941768</td>\n",
              "      <td>1.0</td>\n",
              "    </tr>\n",
              "    <tr>\n",
              "      <th>O00180</th>\n",
              "      <td>0.863223</td>\n",
              "      <td>0.959348</td>\n",
              "      <td>0.937224</td>\n",
              "      <td>0.903561</td>\n",
              "      <td>0.993643</td>\n",
              "      <td>0.999993</td>\n",
              "      <td>0.942832</td>\n",
              "      <td>1.0</td>\n",
              "    </tr>\n",
              "  </tbody>\n",
              "</table>\n",
              "</div>\n",
              "    <div class=\"colab-df-buttons\">\n",
              "\n",
              "  <div class=\"colab-df-container\">\n",
              "    <button class=\"colab-df-convert\" onclick=\"convertToInteractive('df-1b0d4fbb-f568-44d8-be59-d27edb48ecb8')\"\n",
              "            title=\"Convert this dataframe to an interactive table.\"\n",
              "            style=\"display:none;\">\n",
              "\n",
              "  <svg xmlns=\"http://www.w3.org/2000/svg\" height=\"24px\" viewBox=\"0 -960 960 960\">\n",
              "    <path d=\"M120-120v-720h720v720H120Zm60-500h600v-160H180v160Zm220 220h160v-160H400v160Zm0 220h160v-160H400v160ZM180-400h160v-160H180v160Zm440 0h160v-160H620v160ZM180-180h160v-160H180v160Zm440 0h160v-160H620v160Z\"/>\n",
              "  </svg>\n",
              "    </button>\n",
              "\n",
              "  <style>\n",
              "    .colab-df-container {\n",
              "      display:flex;\n",
              "      gap: 12px;\n",
              "    }\n",
              "\n",
              "    .colab-df-convert {\n",
              "      background-color: #E8F0FE;\n",
              "      border: none;\n",
              "      border-radius: 50%;\n",
              "      cursor: pointer;\n",
              "      display: none;\n",
              "      fill: #1967D2;\n",
              "      height: 32px;\n",
              "      padding: 0 0 0 0;\n",
              "      width: 32px;\n",
              "    }\n",
              "\n",
              "    .colab-df-convert:hover {\n",
              "      background-color: #E2EBFA;\n",
              "      box-shadow: 0px 1px 2px rgba(60, 64, 67, 0.3), 0px 1px 3px 1px rgba(60, 64, 67, 0.15);\n",
              "      fill: #174EA6;\n",
              "    }\n",
              "\n",
              "    .colab-df-buttons div {\n",
              "      margin-bottom: 4px;\n",
              "    }\n",
              "\n",
              "    [theme=dark] .colab-df-convert {\n",
              "      background-color: #3B4455;\n",
              "      fill: #D2E3FC;\n",
              "    }\n",
              "\n",
              "    [theme=dark] .colab-df-convert:hover {\n",
              "      background-color: #434B5C;\n",
              "      box-shadow: 0px 1px 3px 1px rgba(0, 0, 0, 0.15);\n",
              "      filter: drop-shadow(0px 1px 2px rgba(0, 0, 0, 0.3));\n",
              "      fill: #FFFFFF;\n",
              "    }\n",
              "  </style>\n",
              "\n",
              "    <script>\n",
              "      const buttonEl =\n",
              "        document.querySelector('#df-1b0d4fbb-f568-44d8-be59-d27edb48ecb8 button.colab-df-convert');\n",
              "      buttonEl.style.display =\n",
              "        google.colab.kernel.accessAllowed ? 'block' : 'none';\n",
              "\n",
              "      async function convertToInteractive(key) {\n",
              "        const element = document.querySelector('#df-1b0d4fbb-f568-44d8-be59-d27edb48ecb8');\n",
              "        const dataTable =\n",
              "          await google.colab.kernel.invokeFunction('convertToInteractive',\n",
              "                                                    [key], {});\n",
              "        if (!dataTable) return;\n",
              "\n",
              "        const docLinkHtml = 'Like what you see? Visit the ' +\n",
              "          '<a target=\"_blank\" href=https://colab.research.google.com/notebooks/data_table.ipynb>data table notebook</a>'\n",
              "          + ' to learn more about interactive tables.';\n",
              "        element.innerHTML = '';\n",
              "        dataTable['output_type'] = 'display_data';\n",
              "        await google.colab.output.renderOutput(dataTable, element);\n",
              "        const docLink = document.createElement('div');\n",
              "        docLink.innerHTML = docLinkHtml;\n",
              "        element.appendChild(docLink);\n",
              "      }\n",
              "    </script>\n",
              "  </div>\n",
              "\n",
              "\n",
              "<div id=\"df-0bafe24f-4097-464e-912f-8197e18805b3\">\n",
              "  <button class=\"colab-df-quickchart\" onclick=\"quickchart('df-0bafe24f-4097-464e-912f-8197e18805b3')\"\n",
              "            title=\"Suggest charts\"\n",
              "            style=\"display:none;\">\n",
              "\n",
              "<svg xmlns=\"http://www.w3.org/2000/svg\" height=\"24px\"viewBox=\"0 0 24 24\"\n",
              "     width=\"24px\">\n",
              "    <g>\n",
              "        <path d=\"M19 3H5c-1.1 0-2 .9-2 2v14c0 1.1.9 2 2 2h14c1.1 0 2-.9 2-2V5c0-1.1-.9-2-2-2zM9 17H7v-7h2v7zm4 0h-2V7h2v10zm4 0h-2v-4h2v4z\"/>\n",
              "    </g>\n",
              "</svg>\n",
              "  </button>\n",
              "\n",
              "<style>\n",
              "  .colab-df-quickchart {\n",
              "      --bg-color: #E8F0FE;\n",
              "      --fill-color: #1967D2;\n",
              "      --hover-bg-color: #E2EBFA;\n",
              "      --hover-fill-color: #174EA6;\n",
              "      --disabled-fill-color: #AAA;\n",
              "      --disabled-bg-color: #DDD;\n",
              "  }\n",
              "\n",
              "  [theme=dark] .colab-df-quickchart {\n",
              "      --bg-color: #3B4455;\n",
              "      --fill-color: #D2E3FC;\n",
              "      --hover-bg-color: #434B5C;\n",
              "      --hover-fill-color: #FFFFFF;\n",
              "      --disabled-bg-color: #3B4455;\n",
              "      --disabled-fill-color: #666;\n",
              "  }\n",
              "\n",
              "  .colab-df-quickchart {\n",
              "    background-color: var(--bg-color);\n",
              "    border: none;\n",
              "    border-radius: 50%;\n",
              "    cursor: pointer;\n",
              "    display: none;\n",
              "    fill: var(--fill-color);\n",
              "    height: 32px;\n",
              "    padding: 0;\n",
              "    width: 32px;\n",
              "  }\n",
              "\n",
              "  .colab-df-quickchart:hover {\n",
              "    background-color: var(--hover-bg-color);\n",
              "    box-shadow: 0 1px 2px rgba(60, 64, 67, 0.3), 0 1px 3px 1px rgba(60, 64, 67, 0.15);\n",
              "    fill: var(--button-hover-fill-color);\n",
              "  }\n",
              "\n",
              "  .colab-df-quickchart-complete:disabled,\n",
              "  .colab-df-quickchart-complete:disabled:hover {\n",
              "    background-color: var(--disabled-bg-color);\n",
              "    fill: var(--disabled-fill-color);\n",
              "    box-shadow: none;\n",
              "  }\n",
              "\n",
              "  .colab-df-spinner {\n",
              "    border: 2px solid var(--fill-color);\n",
              "    border-color: transparent;\n",
              "    border-bottom-color: var(--fill-color);\n",
              "    animation:\n",
              "      spin 1s steps(1) infinite;\n",
              "  }\n",
              "\n",
              "  @keyframes spin {\n",
              "    0% {\n",
              "      border-color: transparent;\n",
              "      border-bottom-color: var(--fill-color);\n",
              "      border-left-color: var(--fill-color);\n",
              "    }\n",
              "    20% {\n",
              "      border-color: transparent;\n",
              "      border-left-color: var(--fill-color);\n",
              "      border-top-color: var(--fill-color);\n",
              "    }\n",
              "    30% {\n",
              "      border-color: transparent;\n",
              "      border-left-color: var(--fill-color);\n",
              "      border-top-color: var(--fill-color);\n",
              "      border-right-color: var(--fill-color);\n",
              "    }\n",
              "    40% {\n",
              "      border-color: transparent;\n",
              "      border-right-color: var(--fill-color);\n",
              "      border-top-color: var(--fill-color);\n",
              "    }\n",
              "    60% {\n",
              "      border-color: transparent;\n",
              "      border-right-color: var(--fill-color);\n",
              "    }\n",
              "    80% {\n",
              "      border-color: transparent;\n",
              "      border-right-color: var(--fill-color);\n",
              "      border-bottom-color: var(--fill-color);\n",
              "    }\n",
              "    90% {\n",
              "      border-color: transparent;\n",
              "      border-bottom-color: var(--fill-color);\n",
              "    }\n",
              "  }\n",
              "</style>\n",
              "\n",
              "  <script>\n",
              "    async function quickchart(key) {\n",
              "      const quickchartButtonEl =\n",
              "        document.querySelector('#' + key + ' button');\n",
              "      quickchartButtonEl.disabled = true;  // To prevent multiple clicks.\n",
              "      quickchartButtonEl.classList.add('colab-df-spinner');\n",
              "      try {\n",
              "        const charts = await google.colab.kernel.invokeFunction(\n",
              "            'suggestCharts', [key], {});\n",
              "      } catch (error) {\n",
              "        console.error('Error during call to suggestCharts:', error);\n",
              "      }\n",
              "      quickchartButtonEl.classList.remove('colab-df-spinner');\n",
              "      quickchartButtonEl.classList.add('colab-df-quickchart-complete');\n",
              "    }\n",
              "    (() => {\n",
              "      let quickchartButtonEl =\n",
              "        document.querySelector('#df-0bafe24f-4097-464e-912f-8197e18805b3 button');\n",
              "      quickchartButtonEl.style.display =\n",
              "        google.colab.kernel.accessAllowed ? 'block' : 'none';\n",
              "    })();\n",
              "  </script>\n",
              "</div>\n",
              "\n",
              "    </div>\n",
              "  </div>\n"
            ],
            "text/plain": [
              "         Probability_Partition_1  Probability_Partition_2  \\\n",
              "Protein                                                     \n",
              "A5X5Y0                  0.997124                 0.997072   \n",
              "C9JRZ8                  0.964498                 0.993043   \n",
              "O00141                  0.987320                 0.996682   \n",
              "O00142                  0.986158                 0.884080   \n",
              "O00180                  0.863223                 0.959348   \n",
              "\n",
              "         Probability_Partition_3  Probability_Partition_4  \\\n",
              "Protein                                                     \n",
              "A5X5Y0                  0.984472                 0.949442   \n",
              "C9JRZ8                  0.983790                 0.982112   \n",
              "O00141                  0.999509                 0.967255   \n",
              "O00142                  0.931365                 0.946131   \n",
              "O00180                  0.937224                 0.903561   \n",
              "\n",
              "         Probability_Partition_5  Probability_Partition_6  Mean_Probability  \\\n",
              "Protein                                                                       \n",
              "A5X5Y0                  0.998169                 0.999790          0.987678   \n",
              "C9JRZ8                  0.994586                 0.996707          0.985790   \n",
              "O00141                  0.999997                 0.999999          0.991794   \n",
              "O00142                  0.923213                 0.979660          0.941768   \n",
              "O00180                  0.993643                 0.999993          0.942832   \n",
              "\n",
              "         Majority_Prediction  \n",
              "Protein                       \n",
              "A5X5Y0                   1.0  \n",
              "C9JRZ8                   1.0  \n",
              "O00141                   1.0  \n",
              "O00142                   1.0  \n",
              "O00180                   1.0  "
            ]
          },
          "execution_count": 12,
          "metadata": {},
          "output_type": "execute_result"
        }
      ],
      "source": [
        "data = {\n",
        "    \"Protein\": protein_names\n",
        "}\n",
        "for i,probs in enumerate(probabilities):\n",
        "  data[f\"Probability_Partition_{i+1}\"] = probs\n",
        "data[\"Mean_Probability\"] = mean_probabilities\n",
        "data[\"Majority_Prediction\"] = predictions\n",
        "\n",
        "df = pd.DataFrame(data)\n",
        "df.set_index(\"Protein\", inplace=True)\n",
        "df.head()"
      ]
    },
    {
      "cell_type": "code",
      "execution_count": null,
      "metadata": {
        "id": "xYePl12_xf29"
      },
      "outputs": [],
      "source": [
        "df.to_csv(\"XGB/druggable_druggability_index_xgboost_pec.csv\")"
      ]
    },
    {
      "cell_type": "code",
      "execution_count": null,
      "metadata": {
        "id": "mL7uDa0HxnXA"
      },
      "outputs": [],
      "source": []
    }
  ],
  "metadata": {
    "colab": {
      "collapsed_sections": [
        "-q0D4DayJgK4",
        "XEnSUPsQKgep",
        "gQmpgEncPlOn"
      ],
      "provenance": []
    },
    "kernelspec": {
      "display_name": "Python 3",
      "name": "python3"
    },
    "language_info": {
      "name": "python"
    }
  },
  "nbformat": 4,
  "nbformat_minor": 0
}
