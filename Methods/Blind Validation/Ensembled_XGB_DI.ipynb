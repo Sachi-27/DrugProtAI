{
  "nbformat": 4,
  "nbformat_minor": 0,
  "metadata": {
    "colab": {
      "provenance": [],
      "collapsed_sections": [
        "-q0D4DayJgK4",
        "XEnSUPsQKgep",
        "gQmpgEncPlOn"
      ]
    },
    "kernelspec": {
      "name": "python3",
      "display_name": "Python 3"
    },
    "language_info": {
      "name": "python"
    }
  },
  "cells": [
    {
      "cell_type": "code",
      "execution_count": null,
      "metadata": {
        "colab": {
          "base_uri": "https://localhost:8080/"
        },
        "id": "aQjc9zrHADBD",
        "outputId": "759b5a19-adc1-418d-8776-b06b29e5800d"
      },
      "outputs": [
        {
          "output_type": "stream",
          "name": "stdout",
          "text": [
            "Mounted at /content/drive\n"
          ]
        }
      ],
      "source": [
        "# Mount google drive at /content/drive\n",
        "from google.colab import drive\n",
        "drive.mount('/content/drive', force_remount=True)"
      ]
    },
    {
      "cell_type": "code",
      "source": [
        "# Setting seeds for reproducibility\n",
        "import numpy as np\n",
        "import tensorflow as tf\n",
        "from sklearn.preprocessing import StandardScaler\n",
        "import json\n",
        "from sklearn.model_selection import train_test_split\n",
        "from sklearn.utils import shuffle\n",
        "from sklearn.preprocessing import StandardScaler, MinMaxScaler\n",
        "from imblearn.over_sampling import ADASYN, SMOTE\n",
        "import pandas as pd\n",
        "np.random.seed(42)\n",
        "tf.random.set_seed(42)"
      ],
      "metadata": {
        "id": "oDq4fXrPr55V"
      },
      "execution_count": null,
      "outputs": []
    },
    {
      "cell_type": "code",
      "source": [
        "data_file_path = \"/content/drive/MyDrive/protein_props/features/protein_props.json\"\n",
        "druggable_proteins_file_path = \"/content/drive/MyDrive/protein_props/NEW_WORK/druggable_proteins.txt\"\n",
        "investigational_proteins_file_path = \"/content/drive/MyDrive/protein_props/NEW_WORK/investigational_proteins.txt\"\n",
        "\n",
        "with open(data_file_path, 'r') as f:\n",
        "    protein_data = json.load(f)\n",
        "\n",
        "print(\"Total number of uniprot human verified proteins:\", len(protein_data))\n",
        "\n",
        "# Extracting list of druggable and approved druggable proteins\n",
        "with open(druggable_proteins_file_path, 'r') as f:\n",
        "    approved_druggable_proteins = f.read().splitlines()\n",
        "\n",
        "with open(investigational_proteins_file_path, 'r') as f:\n",
        "    investigational_proteins = f.read().splitlines()\n",
        "\n",
        "druggable_proteins = approved_druggable_proteins + investigational_proteins\n",
        "\n",
        "print(\"Number of druggable proteins:\", len(druggable_proteins))\n",
        "print(\"Number of druggable approved proteins:\", len(approved_druggable_proteins))\n",
        "\n",
        "\n",
        "# Fetching feature data for all proteins\n",
        "properties = (pd.read_json(\"/content/drive/MyDrive/protein_props/features/protein_props.json\")).transpose()\n",
        "is_druggable = [1 if i in druggable_proteins else 0 for i in properties.index]\n",
        "is_approved_druggable = [1 if i in approved_druggable_proteins else 0 for i in properties.index]\n",
        "\n",
        "properties[\"is_druggable\"] = is_druggable\n",
        "properties[\"is_approved_druggable\"] = is_approved_druggable\n",
        "\n",
        "PCP_properties = properties.copy()\n",
        "amino_acids = 'ACDEFGHIKLMNPQRSTVWY'\n",
        "amino_acid_percent = {i:[] for i in amino_acids}\n",
        "for i in PCP_properties['Amino Acid Percent']:\n",
        "  for aa in amino_acids:\n",
        "    amino_acid_percent[aa].append(i[aa])\n",
        "for aa in amino_acids:\n",
        "  PCP_properties = pd.concat([PCP_properties, pd.Series(amino_acid_percent[aa], index = PCP_properties.index, name = f\"Amino Acid Percent {aa}\")], axis = 1)\n",
        "\n",
        "PCP_properties[f\"Molar Extinction Coefficient 1\"] = pd.Series([x[0] for x in PCP_properties['Molar Extinction Coefficient']], index = PCP_properties.index)\n",
        "PCP_properties[f\"Molar Extinction Coefficient 2\"] = pd.Series([x[1] for x in PCP_properties['Molar Extinction Coefficient']], index = PCP_properties.index)\n",
        "\n",
        "PCP_properties[f\"Secondary Structure helix\"] = pd.Series([x[0] for x in PCP_properties['Secondary Structure']], index = PCP_properties.index)\n",
        "PCP_properties[f\"Secondary Structure turn\"] = pd.Series([x[1] for x in PCP_properties['Secondary Structure']], index = PCP_properties.index)\n",
        "PCP_properties[f\"Secondary Structure sheet\"] = pd.Series([x[2] for x in PCP_properties['Secondary Structure']], index = PCP_properties.index)\n",
        "\n",
        "PCP_properties.drop(columns = ['Amino Acid Count','Amino Acid Percent',\"Molar Extinction Coefficient\",\"Flexibility\",\"Secondary Structure\",'Sequence'], inplace = True)\n",
        "PCP_properties['Sequence Length'] = PCP_properties['Sequence Length'].astype(int)\n",
        "PCP_properties[['Molecular Weight', 'GRAVY', 'Isoelectric Point', 'Instability Index', 'Aromaticity', 'Charge at 7']] = PCP_properties[['Molecular Weight', 'GRAVY', 'Isoelectric Point', 'Instability Index', 'Aromaticity', 'Charge at 7']].astype(float)\n",
        "\n",
        "with open(\"/content/drive/MyDrive/protein_props/features/gdpc_encodings.json\", 'r') as file:\n",
        "    data = json.load(file)\n",
        "gpdc_encodings = pd.DataFrame(data).transpose()\n",
        "\n",
        "ppi = pd.read_json(\"/content/drive/MyDrive/protein_props/features/ppi.json\").transpose()\n",
        "ppi_network = pd.read_csv(\"/content/drive/MyDrive/protein_props/features/ppi_network_properties.csv\")\n",
        "ppi_network.index = ppi_network['Unnamed: 0']\n",
        "ppi_network.drop(columns = ['Unnamed: 0'], inplace = True)\n",
        "ppi = pd.concat([ppi, ppi_network], axis = 1)\n",
        "\n",
        "glycolisation = pd.read_csv(\"/content/drive/MyDrive/protein_props/features/glycosylation.csv\")\n",
        "glycolisation.index = glycolisation['Unnamed: 0']\n",
        "glycolisation.drop(columns = ['Unnamed: 0'], inplace = True)\n",
        "ptm = pd.read_csv(\"/content/drive/MyDrive/protein_props/features/PTM_counts.csv\")\n",
        "ptm.index = ptm[\"Unnamed: 0\"]\n",
        "ptm.drop(columns = ['Unnamed: 0'], inplace = True)\n",
        "ptm_counts = pd.concat([ptm, glycolisation], axis = 1)\n",
        "\n",
        "with open(\"/content/drive/MyDrive/protein_props/features/subcellular_locations2.json\", 'r') as file:\n",
        "    data = json.load(file)\n",
        "unique_groups = set()\n",
        "for entry in data.values():\n",
        "    if \"general\" in entry:\n",
        "        for general_entry in entry[\"general\"]:\n",
        "            if \"group\" in general_entry: unique_groups.add(general_entry[\"group\"])\n",
        "\n",
        "unique_groups_list = list(unique_groups)\n",
        "\n",
        "rows = []\n",
        "for protein_id in PCP_properties.index:\n",
        "    row = {group: 0 for group in unique_groups_list}\n",
        "    if protein_id in data:\n",
        "        for entry in data[protein_id].get(\"general\", []):\n",
        "            if \"group\" in entry and entry[\"group\"] in unique_groups:\n",
        "                row[entry[\"group\"]] = 1\n",
        "    row[\"protein_id\"] = protein_id\n",
        "    rows.append(row)\n",
        "\n",
        "subcellular_data = pd.DataFrame(rows).set_index(\"protein_id\")\n",
        "\n",
        "domains = pd.read_csv(\"/content/drive/MyDrive/protein_props/features/data_top20_updated.csv\")\n",
        "domains.index = domains['Unnamed: 0']\n",
        "domains.drop(columns = ['Unnamed: 0'], inplace = True)\n",
        "\n",
        "flexibility = pd.read_csv(\"/content/drive/MyDrive/protein_props/features/flexibility_properties.csv\")\n",
        "flexibility.index = flexibility['Unnamed: 0']\n",
        "flexibility.drop(columns = ['Unnamed: 0'], inplace = True)\n",
        "\n",
        "latent_data = pd.read_csv(\"/content/drive/MyDrive/protein_props/features/latent_values.csv\").transpose()\n",
        "latent_data.columns = [f\"Latent_Value_{i+1}\" for i in latent_data.columns]\n",
        "final_data = pd.concat([PCP_properties,gpdc_encodings, ptm_counts, ppi, subcellular_data, domains, flexibility, latent_data], axis = 1).dropna()\n",
        "features_list = final_data.columns\n",
        "features_list = features_list.drop(['is_druggable','is_approved_druggable'])\n",
        "features_list = list(features_list)\n",
        "print(features_list)\n",
        "print(len(features_list))\n"
      ],
      "metadata": {
        "colab": {
          "base_uri": "https://localhost:8080/"
        },
        "id": "DWpMSiGBAJZP",
        "outputId": "1c2fdab4-d3cf-4e3e-9045-ecf62d40b342"
      },
      "execution_count": null,
      "outputs": [
        {
          "output_type": "stream",
          "name": "stdout",
          "text": [
            "Total number of uniprot human verified proteins: 20434\n",
            "Number of druggable proteins: 2915\n",
            "Number of druggable approved proteins: 2233\n",
            "['Sequence Length', 'Molecular Weight', 'GRAVY', 'Isoelectric Point', 'Instability Index', 'Aromaticity', 'Charge at 7', 'Amino Acid Percent A', 'Amino Acid Percent C', 'Amino Acid Percent D', 'Amino Acid Percent E', 'Amino Acid Percent F', 'Amino Acid Percent G', 'Amino Acid Percent H', 'Amino Acid Percent I', 'Amino Acid Percent K', 'Amino Acid Percent L', 'Amino Acid Percent M', 'Amino Acid Percent N', 'Amino Acid Percent P', 'Amino Acid Percent Q', 'Amino Acid Percent R', 'Amino Acid Percent S', 'Amino Acid Percent T', 'Amino Acid Percent V', 'Amino Acid Percent W', 'Amino Acid Percent Y', 'Molar Extinction Coefficient 1', 'Molar Extinction Coefficient 2', 'Secondary Structure helix', 'Secondary Structure turn', 'Secondary Structure sheet', 'aliphatic_aliphatic', 'aliphatic_positive', 'aliphatic_negative', 'aliphatic_uncharged', 'aliphatic_aromatic', 'positive_aliphatic', 'positive_positive', 'positive_negative', 'positive_uncharged', 'positive_aromatic', 'negative_aliphatic', 'negative_positive', 'negative_negative', 'negative_uncharged', 'negative_aromatic', 'uncharged_aliphatic', 'uncharged_positive', 'uncharged_negative', 'uncharged_uncharged', 'uncharged_aromatic', 'aromatic_aliphatic', 'aromatic_positive', 'aromatic_negative', 'aromatic_uncharged', 'aromatic_aromatic', 'Glycosylation', 'Cross-link', 'Modified residue', 'Signal', 'Disulfide bond', 'O-linked', 'N-linked', 'C-linked', 'N-beta-linked', 'S-linked', 'O-alpha-linked', 'binary_count', 'binary_experimental_count', 'xeno_count', 'xeno_experimental_count', 'degree_binary', 'degree_xeno', 'degree_all', 'avg_degree_nbr_binary', 'avg_degree_nbr_xeno', 'avg_degree_nbr_all', 'strongly_connected_component_sizes_all', 'synapse', 'postsynapse', 'cytoplasmic vesicle', 'sarcoplasmic reticulum', 'inflammasome', 'cytolitic granule', 'lipid droplet', 'vacuole membrane', 'photoreceptor', 'mitochondrion', 'target cell membrane', 'cell projection', 'myelin membrane', 'endosome', 'midbody', 'late endosome', 'virion', 'golgo apparatus', 'presynapse', 'parasitophorous vacuole', 'recycling endosome', 'extracellular vessicle', 'preautophagosomal structure', 'early endosome', 'cytoplasmic granule', 'vesicle', 'endomembrane system', 'cytoplasm', 'nucleus', 'cornified envelope', 'peroxisome', 'cell surface', 'lysosome', 'secreted', 'golgi outpost', 'membrane', 'endoplasmic reticulum', 'cell junction', 'zymogen granule', 'cleavage furrow', 'rough endoplasmic reticulum', 'microsome', 'perikaryon', 'melanosome', 'vacuole', 'lateral cell membrane', 'smooth endoplasmic reticulum membrane', 'chromosome', 'dynein axonemal particle', 'cell membrane', 'rrm', 'acidic residues', 'ph', 'krab', 'pdz', 'btb', 'nuclear localization signal', 'fibronectin type-iii', 'disordered', 'ig-like v-type', 'ef-hand', 'sh3', 'ig-like', 'pro residues', 'protein kinase', 'ig-like c2-type', 'basic and acidic residues', 'basic residues', 'egf-like', 'polar residues', 'Mean', 'Mode', 'Min', 'Max', 'Variance', 'Median', 'Standard Deviation', 'Range', 'Min gap', 'Max gap', 'Average gap', 'Min 2-hop gap', 'Max 2-hop gap', 'Average 2-hop gap', 'Latent_Value_1', 'Latent_Value_2', 'Latent_Value_3', 'Latent_Value_4', 'Latent_Value_5', 'Latent_Value_6', 'Latent_Value_7', 'Latent_Value_8', 'Latent_Value_9', 'Latent_Value_10', 'Latent_Value_11', 'Latent_Value_12', 'Latent_Value_13', 'Latent_Value_14', 'Latent_Value_15', 'Latent_Value_16', 'Latent_Value_17', 'Latent_Value_18', 'Latent_Value_19', 'Latent_Value_20']\n",
            "183\n"
          ]
        }
      ]
    },
    {
      "cell_type": "code",
      "source": [
        "# with open(\"newly_approved.csv\") as f:\n",
        "#   newly_approved = f.read().splitlines()\n",
        "# len(newly_approved)\n",
        "\n",
        "# # convert into fasta format\n",
        "# string_info = \"\"\n",
        "# for protein in newly_approved:\n",
        "#   string_info += f\">{protein}\\n\"\n",
        "#   string_info += f\"{properties.loc[protein]['Sequence']}\\n\"\n",
        "\n",
        "# with open(\"newly_approved.fasta\", \"w\") as f:\n",
        "#   f.write(string_info)"
      ],
      "metadata": {
        "id": "8jBiVMF_uHGK"
      },
      "execution_count": null,
      "outputs": []
    },
    {
      "cell_type": "code",
      "source": [
        "len(approved_druggable_proteins), len(investigational_proteins)"
      ],
      "metadata": {
        "colab": {
          "base_uri": "https://localhost:8080/"
        },
        "id": "WwypxX6osyxL",
        "outputId": "fd6fafb7-219f-4604-ba18-bd2cb136d264"
      },
      "execution_count": null,
      "outputs": [
        {
          "output_type": "execute_result",
          "data": {
            "text/plain": [
              "(2233, 682)"
            ]
          },
          "metadata": {},
          "execution_count": 4
        }
      ]
    },
    {
      "cell_type": "code",
      "source": [
        "# Train Test Splitting\n",
        "from sklearn.model_selection import train_test_split\n",
        "from sklearn.utils import shuffle\n",
        "from sklearn.preprocessing import StandardScaler, MinMaxScaler\n",
        "from imblearn.over_sampling import ADASYN, SMOTE\n",
        "\n",
        "def get_data(x_sample, y_sample):\n",
        "  return np.array(x_sample), np.array(y_sample)\n",
        "\n",
        "def data_splitting(x_sample, y_sample, mode=\"default\", scaler=\"none\", class_size=600):\n",
        "  druggable_indices = (y_sample == 1)  # Assuming 1 represents druggable\n",
        "  non_druggable_indices = (y_sample == 0)  # Assuming 0 represents non-druggable\n",
        "\n",
        "  druggable_X = x_sample[druggable_indices]\n",
        "  druggable_y = y_sample[druggable_indices]\n",
        "\n",
        "  non_druggable_X = x_sample[non_druggable_indices]\n",
        "  non_druggable_y = y_sample[non_druggable_indices]\n",
        "\n",
        "  druggable_X_remaining, druggable_X_test, druggable_y_remaining, druggable_y_test = train_test_split(druggable_X, druggable_y, test_size=class_size, random_state=123)\n",
        "  non_druggable_X_remaining, non_druggable_X_test, non_druggable_y_remaining, non_druggable_y_test = train_test_split(non_druggable_X, non_druggable_y, test_size= class_size, random_state=123)\n",
        "\n",
        "  X_test = pd.concat((druggable_X_test, non_druggable_X_test))\n",
        "  y_test = pd.concat((druggable_y_test, non_druggable_y_test))\n",
        "  X_train = pd.concat((druggable_X_remaining, non_druggable_X_remaining))\n",
        "  y_train = pd.concat((druggable_y_remaining, non_druggable_y_remaining))\n",
        "  X_train, y_train = shuffle(X_train, y_train, random_state=123)\n",
        "  if mode == \"default\":\n",
        "    pass\n",
        "  elif mode == \"adasyn\":\n",
        "    ada = ADASYN(random_state=42)\n",
        "    X_train, y_train = ada.fit_resample(X_train, y_train)\n",
        "  elif mode == \"smote\":\n",
        "    smt = SMOTE(random_state=42)\n",
        "    X_train, y_train = smt.fit_resample(X_train, y_train)\n",
        "\n",
        "  if scaler == \"std\":\n",
        "    scaler = StandardScaler()\n",
        "    X_train = scaler.fit_transform(X_train)\n",
        "    X_test = scaler.transform(X_test)\n",
        "  elif scaler == \"minmax\":\n",
        "    scaler = MinMaxScaler()\n",
        "    X_train = scaler.fit_transform(X_train)\n",
        "    X_test = scaler.transform(X_test)\n",
        "  elif scaler == \"none\":\n",
        "    pass\n",
        "\n",
        "  return X_train, X_test, y_train, y_test\n"
      ],
      "metadata": {
        "id": "OEAjsH6Al1j4"
      },
      "execution_count": null,
      "outputs": []
    },
    {
      "cell_type": "code",
      "source": [
        "# rem-new-data is to extract only those proteins which are either approved druggable or non-druggable\n",
        "# i.e., it excludes proteins which are non-approved but druggable\n",
        "new_data = final_data.copy()\n",
        "new_data['new_column'] = new_data['is_druggable'] + new_data['is_approved_druggable']\n",
        "print(np.bincount(new_data['new_column']))\n",
        "rem_new_data = new_data[new_data['new_column'] != 1]\n",
        "rem_new_data.shape, np.bincount(rem_new_data['new_column'])"
      ],
      "metadata": {
        "id": "rDcbhEOrrhUs",
        "colab": {
          "base_uri": "https://localhost:8080/"
        },
        "outputId": "d719316e-8a65-4127-a668-d20583ccad4b"
      },
      "execution_count": null,
      "outputs": [
        {
          "output_type": "stream",
          "name": "stdout",
          "text": [
            "[17377   677  2219]\n"
          ]
        },
        {
          "output_type": "execute_result",
          "data": {
            "text/plain": [
              "((19596, 186), array([17377,     0,  2219]))"
            ]
          },
          "metadata": {},
          "execution_count": 6
        }
      ]
    },
    {
      "cell_type": "markdown",
      "source": [
        "### Predicting Druggability Index (DI) using Partition Method"
      ],
      "metadata": {
        "id": "7n-CUn3E09xR"
      }
    },
    {
      "cell_type": "code",
      "source": [
        "X, y = rem_new_data[features_list], np.array(rem_new_data[\"is_approved_druggable\"])\n",
        "X.shape, y.shape"
      ],
      "metadata": {
        "colab": {
          "base_uri": "https://localhost:8080/"
        },
        "id": "-fBlQPI509Eg",
        "outputId": "942ef7df-4834-489d-ba63-4b1a310ab039"
      },
      "execution_count": null,
      "outputs": [
        {
          "output_type": "execute_result",
          "data": {
            "text/plain": [
              "((19596, 183), (19596,))"
            ]
          },
          "metadata": {},
          "execution_count": 22
        }
      ]
    },
    {
      "cell_type": "code",
      "source": [
        "np.bincount(y)"
      ],
      "metadata": {
        "colab": {
          "base_uri": "https://localhost:8080/"
        },
        "id": "KtGUyIvT1dK4",
        "outputId": "d50f6aba-e917-4b83-b16a-cb063a645278"
      },
      "execution_count": null,
      "outputs": [
        {
          "output_type": "execute_result",
          "data": {
            "text/plain": [
              "array([17377,  2219])"
            ]
          },
          "metadata": {},
          "execution_count": 23
        }
      ]
    },
    {
      "cell_type": "code",
      "source": [
        "X_druggable = X[y == 1]\n",
        "X_non_druggable = X[y == 0]\n",
        "\n",
        "X_non_druggable_partitions = np.array_split(X_non_druggable, round(len(X_non_druggable)/len(X_druggable)))\n",
        "print(f\"Splitting into {len(X_non_druggable_partitions)} partitions\")\n",
        "print(\"Sizes of partitions\")\n",
        "for i, partition in enumerate(X_non_druggable_partitions):\n",
        "  print(f\"Partition {i}: {len(partition)}\")"
      ],
      "metadata": {
        "id": "zvEuYSYiziHw",
        "colab": {
          "base_uri": "https://localhost:8080/"
        },
        "outputId": "98851e8b-b22c-4a35-acdf-1d09725fc515"
      },
      "execution_count": null,
      "outputs": [
        {
          "output_type": "stream",
          "name": "stdout",
          "text": [
            "Splitting into 8 partitions\n",
            "Sizes of partitions\n",
            "Partition 0: 2173\n",
            "Partition 1: 2172\n",
            "Partition 2: 2172\n",
            "Partition 3: 2172\n",
            "Partition 4: 2172\n",
            "Partition 5: 2172\n",
            "Partition 6: 2172\n",
            "Partition 7: 2172\n"
          ]
        },
        {
          "output_type": "stream",
          "name": "stderr",
          "text": [
            "/usr/local/lib/python3.10/dist-packages/numpy/core/fromnumeric.py:59: FutureWarning: 'DataFrame.swapaxes' is deprecated and will be removed in a future version. Please use 'DataFrame.transpose' instead.\n",
            "  return bound(*args, **kwds)\n"
          ]
        }
      ]
    },
    {
      "cell_type": "code",
      "source": [
        "import xgboost as xgb\n",
        "\n",
        "xgb_models = []\n",
        "for partition in X_non_druggable_partitions:\n",
        "  X_combined = np.concatenate((np.array(X_druggable), np.array(partition)))\n",
        "  y_combined = np.concatenate((np.ones(len(X_druggable)), np.zeros(len(partition))))\n",
        "  xgb_model = xgb.XGBClassifier(objective='binary:logistic', random_state=42)\n",
        "  xgb_model.fit(X_combined, y_combined)\n",
        "  xgb_models.append(xgb_model)\n"
      ],
      "metadata": {
        "id": "Q7ny5EWC1bQF"
      },
      "execution_count": null,
      "outputs": []
    },
    {
      "cell_type": "markdown",
      "source": [
        "### Druggability Index for Non Approved Druggable Proteins"
      ],
      "metadata": {
        "id": "-q0D4DayJgK4"
      }
    },
    {
      "cell_type": "code",
      "source": [
        "non_approved_druggable = new_data[new_data[\"new_column\"] == 1]\n",
        "non_approved_druggable.shape"
      ],
      "metadata": {
        "colab": {
          "base_uri": "https://localhost:8080/"
        },
        "id": "mI39Jb4D2L0H",
        "outputId": "c34ff6f7-2e91-456a-888e-968a765f6279"
      },
      "execution_count": null,
      "outputs": [
        {
          "output_type": "execute_result",
          "data": {
            "text/plain": [
              "(677, 186)"
            ]
          },
          "metadata": {},
          "execution_count": 26
        }
      ]
    },
    {
      "cell_type": "code",
      "source": [
        "X_test, y_test = get_data(non_approved_druggable[features_list], non_approved_druggable[\"is_approved_druggable\"])\n",
        "X_test.shape, y_test.shape"
      ],
      "metadata": {
        "colab": {
          "base_uri": "https://localhost:8080/"
        },
        "id": "T-PSdaI52iIV",
        "outputId": "4d80766c-b9fe-4e0a-a639-6f4a404c05e8"
      },
      "execution_count": null,
      "outputs": [
        {
          "output_type": "execute_result",
          "data": {
            "text/plain": [
              "((677, 183), (677,))"
            ]
          },
          "metadata": {},
          "execution_count": 27
        }
      ]
    },
    {
      "cell_type": "code",
      "source": [
        "protein_names = non_approved_druggable.index\n",
        "len(protein_names)"
      ],
      "metadata": {
        "id": "_sprY0lT5QM3",
        "colab": {
          "base_uri": "https://localhost:8080/"
        },
        "outputId": "3874f3a5-4049-436d-cbd5-c0607adbc361"
      },
      "execution_count": null,
      "outputs": [
        {
          "output_type": "execute_result",
          "data": {
            "text/plain": [
              "677"
            ]
          },
          "metadata": {},
          "execution_count": 28
        }
      ]
    },
    {
      "cell_type": "code",
      "source": [
        "predictions = []\n",
        "probabilities = []\n",
        "for model in xgb_models:\n",
        "  predictions.append(model.predict(X_test))\n",
        "  probabilities.append(model.predict_proba(X_test)[:,1])\n",
        "\n",
        "predictions = np.array(predictions)\n",
        "probabilities = np.array(probabilities)\n",
        "\n",
        "predictions.shape, probabilities.shape"
      ],
      "metadata": {
        "colab": {
          "base_uri": "https://localhost:8080/"
        },
        "id": "F4tKqoVk4gUv",
        "outputId": "c56e4aeb-4801-44dc-d3ee-3d6e0ad1a281"
      },
      "execution_count": null,
      "outputs": [
        {
          "output_type": "execute_result",
          "data": {
            "text/plain": [
              "((8, 677), (8, 677))"
            ]
          },
          "metadata": {},
          "execution_count": 29
        }
      ]
    },
    {
      "cell_type": "code",
      "source": [
        "predictions = np.mean(predictions, axis=0)\n",
        "predictions = np.round(predictions)\n",
        "predictions.shape"
      ],
      "metadata": {
        "id": "0oKBFNmM50k-",
        "colab": {
          "base_uri": "https://localhost:8080/"
        },
        "outputId": "80a6cee3-529d-4295-de11-769016d8449c"
      },
      "execution_count": null,
      "outputs": [
        {
          "output_type": "execute_result",
          "data": {
            "text/plain": [
              "(677,)"
            ]
          },
          "metadata": {},
          "execution_count": 30
        }
      ]
    },
    {
      "cell_type": "code",
      "source": [
        "mean_probabilities = np.mean(probabilities, axis=0)\n",
        "mean_probabilities.shape"
      ],
      "metadata": {
        "id": "h4SK7-DN57BL",
        "colab": {
          "base_uri": "https://localhost:8080/"
        },
        "outputId": "75f57c86-f078-4256-c709-c5363b97d4bb"
      },
      "execution_count": null,
      "outputs": [
        {
          "output_type": "execute_result",
          "data": {
            "text/plain": [
              "(677,)"
            ]
          },
          "metadata": {},
          "execution_count": 31
        }
      ]
    },
    {
      "cell_type": "code",
      "source": [
        "data = {\n",
        "    \"Protein\": protein_names\n",
        "}\n",
        "for i,probs in enumerate(probabilities):\n",
        "  data[f\"Probability_Partition_{i+1}\"] = probs\n",
        "data[\"Mean_Probability\"] = mean_probabilities\n",
        "data[\"Majority_Prediction\"] = predictions\n",
        "\n",
        "df = pd.DataFrame(data)\n",
        "df.set_index(\"Protein\", inplace=True)\n",
        "df.head()"
      ],
      "metadata": {
        "id": "Q4geyqbb675L",
        "colab": {
          "base_uri": "https://localhost:8080/",
          "height": 257
        },
        "outputId": "8b57787f-1a8f-49db-c63f-907eb1bb045f"
      },
      "execution_count": null,
      "outputs": [
        {
          "output_type": "execute_result",
          "data": {
            "text/plain": [
              "         Probability_Partition_1  Probability_Partition_2  \\\n",
              "Protein                                                     \n",
              "A8MPY1                  0.997942                 0.987718   \n",
              "O00182                  0.071415                 0.507560   \n",
              "O00187                  0.510667                 0.894427   \n",
              "O00303                  0.367701                 0.293249   \n",
              "O00459                  0.427500                 0.111523   \n",
              "\n",
              "         Probability_Partition_3  Probability_Partition_4  \\\n",
              "Protein                                                     \n",
              "A8MPY1                  0.992988                 0.995396   \n",
              "O00182                  0.047426                 0.136873   \n",
              "O00187                  0.995067                 0.971319   \n",
              "O00303                  0.762984                 0.620618   \n",
              "O00459                  0.923128                 0.334195   \n",
              "\n",
              "         Probability_Partition_5  Probability_Partition_6  \\\n",
              "Protein                                                     \n",
              "A8MPY1                  0.969573                 0.884285   \n",
              "O00182                  0.598508                 0.028446   \n",
              "O00187                  0.975857                 0.983510   \n",
              "O00303                  0.210906                 0.997960   \n",
              "O00459                  0.360499                 0.897659   \n",
              "\n",
              "         Probability_Partition_7  Probability_Partition_8  Mean_Probability  \\\n",
              "Protein                                                                       \n",
              "A8MPY1                  0.512737                 0.989705          0.916293   \n",
              "O00182                  0.393107                 0.219679          0.250377   \n",
              "O00187                  0.999856                 0.999987          0.916336   \n",
              "O00303                  0.999951                 0.999252          0.656578   \n",
              "O00459                  0.999425                 0.999839          0.631721   \n",
              "\n",
              "         Majority_Prediction  \n",
              "Protein                       \n",
              "A8MPY1                   1.0  \n",
              "O00182                   0.0  \n",
              "O00187                   1.0  \n",
              "O00303                   1.0  \n",
              "O00459                   0.0  "
            ],
            "text/html": [
              "\n",
              "  <div id=\"df-0093572b-8184-4216-b41e-b29401c4399c\" class=\"colab-df-container\">\n",
              "    <div>\n",
              "<style scoped>\n",
              "    .dataframe tbody tr th:only-of-type {\n",
              "        vertical-align: middle;\n",
              "    }\n",
              "\n",
              "    .dataframe tbody tr th {\n",
              "        vertical-align: top;\n",
              "    }\n",
              "\n",
              "    .dataframe thead th {\n",
              "        text-align: right;\n",
              "    }\n",
              "</style>\n",
              "<table border=\"1\" class=\"dataframe\">\n",
              "  <thead>\n",
              "    <tr style=\"text-align: right;\">\n",
              "      <th></th>\n",
              "      <th>Probability_Partition_1</th>\n",
              "      <th>Probability_Partition_2</th>\n",
              "      <th>Probability_Partition_3</th>\n",
              "      <th>Probability_Partition_4</th>\n",
              "      <th>Probability_Partition_5</th>\n",
              "      <th>Probability_Partition_6</th>\n",
              "      <th>Probability_Partition_7</th>\n",
              "      <th>Probability_Partition_8</th>\n",
              "      <th>Mean_Probability</th>\n",
              "      <th>Majority_Prediction</th>\n",
              "    </tr>\n",
              "    <tr>\n",
              "      <th>Protein</th>\n",
              "      <th></th>\n",
              "      <th></th>\n",
              "      <th></th>\n",
              "      <th></th>\n",
              "      <th></th>\n",
              "      <th></th>\n",
              "      <th></th>\n",
              "      <th></th>\n",
              "      <th></th>\n",
              "      <th></th>\n",
              "    </tr>\n",
              "  </thead>\n",
              "  <tbody>\n",
              "    <tr>\n",
              "      <th>A8MPY1</th>\n",
              "      <td>0.997942</td>\n",
              "      <td>0.987718</td>\n",
              "      <td>0.992988</td>\n",
              "      <td>0.995396</td>\n",
              "      <td>0.969573</td>\n",
              "      <td>0.884285</td>\n",
              "      <td>0.512737</td>\n",
              "      <td>0.989705</td>\n",
              "      <td>0.916293</td>\n",
              "      <td>1.0</td>\n",
              "    </tr>\n",
              "    <tr>\n",
              "      <th>O00182</th>\n",
              "      <td>0.071415</td>\n",
              "      <td>0.507560</td>\n",
              "      <td>0.047426</td>\n",
              "      <td>0.136873</td>\n",
              "      <td>0.598508</td>\n",
              "      <td>0.028446</td>\n",
              "      <td>0.393107</td>\n",
              "      <td>0.219679</td>\n",
              "      <td>0.250377</td>\n",
              "      <td>0.0</td>\n",
              "    </tr>\n",
              "    <tr>\n",
              "      <th>O00187</th>\n",
              "      <td>0.510667</td>\n",
              "      <td>0.894427</td>\n",
              "      <td>0.995067</td>\n",
              "      <td>0.971319</td>\n",
              "      <td>0.975857</td>\n",
              "      <td>0.983510</td>\n",
              "      <td>0.999856</td>\n",
              "      <td>0.999987</td>\n",
              "      <td>0.916336</td>\n",
              "      <td>1.0</td>\n",
              "    </tr>\n",
              "    <tr>\n",
              "      <th>O00303</th>\n",
              "      <td>0.367701</td>\n",
              "      <td>0.293249</td>\n",
              "      <td>0.762984</td>\n",
              "      <td>0.620618</td>\n",
              "      <td>0.210906</td>\n",
              "      <td>0.997960</td>\n",
              "      <td>0.999951</td>\n",
              "      <td>0.999252</td>\n",
              "      <td>0.656578</td>\n",
              "      <td>1.0</td>\n",
              "    </tr>\n",
              "    <tr>\n",
              "      <th>O00459</th>\n",
              "      <td>0.427500</td>\n",
              "      <td>0.111523</td>\n",
              "      <td>0.923128</td>\n",
              "      <td>0.334195</td>\n",
              "      <td>0.360499</td>\n",
              "      <td>0.897659</td>\n",
              "      <td>0.999425</td>\n",
              "      <td>0.999839</td>\n",
              "      <td>0.631721</td>\n",
              "      <td>0.0</td>\n",
              "    </tr>\n",
              "  </tbody>\n",
              "</table>\n",
              "</div>\n",
              "    <div class=\"colab-df-buttons\">\n",
              "\n",
              "  <div class=\"colab-df-container\">\n",
              "    <button class=\"colab-df-convert\" onclick=\"convertToInteractive('df-0093572b-8184-4216-b41e-b29401c4399c')\"\n",
              "            title=\"Convert this dataframe to an interactive table.\"\n",
              "            style=\"display:none;\">\n",
              "\n",
              "  <svg xmlns=\"http://www.w3.org/2000/svg\" height=\"24px\" viewBox=\"0 -960 960 960\">\n",
              "    <path d=\"M120-120v-720h720v720H120Zm60-500h600v-160H180v160Zm220 220h160v-160H400v160Zm0 220h160v-160H400v160ZM180-400h160v-160H180v160Zm440 0h160v-160H620v160ZM180-180h160v-160H180v160Zm440 0h160v-160H620v160Z\"/>\n",
              "  </svg>\n",
              "    </button>\n",
              "\n",
              "  <style>\n",
              "    .colab-df-container {\n",
              "      display:flex;\n",
              "      gap: 12px;\n",
              "    }\n",
              "\n",
              "    .colab-df-convert {\n",
              "      background-color: #E8F0FE;\n",
              "      border: none;\n",
              "      border-radius: 50%;\n",
              "      cursor: pointer;\n",
              "      display: none;\n",
              "      fill: #1967D2;\n",
              "      height: 32px;\n",
              "      padding: 0 0 0 0;\n",
              "      width: 32px;\n",
              "    }\n",
              "\n",
              "    .colab-df-convert:hover {\n",
              "      background-color: #E2EBFA;\n",
              "      box-shadow: 0px 1px 2px rgba(60, 64, 67, 0.3), 0px 1px 3px 1px rgba(60, 64, 67, 0.15);\n",
              "      fill: #174EA6;\n",
              "    }\n",
              "\n",
              "    .colab-df-buttons div {\n",
              "      margin-bottom: 4px;\n",
              "    }\n",
              "\n",
              "    [theme=dark] .colab-df-convert {\n",
              "      background-color: #3B4455;\n",
              "      fill: #D2E3FC;\n",
              "    }\n",
              "\n",
              "    [theme=dark] .colab-df-convert:hover {\n",
              "      background-color: #434B5C;\n",
              "      box-shadow: 0px 1px 3px 1px rgba(0, 0, 0, 0.15);\n",
              "      filter: drop-shadow(0px 1px 2px rgba(0, 0, 0, 0.3));\n",
              "      fill: #FFFFFF;\n",
              "    }\n",
              "  </style>\n",
              "\n",
              "    <script>\n",
              "      const buttonEl =\n",
              "        document.querySelector('#df-0093572b-8184-4216-b41e-b29401c4399c button.colab-df-convert');\n",
              "      buttonEl.style.display =\n",
              "        google.colab.kernel.accessAllowed ? 'block' : 'none';\n",
              "\n",
              "      async function convertToInteractive(key) {\n",
              "        const element = document.querySelector('#df-0093572b-8184-4216-b41e-b29401c4399c');\n",
              "        const dataTable =\n",
              "          await google.colab.kernel.invokeFunction('convertToInteractive',\n",
              "                                                    [key], {});\n",
              "        if (!dataTable) return;\n",
              "\n",
              "        const docLinkHtml = 'Like what you see? Visit the ' +\n",
              "          '<a target=\"_blank\" href=https://colab.research.google.com/notebooks/data_table.ipynb>data table notebook</a>'\n",
              "          + ' to learn more about interactive tables.';\n",
              "        element.innerHTML = '';\n",
              "        dataTable['output_type'] = 'display_data';\n",
              "        await google.colab.output.renderOutput(dataTable, element);\n",
              "        const docLink = document.createElement('div');\n",
              "        docLink.innerHTML = docLinkHtml;\n",
              "        element.appendChild(docLink);\n",
              "      }\n",
              "    </script>\n",
              "  </div>\n",
              "\n",
              "\n",
              "<div id=\"df-c404d547-fa81-437f-81d4-038ab3bc88ce\">\n",
              "  <button class=\"colab-df-quickchart\" onclick=\"quickchart('df-c404d547-fa81-437f-81d4-038ab3bc88ce')\"\n",
              "            title=\"Suggest charts\"\n",
              "            style=\"display:none;\">\n",
              "\n",
              "<svg xmlns=\"http://www.w3.org/2000/svg\" height=\"24px\"viewBox=\"0 0 24 24\"\n",
              "     width=\"24px\">\n",
              "    <g>\n",
              "        <path d=\"M19 3H5c-1.1 0-2 .9-2 2v14c0 1.1.9 2 2 2h14c1.1 0 2-.9 2-2V5c0-1.1-.9-2-2-2zM9 17H7v-7h2v7zm4 0h-2V7h2v10zm4 0h-2v-4h2v4z\"/>\n",
              "    </g>\n",
              "</svg>\n",
              "  </button>\n",
              "\n",
              "<style>\n",
              "  .colab-df-quickchart {\n",
              "      --bg-color: #E8F0FE;\n",
              "      --fill-color: #1967D2;\n",
              "      --hover-bg-color: #E2EBFA;\n",
              "      --hover-fill-color: #174EA6;\n",
              "      --disabled-fill-color: #AAA;\n",
              "      --disabled-bg-color: #DDD;\n",
              "  }\n",
              "\n",
              "  [theme=dark] .colab-df-quickchart {\n",
              "      --bg-color: #3B4455;\n",
              "      --fill-color: #D2E3FC;\n",
              "      --hover-bg-color: #434B5C;\n",
              "      --hover-fill-color: #FFFFFF;\n",
              "      --disabled-bg-color: #3B4455;\n",
              "      --disabled-fill-color: #666;\n",
              "  }\n",
              "\n",
              "  .colab-df-quickchart {\n",
              "    background-color: var(--bg-color);\n",
              "    border: none;\n",
              "    border-radius: 50%;\n",
              "    cursor: pointer;\n",
              "    display: none;\n",
              "    fill: var(--fill-color);\n",
              "    height: 32px;\n",
              "    padding: 0;\n",
              "    width: 32px;\n",
              "  }\n",
              "\n",
              "  .colab-df-quickchart:hover {\n",
              "    background-color: var(--hover-bg-color);\n",
              "    box-shadow: 0 1px 2px rgba(60, 64, 67, 0.3), 0 1px 3px 1px rgba(60, 64, 67, 0.15);\n",
              "    fill: var(--button-hover-fill-color);\n",
              "  }\n",
              "\n",
              "  .colab-df-quickchart-complete:disabled,\n",
              "  .colab-df-quickchart-complete:disabled:hover {\n",
              "    background-color: var(--disabled-bg-color);\n",
              "    fill: var(--disabled-fill-color);\n",
              "    box-shadow: none;\n",
              "  }\n",
              "\n",
              "  .colab-df-spinner {\n",
              "    border: 2px solid var(--fill-color);\n",
              "    border-color: transparent;\n",
              "    border-bottom-color: var(--fill-color);\n",
              "    animation:\n",
              "      spin 1s steps(1) infinite;\n",
              "  }\n",
              "\n",
              "  @keyframes spin {\n",
              "    0% {\n",
              "      border-color: transparent;\n",
              "      border-bottom-color: var(--fill-color);\n",
              "      border-left-color: var(--fill-color);\n",
              "    }\n",
              "    20% {\n",
              "      border-color: transparent;\n",
              "      border-left-color: var(--fill-color);\n",
              "      border-top-color: var(--fill-color);\n",
              "    }\n",
              "    30% {\n",
              "      border-color: transparent;\n",
              "      border-left-color: var(--fill-color);\n",
              "      border-top-color: var(--fill-color);\n",
              "      border-right-color: var(--fill-color);\n",
              "    }\n",
              "    40% {\n",
              "      border-color: transparent;\n",
              "      border-right-color: var(--fill-color);\n",
              "      border-top-color: var(--fill-color);\n",
              "    }\n",
              "    60% {\n",
              "      border-color: transparent;\n",
              "      border-right-color: var(--fill-color);\n",
              "    }\n",
              "    80% {\n",
              "      border-color: transparent;\n",
              "      border-right-color: var(--fill-color);\n",
              "      border-bottom-color: var(--fill-color);\n",
              "    }\n",
              "    90% {\n",
              "      border-color: transparent;\n",
              "      border-bottom-color: var(--fill-color);\n",
              "    }\n",
              "  }\n",
              "</style>\n",
              "\n",
              "  <script>\n",
              "    async function quickchart(key) {\n",
              "      const quickchartButtonEl =\n",
              "        document.querySelector('#' + key + ' button');\n",
              "      quickchartButtonEl.disabled = true;  // To prevent multiple clicks.\n",
              "      quickchartButtonEl.classList.add('colab-df-spinner');\n",
              "      try {\n",
              "        const charts = await google.colab.kernel.invokeFunction(\n",
              "            'suggestCharts', [key], {});\n",
              "      } catch (error) {\n",
              "        console.error('Error during call to suggestCharts:', error);\n",
              "      }\n",
              "      quickchartButtonEl.classList.remove('colab-df-spinner');\n",
              "      quickchartButtonEl.classList.add('colab-df-quickchart-complete');\n",
              "    }\n",
              "    (() => {\n",
              "      let quickchartButtonEl =\n",
              "        document.querySelector('#df-c404d547-fa81-437f-81d4-038ab3bc88ce button');\n",
              "      quickchartButtonEl.style.display =\n",
              "        google.colab.kernel.accessAllowed ? 'block' : 'none';\n",
              "    })();\n",
              "  </script>\n",
              "</div>\n",
              "\n",
              "    </div>\n",
              "  </div>\n"
            ],
            "application/vnd.google.colaboratory.intrinsic+json": {
              "type": "dataframe",
              "variable_name": "df",
              "summary": "{\n  \"name\": \"df\",\n  \"rows\": 677,\n  \"fields\": [\n    {\n      \"column\": \"Protein\",\n      \"properties\": {\n        \"dtype\": \"string\",\n        \"num_unique_values\": 677,\n        \"samples\": [\n          \"P04211\",\n          \"P51570\",\n          \"P01112\"\n        ],\n        \"semantic_type\": \"\",\n        \"description\": \"\"\n      }\n    },\n    {\n      \"column\": \"Probability_Partition_1\",\n      \"properties\": {\n        \"dtype\": \"float32\",\n        \"num_unique_values\": 677,\n        \"samples\": [\n          0.16435497999191284,\n          0.7412987947463989,\n          0.11340880393981934\n        ],\n        \"semantic_type\": \"\",\n        \"description\": \"\"\n      }\n    },\n    {\n      \"column\": \"Probability_Partition_2\",\n      \"properties\": {\n        \"dtype\": \"float32\",\n        \"num_unique_values\": 677,\n        \"samples\": [\n          0.8342126607894897,\n          0.5713090300559998,\n          0.7839950323104858\n        ],\n        \"semantic_type\": \"\",\n        \"description\": \"\"\n      }\n    },\n    {\n      \"column\": \"Probability_Partition_3\",\n      \"properties\": {\n        \"dtype\": \"float32\",\n        \"num_unique_values\": 677,\n        \"samples\": [\n          0.45882150530815125,\n          0.7853566408157349,\n          0.9867953062057495\n        ],\n        \"semantic_type\": \"\",\n        \"description\": \"\"\n      }\n    },\n    {\n      \"column\": \"Probability_Partition_4\",\n      \"properties\": {\n        \"dtype\": \"float32\",\n        \"num_unique_values\": 677,\n        \"samples\": [\n          0.9275766611099243,\n          0.8984463214874268,\n          0.9794767498970032\n        ],\n        \"semantic_type\": \"\",\n        \"description\": \"\"\n      }\n    },\n    {\n      \"column\": \"Probability_Partition_5\",\n      \"properties\": {\n        \"dtype\": \"float32\",\n        \"num_unique_values\": 677,\n        \"samples\": [\n          0.9704402685165405,\n          0.22352607548236847,\n          0.9799087643623352\n        ],\n        \"semantic_type\": \"\",\n        \"description\": \"\"\n      }\n    },\n    {\n      \"column\": \"Probability_Partition_6\",\n      \"properties\": {\n        \"dtype\": \"float32\",\n        \"num_unique_values\": 677,\n        \"samples\": [\n          0.04460299015045166,\n          0.8126452565193176,\n          0.9963623881340027\n        ],\n        \"semantic_type\": \"\",\n        \"description\": \"\"\n      }\n    },\n    {\n      \"column\": \"Probability_Partition_7\",\n      \"properties\": {\n        \"dtype\": \"float32\",\n        \"num_unique_values\": 670,\n        \"samples\": [\n          0.9991987347602844,\n          0.9985968470573425,\n          0.0072389873676002026\n        ],\n        \"semantic_type\": \"\",\n        \"description\": \"\"\n      }\n    },\n    {\n      \"column\": \"Probability_Partition_8\",\n      \"properties\": {\n        \"dtype\": \"float32\",\n        \"num_unique_values\": 646,\n        \"samples\": [\n          0.034551993012428284,\n          0.030483566224575043,\n          0.9998860359191895\n        ],\n        \"semantic_type\": \"\",\n        \"description\": \"\"\n      }\n    },\n    {\n      \"column\": \"Mean_Probability\",\n      \"properties\": {\n        \"dtype\": \"float32\",\n        \"num_unique_values\": 677,\n        \"samples\": [\n          0.4973739981651306,\n          0.7190389633178711,\n          0.8549808263778687\n        ],\n        \"semantic_type\": \"\",\n        \"description\": \"\"\n      }\n    },\n    {\n      \"column\": \"Majority_Prediction\",\n      \"properties\": {\n        \"dtype\": \"number\",\n        \"std\": 0.468707343742471,\n        \"min\": 0.0,\n        \"max\": 1.0,\n        \"num_unique_values\": 2,\n        \"samples\": [\n          0.0,\n          1.0\n        ],\n        \"semantic_type\": \"\",\n        \"description\": \"\"\n      }\n    }\n  ]\n}"
            }
          },
          "metadata": {},
          "execution_count": 32
        }
      ]
    },
    {
      "cell_type": "code",
      "source": [
        "df.to_csv(\"/content/drive/MyDrive/protein_props/NEW_WORK/XGB_DI_investigational.csv\")"
      ],
      "metadata": {
        "id": "ecqGcDn_58s9"
      },
      "execution_count": null,
      "outputs": []
    },
    {
      "cell_type": "markdown",
      "source": [
        "### Druggability Index for Non Druggable Train Set"
      ],
      "metadata": {
        "id": "XEnSUPsQKgep"
      }
    },
    {
      "cell_type": "code",
      "source": [
        "protein_names_all, predictions_all, probabilities_all = [], None, None\n",
        "for i, partition in enumerate(X_non_druggable_partitions):\n",
        "  protein_names = partition.index\n",
        "  predictions, probabilities = [], []\n",
        "  for j, model in enumerate(xgb_models):\n",
        "    if j != i:\n",
        "      predictions.append(model.predict(np.array(partition)))\n",
        "      probabilities.append(model.predict_proba(np.array(partition))[:,1])\n",
        "  predictions, probabilities = np.array(predictions), np.array(probabilities)\n",
        "  predictions = np.mean(predictions, axis=0)\n",
        "  predictions = np.round(predictions)\n",
        "  print(predictions.shape, probabilities.shape)\n",
        "\n",
        "  protein_names_all.extend(protein_names)\n",
        "  if predictions_all is None:\n",
        "    predictions_all = predictions\n",
        "    probabilities_all = probabilities\n",
        "  else:\n",
        "    predictions_all = np.concatenate((predictions_all, predictions))\n",
        "    probabilities_all = np.concatenate((probabilities_all, probabilities), axis=1)"
      ],
      "metadata": {
        "colab": {
          "base_uri": "https://localhost:8080/"
        },
        "id": "TbxxWbayLna8",
        "outputId": "7e0dea79-14a3-4219-859d-d6bbc77f4f46"
      },
      "execution_count": null,
      "outputs": [
        {
          "output_type": "stream",
          "name": "stdout",
          "text": [
            "(2173,) (7, 2173)\n",
            "(2172,) (7, 2172)\n",
            "(2172,) (7, 2172)\n",
            "(2172,) (7, 2172)\n",
            "(2172,) (7, 2172)\n",
            "(2172,) (7, 2172)\n",
            "(2172,) (7, 2172)\n",
            "(2172,) (7, 2172)\n"
          ]
        }
      ]
    },
    {
      "cell_type": "code",
      "source": [
        "predictions_all = np.array(predictions_all)\n",
        "probabilities_all = np.array(probabilities_all)\n",
        "mean_probabilities_all = np.mean(probabilities_all, axis=0)\n",
        "len(protein_names_all), predictions_all.shape, probabilities_all.shape, mean_probabilities_all.shape"
      ],
      "metadata": {
        "colab": {
          "base_uri": "https://localhost:8080/"
        },
        "id": "e5NvpMPtM_Bg",
        "outputId": "b04455cd-7f56-4606-9163-3cd319da02b8"
      },
      "execution_count": null,
      "outputs": [
        {
          "output_type": "execute_result",
          "data": {
            "text/plain": [
              "(17377, (17377,), (7, 17377), (17377,))"
            ]
          },
          "metadata": {},
          "execution_count": 36
        }
      ]
    },
    {
      "cell_type": "code",
      "source": [
        "data = {\n",
        "    \"Protein\": protein_names_all\n",
        "}\n",
        "for i,probs in enumerate(probabilities_all):\n",
        "  data[f\"Probability_Partition_{i+1}\"] = probs\n",
        "data[\"Mean_Probability\"] = mean_probabilities_all\n",
        "data[\"Majority_Prediction\"] = predictions_all\n",
        "\n",
        "df = pd.DataFrame(data)\n",
        "df.set_index(\"Protein\", inplace=True)\n",
        "df.head()"
      ],
      "metadata": {
        "colab": {
          "base_uri": "https://localhost:8080/",
          "height": 257
        },
        "id": "T3W8sorQN6v6",
        "outputId": "cb20e99f-e80d-49e3-9ed4-25508bf9305c"
      },
      "execution_count": null,
      "outputs": [
        {
          "output_type": "execute_result",
          "data": {
            "text/plain": [
              "            Probability_Partition_1  Probability_Partition_2  \\\n",
              "Protein                                                        \n",
              "A0A087X1C5                 0.791163                 0.954440   \n",
              "A0A0B4J2F0                 0.590943                 0.677374   \n",
              "A0A0B4J2F2                 0.991516                 0.913039   \n",
              "A0A0C5B5G6                 0.538607                 0.764433   \n",
              "A0A0K2S4Q6                 0.643794                 0.357663   \n",
              "\n",
              "            Probability_Partition_3  Probability_Partition_4  \\\n",
              "Protein                                                        \n",
              "A0A087X1C5                 0.722492                 0.816621   \n",
              "A0A0B4J2F0                 0.956024                 0.685269   \n",
              "A0A0B4J2F2                 0.982178                 0.980435   \n",
              "A0A0C5B5G6                 0.880157                 0.258897   \n",
              "A0A0K2S4Q6                 0.585669                 0.592733   \n",
              "\n",
              "            Probability_Partition_5  Probability_Partition_6  \\\n",
              "Protein                                                        \n",
              "A0A087X1C5                 0.810045                 0.952112   \n",
              "A0A0B4J2F0                 0.174851                 0.748101   \n",
              "A0A0B4J2F2                 0.944048                 0.937387   \n",
              "A0A0C5B5G6                 0.165899                 0.216751   \n",
              "A0A0K2S4Q6                 0.013564                 0.012757   \n",
              "\n",
              "            Probability_Partition_7  Mean_Probability  Majority_Prediction  \n",
              "Protein                                                                     \n",
              "A0A087X1C5                 0.999797          0.863810                  1.0  \n",
              "A0A0B4J2F0                 0.937290          0.681408                  1.0  \n",
              "A0A0B4J2F2                 0.969610          0.959745                  1.0  \n",
              "A0A0C5B5G6                 0.680989          0.500819                  1.0  \n",
              "A0A0K2S4Q6                 0.014309          0.317212                  0.0  "
            ],
            "text/html": [
              "\n",
              "  <div id=\"df-d209f62a-60b7-4e0c-b783-1e1e22d6b582\" class=\"colab-df-container\">\n",
              "    <div>\n",
              "<style scoped>\n",
              "    .dataframe tbody tr th:only-of-type {\n",
              "        vertical-align: middle;\n",
              "    }\n",
              "\n",
              "    .dataframe tbody tr th {\n",
              "        vertical-align: top;\n",
              "    }\n",
              "\n",
              "    .dataframe thead th {\n",
              "        text-align: right;\n",
              "    }\n",
              "</style>\n",
              "<table border=\"1\" class=\"dataframe\">\n",
              "  <thead>\n",
              "    <tr style=\"text-align: right;\">\n",
              "      <th></th>\n",
              "      <th>Probability_Partition_1</th>\n",
              "      <th>Probability_Partition_2</th>\n",
              "      <th>Probability_Partition_3</th>\n",
              "      <th>Probability_Partition_4</th>\n",
              "      <th>Probability_Partition_5</th>\n",
              "      <th>Probability_Partition_6</th>\n",
              "      <th>Probability_Partition_7</th>\n",
              "      <th>Mean_Probability</th>\n",
              "      <th>Majority_Prediction</th>\n",
              "    </tr>\n",
              "    <tr>\n",
              "      <th>Protein</th>\n",
              "      <th></th>\n",
              "      <th></th>\n",
              "      <th></th>\n",
              "      <th></th>\n",
              "      <th></th>\n",
              "      <th></th>\n",
              "      <th></th>\n",
              "      <th></th>\n",
              "      <th></th>\n",
              "    </tr>\n",
              "  </thead>\n",
              "  <tbody>\n",
              "    <tr>\n",
              "      <th>A0A087X1C5</th>\n",
              "      <td>0.791163</td>\n",
              "      <td>0.954440</td>\n",
              "      <td>0.722492</td>\n",
              "      <td>0.816621</td>\n",
              "      <td>0.810045</td>\n",
              "      <td>0.952112</td>\n",
              "      <td>0.999797</td>\n",
              "      <td>0.863810</td>\n",
              "      <td>1.0</td>\n",
              "    </tr>\n",
              "    <tr>\n",
              "      <th>A0A0B4J2F0</th>\n",
              "      <td>0.590943</td>\n",
              "      <td>0.677374</td>\n",
              "      <td>0.956024</td>\n",
              "      <td>0.685269</td>\n",
              "      <td>0.174851</td>\n",
              "      <td>0.748101</td>\n",
              "      <td>0.937290</td>\n",
              "      <td>0.681408</td>\n",
              "      <td>1.0</td>\n",
              "    </tr>\n",
              "    <tr>\n",
              "      <th>A0A0B4J2F2</th>\n",
              "      <td>0.991516</td>\n",
              "      <td>0.913039</td>\n",
              "      <td>0.982178</td>\n",
              "      <td>0.980435</td>\n",
              "      <td>0.944048</td>\n",
              "      <td>0.937387</td>\n",
              "      <td>0.969610</td>\n",
              "      <td>0.959745</td>\n",
              "      <td>1.0</td>\n",
              "    </tr>\n",
              "    <tr>\n",
              "      <th>A0A0C5B5G6</th>\n",
              "      <td>0.538607</td>\n",
              "      <td>0.764433</td>\n",
              "      <td>0.880157</td>\n",
              "      <td>0.258897</td>\n",
              "      <td>0.165899</td>\n",
              "      <td>0.216751</td>\n",
              "      <td>0.680989</td>\n",
              "      <td>0.500819</td>\n",
              "      <td>1.0</td>\n",
              "    </tr>\n",
              "    <tr>\n",
              "      <th>A0A0K2S4Q6</th>\n",
              "      <td>0.643794</td>\n",
              "      <td>0.357663</td>\n",
              "      <td>0.585669</td>\n",
              "      <td>0.592733</td>\n",
              "      <td>0.013564</td>\n",
              "      <td>0.012757</td>\n",
              "      <td>0.014309</td>\n",
              "      <td>0.317212</td>\n",
              "      <td>0.0</td>\n",
              "    </tr>\n",
              "  </tbody>\n",
              "</table>\n",
              "</div>\n",
              "    <div class=\"colab-df-buttons\">\n",
              "\n",
              "  <div class=\"colab-df-container\">\n",
              "    <button class=\"colab-df-convert\" onclick=\"convertToInteractive('df-d209f62a-60b7-4e0c-b783-1e1e22d6b582')\"\n",
              "            title=\"Convert this dataframe to an interactive table.\"\n",
              "            style=\"display:none;\">\n",
              "\n",
              "  <svg xmlns=\"http://www.w3.org/2000/svg\" height=\"24px\" viewBox=\"0 -960 960 960\">\n",
              "    <path d=\"M120-120v-720h720v720H120Zm60-500h600v-160H180v160Zm220 220h160v-160H400v160Zm0 220h160v-160H400v160ZM180-400h160v-160H180v160Zm440 0h160v-160H620v160ZM180-180h160v-160H180v160Zm440 0h160v-160H620v160Z\"/>\n",
              "  </svg>\n",
              "    </button>\n",
              "\n",
              "  <style>\n",
              "    .colab-df-container {\n",
              "      display:flex;\n",
              "      gap: 12px;\n",
              "    }\n",
              "\n",
              "    .colab-df-convert {\n",
              "      background-color: #E8F0FE;\n",
              "      border: none;\n",
              "      border-radius: 50%;\n",
              "      cursor: pointer;\n",
              "      display: none;\n",
              "      fill: #1967D2;\n",
              "      height: 32px;\n",
              "      padding: 0 0 0 0;\n",
              "      width: 32px;\n",
              "    }\n",
              "\n",
              "    .colab-df-convert:hover {\n",
              "      background-color: #E2EBFA;\n",
              "      box-shadow: 0px 1px 2px rgba(60, 64, 67, 0.3), 0px 1px 3px 1px rgba(60, 64, 67, 0.15);\n",
              "      fill: #174EA6;\n",
              "    }\n",
              "\n",
              "    .colab-df-buttons div {\n",
              "      margin-bottom: 4px;\n",
              "    }\n",
              "\n",
              "    [theme=dark] .colab-df-convert {\n",
              "      background-color: #3B4455;\n",
              "      fill: #D2E3FC;\n",
              "    }\n",
              "\n",
              "    [theme=dark] .colab-df-convert:hover {\n",
              "      background-color: #434B5C;\n",
              "      box-shadow: 0px 1px 3px 1px rgba(0, 0, 0, 0.15);\n",
              "      filter: drop-shadow(0px 1px 2px rgba(0, 0, 0, 0.3));\n",
              "      fill: #FFFFFF;\n",
              "    }\n",
              "  </style>\n",
              "\n",
              "    <script>\n",
              "      const buttonEl =\n",
              "        document.querySelector('#df-d209f62a-60b7-4e0c-b783-1e1e22d6b582 button.colab-df-convert');\n",
              "      buttonEl.style.display =\n",
              "        google.colab.kernel.accessAllowed ? 'block' : 'none';\n",
              "\n",
              "      async function convertToInteractive(key) {\n",
              "        const element = document.querySelector('#df-d209f62a-60b7-4e0c-b783-1e1e22d6b582');\n",
              "        const dataTable =\n",
              "          await google.colab.kernel.invokeFunction('convertToInteractive',\n",
              "                                                    [key], {});\n",
              "        if (!dataTable) return;\n",
              "\n",
              "        const docLinkHtml = 'Like what you see? Visit the ' +\n",
              "          '<a target=\"_blank\" href=https://colab.research.google.com/notebooks/data_table.ipynb>data table notebook</a>'\n",
              "          + ' to learn more about interactive tables.';\n",
              "        element.innerHTML = '';\n",
              "        dataTable['output_type'] = 'display_data';\n",
              "        await google.colab.output.renderOutput(dataTable, element);\n",
              "        const docLink = document.createElement('div');\n",
              "        docLink.innerHTML = docLinkHtml;\n",
              "        element.appendChild(docLink);\n",
              "      }\n",
              "    </script>\n",
              "  </div>\n",
              "\n",
              "\n",
              "<div id=\"df-93556e8b-8768-4089-b57c-428ba249f467\">\n",
              "  <button class=\"colab-df-quickchart\" onclick=\"quickchart('df-93556e8b-8768-4089-b57c-428ba249f467')\"\n",
              "            title=\"Suggest charts\"\n",
              "            style=\"display:none;\">\n",
              "\n",
              "<svg xmlns=\"http://www.w3.org/2000/svg\" height=\"24px\"viewBox=\"0 0 24 24\"\n",
              "     width=\"24px\">\n",
              "    <g>\n",
              "        <path d=\"M19 3H5c-1.1 0-2 .9-2 2v14c0 1.1.9 2 2 2h14c1.1 0 2-.9 2-2V5c0-1.1-.9-2-2-2zM9 17H7v-7h2v7zm4 0h-2V7h2v10zm4 0h-2v-4h2v4z\"/>\n",
              "    </g>\n",
              "</svg>\n",
              "  </button>\n",
              "\n",
              "<style>\n",
              "  .colab-df-quickchart {\n",
              "      --bg-color: #E8F0FE;\n",
              "      --fill-color: #1967D2;\n",
              "      --hover-bg-color: #E2EBFA;\n",
              "      --hover-fill-color: #174EA6;\n",
              "      --disabled-fill-color: #AAA;\n",
              "      --disabled-bg-color: #DDD;\n",
              "  }\n",
              "\n",
              "  [theme=dark] .colab-df-quickchart {\n",
              "      --bg-color: #3B4455;\n",
              "      --fill-color: #D2E3FC;\n",
              "      --hover-bg-color: #434B5C;\n",
              "      --hover-fill-color: #FFFFFF;\n",
              "      --disabled-bg-color: #3B4455;\n",
              "      --disabled-fill-color: #666;\n",
              "  }\n",
              "\n",
              "  .colab-df-quickchart {\n",
              "    background-color: var(--bg-color);\n",
              "    border: none;\n",
              "    border-radius: 50%;\n",
              "    cursor: pointer;\n",
              "    display: none;\n",
              "    fill: var(--fill-color);\n",
              "    height: 32px;\n",
              "    padding: 0;\n",
              "    width: 32px;\n",
              "  }\n",
              "\n",
              "  .colab-df-quickchart:hover {\n",
              "    background-color: var(--hover-bg-color);\n",
              "    box-shadow: 0 1px 2px rgba(60, 64, 67, 0.3), 0 1px 3px 1px rgba(60, 64, 67, 0.15);\n",
              "    fill: var(--button-hover-fill-color);\n",
              "  }\n",
              "\n",
              "  .colab-df-quickchart-complete:disabled,\n",
              "  .colab-df-quickchart-complete:disabled:hover {\n",
              "    background-color: var(--disabled-bg-color);\n",
              "    fill: var(--disabled-fill-color);\n",
              "    box-shadow: none;\n",
              "  }\n",
              "\n",
              "  .colab-df-spinner {\n",
              "    border: 2px solid var(--fill-color);\n",
              "    border-color: transparent;\n",
              "    border-bottom-color: var(--fill-color);\n",
              "    animation:\n",
              "      spin 1s steps(1) infinite;\n",
              "  }\n",
              "\n",
              "  @keyframes spin {\n",
              "    0% {\n",
              "      border-color: transparent;\n",
              "      border-bottom-color: var(--fill-color);\n",
              "      border-left-color: var(--fill-color);\n",
              "    }\n",
              "    20% {\n",
              "      border-color: transparent;\n",
              "      border-left-color: var(--fill-color);\n",
              "      border-top-color: var(--fill-color);\n",
              "    }\n",
              "    30% {\n",
              "      border-color: transparent;\n",
              "      border-left-color: var(--fill-color);\n",
              "      border-top-color: var(--fill-color);\n",
              "      border-right-color: var(--fill-color);\n",
              "    }\n",
              "    40% {\n",
              "      border-color: transparent;\n",
              "      border-right-color: var(--fill-color);\n",
              "      border-top-color: var(--fill-color);\n",
              "    }\n",
              "    60% {\n",
              "      border-color: transparent;\n",
              "      border-right-color: var(--fill-color);\n",
              "    }\n",
              "    80% {\n",
              "      border-color: transparent;\n",
              "      border-right-color: var(--fill-color);\n",
              "      border-bottom-color: var(--fill-color);\n",
              "    }\n",
              "    90% {\n",
              "      border-color: transparent;\n",
              "      border-bottom-color: var(--fill-color);\n",
              "    }\n",
              "  }\n",
              "</style>\n",
              "\n",
              "  <script>\n",
              "    async function quickchart(key) {\n",
              "      const quickchartButtonEl =\n",
              "        document.querySelector('#' + key + ' button');\n",
              "      quickchartButtonEl.disabled = true;  // To prevent multiple clicks.\n",
              "      quickchartButtonEl.classList.add('colab-df-spinner');\n",
              "      try {\n",
              "        const charts = await google.colab.kernel.invokeFunction(\n",
              "            'suggestCharts', [key], {});\n",
              "      } catch (error) {\n",
              "        console.error('Error during call to suggestCharts:', error);\n",
              "      }\n",
              "      quickchartButtonEl.classList.remove('colab-df-spinner');\n",
              "      quickchartButtonEl.classList.add('colab-df-quickchart-complete');\n",
              "    }\n",
              "    (() => {\n",
              "      let quickchartButtonEl =\n",
              "        document.querySelector('#df-93556e8b-8768-4089-b57c-428ba249f467 button');\n",
              "      quickchartButtonEl.style.display =\n",
              "        google.colab.kernel.accessAllowed ? 'block' : 'none';\n",
              "    })();\n",
              "  </script>\n",
              "</div>\n",
              "\n",
              "    </div>\n",
              "  </div>\n"
            ],
            "application/vnd.google.colaboratory.intrinsic+json": {
              "type": "dataframe",
              "variable_name": "df",
              "summary": "{\n  \"name\": \"df\",\n  \"rows\": 17377,\n  \"fields\": [\n    {\n      \"column\": \"Protein\",\n      \"properties\": {\n        \"dtype\": \"string\",\n        \"num_unique_values\": 17377,\n        \"samples\": [\n          \"A8MVA2\",\n          \"P17038\",\n          \"Q9UBX5\"\n        ],\n        \"semantic_type\": \"\",\n        \"description\": \"\"\n      }\n    },\n    {\n      \"column\": \"Probability_Partition_1\",\n      \"properties\": {\n        \"dtype\": \"float32\",\n        \"num_unique_values\": 17312,\n        \"samples\": [\n          0.4544254243373871,\n          0.6917364597320557,\n          0.0050359866581857204\n        ],\n        \"semantic_type\": \"\",\n        \"description\": \"\"\n      }\n    },\n    {\n      \"column\": \"Probability_Partition_2\",\n      \"properties\": {\n        \"dtype\": \"float32\",\n        \"num_unique_values\": 17309,\n        \"samples\": [\n          0.17398445308208466,\n          0.38442328572273254,\n          0.869357705116272\n        ],\n        \"semantic_type\": \"\",\n        \"description\": \"\"\n      }\n    },\n    {\n      \"column\": \"Probability_Partition_3\",\n      \"properties\": {\n        \"dtype\": \"float32\",\n        \"num_unique_values\": 17308,\n        \"samples\": [\n          0.018974658101797104,\n          0.23800911009311676,\n          0.5461817383766174\n        ],\n        \"semantic_type\": \"\",\n        \"description\": \"\"\n      }\n    },\n    {\n      \"column\": \"Probability_Partition_4\",\n      \"properties\": {\n        \"dtype\": \"float32\",\n        \"num_unique_values\": 17309,\n        \"samples\": [\n          0.003541911020874977,\n          0.9400933384895325,\n          0.4834264814853668\n        ],\n        \"semantic_type\": \"\",\n        \"description\": \"\"\n      }\n    },\n    {\n      \"column\": \"Probability_Partition_5\",\n      \"properties\": {\n        \"dtype\": \"float32\",\n        \"num_unique_values\": 17311,\n        \"samples\": [\n          0.005163670517504215,\n          0.862381100654602,\n          0.41079720854759216\n        ],\n        \"semantic_type\": \"\",\n        \"description\": \"\"\n      }\n    },\n    {\n      \"column\": \"Probability_Partition_6\",\n      \"properties\": {\n        \"dtype\": \"float32\",\n        \"num_unique_values\": 17128,\n        \"samples\": [\n          0.9999117851257324,\n          0.44947683811187744,\n          0.697309672832489\n        ],\n        \"semantic_type\": \"\",\n        \"description\": \"\"\n      }\n    },\n    {\n      \"column\": \"Probability_Partition_7\",\n      \"properties\": {\n        \"dtype\": \"float32\",\n        \"num_unique_values\": 16235,\n        \"samples\": [\n          0.003241900820285082,\n          0.993452787399292,\n          0.9961185455322266\n        ],\n        \"semantic_type\": \"\",\n        \"description\": \"\"\n      }\n    },\n    {\n      \"column\": \"Mean_Probability\",\n      \"properties\": {\n        \"dtype\": \"float32\",\n        \"num_unique_values\": 17328,\n        \"samples\": [\n          0.45217275619506836,\n          0.13632109761238098,\n          0.18516919016838074\n        ],\n        \"semantic_type\": \"\",\n        \"description\": \"\"\n      }\n    },\n    {\n      \"column\": \"Majority_Prediction\",\n      \"properties\": {\n        \"dtype\": \"number\",\n        \"std\": 0.4670721083025436,\n        \"min\": 0.0,\n        \"max\": 1.0,\n        \"num_unique_values\": 2,\n        \"samples\": [\n          0.0,\n          1.0\n        ],\n        \"semantic_type\": \"\",\n        \"description\": \"\"\n      }\n    }\n  ]\n}"
            }
          },
          "metadata": {},
          "execution_count": 37
        }
      ]
    },
    {
      "cell_type": "code",
      "source": [
        "1 - (sum(predictions_all)/len(predictions_all))"
      ],
      "metadata": {
        "colab": {
          "base_uri": "https://localhost:8080/"
        },
        "id": "m8eNJzamQBZA",
        "outputId": "698f1149-3021-452a-c920-cac7b6088624"
      },
      "execution_count": null,
      "outputs": [
        {
          "output_type": "execute_result",
          "data": {
            "text/plain": [
              "0.6784830523105254"
            ]
          },
          "metadata": {},
          "execution_count": 38
        }
      ]
    },
    {
      "cell_type": "code",
      "source": [
        "df.to_csv(\"/content/drive/MyDrive/protein_props/NEW_WORK/XGB_DI_non_druggable.csv\")"
      ],
      "metadata": {
        "id": "Gr0cHOZxOFdA"
      },
      "execution_count": null,
      "outputs": []
    },
    {
      "cell_type": "markdown",
      "source": [
        "### Druggability Index for Druggable Train Set"
      ],
      "metadata": {
        "id": "gQmpgEncPlOn"
      }
    },
    {
      "cell_type": "code",
      "source": [
        "protein_names = X_druggable.index\n",
        "predictions, probabilities = [], []\n",
        "for model in xgb_models:\n",
        "  predictions.append(model.predict(np.array(X_druggable)))\n",
        "  probabilities.append(model.predict_proba(np.array(X_druggable))[:,1])\n",
        "predictions, probabilities = np.array(predictions), np.array(probabilities)\n",
        "predictions = np.mean(predictions, axis=0)\n",
        "predictions = np.round(predictions)\n",
        "print(predictions.shape, probabilities.shape)\n",
        "mean_probabilities = np.mean(probabilities, axis=0)\n",
        "mean_probabilities.shape"
      ],
      "metadata": {
        "colab": {
          "base_uri": "https://localhost:8080/"
        },
        "id": "VCGAz0FzPkpQ",
        "outputId": "70c59c3e-a40b-4102-9efb-d24313b85a12"
      },
      "execution_count": null,
      "outputs": [
        {
          "output_type": "stream",
          "name": "stdout",
          "text": [
            "(2219,) (8, 2219)\n"
          ]
        },
        {
          "output_type": "execute_result",
          "data": {
            "text/plain": [
              "(2219,)"
            ]
          },
          "metadata": {},
          "execution_count": 40
        }
      ]
    },
    {
      "cell_type": "code",
      "source": [
        "data = {\n",
        "    \"Protein\": protein_names\n",
        "}\n",
        "for i,probs in enumerate(probabilities):\n",
        "  data[f\"Probability_Partition_{i+1}\"] = probs\n",
        "data[\"Mean_Probability\"] = mean_probabilities\n",
        "data[\"Majority_Prediction\"] = predictions\n",
        "\n",
        "df = pd.DataFrame(data)\n",
        "df.set_index(\"Protein\", inplace=True)\n",
        "df.head()"
      ],
      "metadata": {
        "colab": {
          "base_uri": "https://localhost:8080/",
          "height": 257
        },
        "id": "njL3a4WsQp0I",
        "outputId": "e2914ff9-1a5b-4067-9c7a-b1ce794280ef"
      },
      "execution_count": null,
      "outputs": [
        {
          "output_type": "execute_result",
          "data": {
            "text/plain": [
              "         Probability_Partition_1  Probability_Partition_2  \\\n",
              "Protein                                                     \n",
              "A5X5Y0                  0.979762                 0.996044   \n",
              "O00141                  0.990602                 0.992262   \n",
              "O00142                  0.974878                 0.935909   \n",
              "O00180                  0.958260                 0.971161   \n",
              "O00204                  0.920760                 0.870546   \n",
              "\n",
              "         Probability_Partition_3  Probability_Partition_4  \\\n",
              "Protein                                                     \n",
              "A5X5Y0                  0.970380                 0.984403   \n",
              "O00141                  0.999510                 0.999903   \n",
              "O00142                  0.954329                 0.926680   \n",
              "O00180                  0.977702                 0.942896   \n",
              "O00204                  0.939341                 0.943727   \n",
              "\n",
              "         Probability_Partition_5  Probability_Partition_6  \\\n",
              "Protein                                                     \n",
              "A5X5Y0                  0.968371                 0.986189   \n",
              "O00141                  0.998989                 0.999877   \n",
              "O00142                  0.937883                 0.899439   \n",
              "O00180                  0.976066                 0.997179   \n",
              "O00204                  0.930250                 0.908852   \n",
              "\n",
              "         Probability_Partition_7  Probability_Partition_8  Mean_Probability  \\\n",
              "Protein                                                                       \n",
              "A5X5Y0                  0.996193                 0.999945          0.985161   \n",
              "O00141                  0.999997                 0.999999          0.997642   \n",
              "O00142                  0.936555                 0.988121          0.944224   \n",
              "O00180                  0.999386                 0.999992          0.977830   \n",
              "O00204                  0.998772                 0.999966          0.939027   \n",
              "\n",
              "         Majority_Prediction  \n",
              "Protein                       \n",
              "A5X5Y0                   1.0  \n",
              "O00141                   1.0  \n",
              "O00142                   1.0  \n",
              "O00180                   1.0  \n",
              "O00204                   1.0  "
            ],
            "text/html": [
              "\n",
              "  <div id=\"df-49165359-4fa7-4673-8716-1af7bd8fbd97\" class=\"colab-df-container\">\n",
              "    <div>\n",
              "<style scoped>\n",
              "    .dataframe tbody tr th:only-of-type {\n",
              "        vertical-align: middle;\n",
              "    }\n",
              "\n",
              "    .dataframe tbody tr th {\n",
              "        vertical-align: top;\n",
              "    }\n",
              "\n",
              "    .dataframe thead th {\n",
              "        text-align: right;\n",
              "    }\n",
              "</style>\n",
              "<table border=\"1\" class=\"dataframe\">\n",
              "  <thead>\n",
              "    <tr style=\"text-align: right;\">\n",
              "      <th></th>\n",
              "      <th>Probability_Partition_1</th>\n",
              "      <th>Probability_Partition_2</th>\n",
              "      <th>Probability_Partition_3</th>\n",
              "      <th>Probability_Partition_4</th>\n",
              "      <th>Probability_Partition_5</th>\n",
              "      <th>Probability_Partition_6</th>\n",
              "      <th>Probability_Partition_7</th>\n",
              "      <th>Probability_Partition_8</th>\n",
              "      <th>Mean_Probability</th>\n",
              "      <th>Majority_Prediction</th>\n",
              "    </tr>\n",
              "    <tr>\n",
              "      <th>Protein</th>\n",
              "      <th></th>\n",
              "      <th></th>\n",
              "      <th></th>\n",
              "      <th></th>\n",
              "      <th></th>\n",
              "      <th></th>\n",
              "      <th></th>\n",
              "      <th></th>\n",
              "      <th></th>\n",
              "      <th></th>\n",
              "    </tr>\n",
              "  </thead>\n",
              "  <tbody>\n",
              "    <tr>\n",
              "      <th>A5X5Y0</th>\n",
              "      <td>0.979762</td>\n",
              "      <td>0.996044</td>\n",
              "      <td>0.970380</td>\n",
              "      <td>0.984403</td>\n",
              "      <td>0.968371</td>\n",
              "      <td>0.986189</td>\n",
              "      <td>0.996193</td>\n",
              "      <td>0.999945</td>\n",
              "      <td>0.985161</td>\n",
              "      <td>1.0</td>\n",
              "    </tr>\n",
              "    <tr>\n",
              "      <th>O00141</th>\n",
              "      <td>0.990602</td>\n",
              "      <td>0.992262</td>\n",
              "      <td>0.999510</td>\n",
              "      <td>0.999903</td>\n",
              "      <td>0.998989</td>\n",
              "      <td>0.999877</td>\n",
              "      <td>0.999997</td>\n",
              "      <td>0.999999</td>\n",
              "      <td>0.997642</td>\n",
              "      <td>1.0</td>\n",
              "    </tr>\n",
              "    <tr>\n",
              "      <th>O00142</th>\n",
              "      <td>0.974878</td>\n",
              "      <td>0.935909</td>\n",
              "      <td>0.954329</td>\n",
              "      <td>0.926680</td>\n",
              "      <td>0.937883</td>\n",
              "      <td>0.899439</td>\n",
              "      <td>0.936555</td>\n",
              "      <td>0.988121</td>\n",
              "      <td>0.944224</td>\n",
              "      <td>1.0</td>\n",
              "    </tr>\n",
              "    <tr>\n",
              "      <th>O00180</th>\n",
              "      <td>0.958260</td>\n",
              "      <td>0.971161</td>\n",
              "      <td>0.977702</td>\n",
              "      <td>0.942896</td>\n",
              "      <td>0.976066</td>\n",
              "      <td>0.997179</td>\n",
              "      <td>0.999386</td>\n",
              "      <td>0.999992</td>\n",
              "      <td>0.977830</td>\n",
              "      <td>1.0</td>\n",
              "    </tr>\n",
              "    <tr>\n",
              "      <th>O00204</th>\n",
              "      <td>0.920760</td>\n",
              "      <td>0.870546</td>\n",
              "      <td>0.939341</td>\n",
              "      <td>0.943727</td>\n",
              "      <td>0.930250</td>\n",
              "      <td>0.908852</td>\n",
              "      <td>0.998772</td>\n",
              "      <td>0.999966</td>\n",
              "      <td>0.939027</td>\n",
              "      <td>1.0</td>\n",
              "    </tr>\n",
              "  </tbody>\n",
              "</table>\n",
              "</div>\n",
              "    <div class=\"colab-df-buttons\">\n",
              "\n",
              "  <div class=\"colab-df-container\">\n",
              "    <button class=\"colab-df-convert\" onclick=\"convertToInteractive('df-49165359-4fa7-4673-8716-1af7bd8fbd97')\"\n",
              "            title=\"Convert this dataframe to an interactive table.\"\n",
              "            style=\"display:none;\">\n",
              "\n",
              "  <svg xmlns=\"http://www.w3.org/2000/svg\" height=\"24px\" viewBox=\"0 -960 960 960\">\n",
              "    <path d=\"M120-120v-720h720v720H120Zm60-500h600v-160H180v160Zm220 220h160v-160H400v160Zm0 220h160v-160H400v160ZM180-400h160v-160H180v160Zm440 0h160v-160H620v160ZM180-180h160v-160H180v160Zm440 0h160v-160H620v160Z\"/>\n",
              "  </svg>\n",
              "    </button>\n",
              "\n",
              "  <style>\n",
              "    .colab-df-container {\n",
              "      display:flex;\n",
              "      gap: 12px;\n",
              "    }\n",
              "\n",
              "    .colab-df-convert {\n",
              "      background-color: #E8F0FE;\n",
              "      border: none;\n",
              "      border-radius: 50%;\n",
              "      cursor: pointer;\n",
              "      display: none;\n",
              "      fill: #1967D2;\n",
              "      height: 32px;\n",
              "      padding: 0 0 0 0;\n",
              "      width: 32px;\n",
              "    }\n",
              "\n",
              "    .colab-df-convert:hover {\n",
              "      background-color: #E2EBFA;\n",
              "      box-shadow: 0px 1px 2px rgba(60, 64, 67, 0.3), 0px 1px 3px 1px rgba(60, 64, 67, 0.15);\n",
              "      fill: #174EA6;\n",
              "    }\n",
              "\n",
              "    .colab-df-buttons div {\n",
              "      margin-bottom: 4px;\n",
              "    }\n",
              "\n",
              "    [theme=dark] .colab-df-convert {\n",
              "      background-color: #3B4455;\n",
              "      fill: #D2E3FC;\n",
              "    }\n",
              "\n",
              "    [theme=dark] .colab-df-convert:hover {\n",
              "      background-color: #434B5C;\n",
              "      box-shadow: 0px 1px 3px 1px rgba(0, 0, 0, 0.15);\n",
              "      filter: drop-shadow(0px 1px 2px rgba(0, 0, 0, 0.3));\n",
              "      fill: #FFFFFF;\n",
              "    }\n",
              "  </style>\n",
              "\n",
              "    <script>\n",
              "      const buttonEl =\n",
              "        document.querySelector('#df-49165359-4fa7-4673-8716-1af7bd8fbd97 button.colab-df-convert');\n",
              "      buttonEl.style.display =\n",
              "        google.colab.kernel.accessAllowed ? 'block' : 'none';\n",
              "\n",
              "      async function convertToInteractive(key) {\n",
              "        const element = document.querySelector('#df-49165359-4fa7-4673-8716-1af7bd8fbd97');\n",
              "        const dataTable =\n",
              "          await google.colab.kernel.invokeFunction('convertToInteractive',\n",
              "                                                    [key], {});\n",
              "        if (!dataTable) return;\n",
              "\n",
              "        const docLinkHtml = 'Like what you see? Visit the ' +\n",
              "          '<a target=\"_blank\" href=https://colab.research.google.com/notebooks/data_table.ipynb>data table notebook</a>'\n",
              "          + ' to learn more about interactive tables.';\n",
              "        element.innerHTML = '';\n",
              "        dataTable['output_type'] = 'display_data';\n",
              "        await google.colab.output.renderOutput(dataTable, element);\n",
              "        const docLink = document.createElement('div');\n",
              "        docLink.innerHTML = docLinkHtml;\n",
              "        element.appendChild(docLink);\n",
              "      }\n",
              "    </script>\n",
              "  </div>\n",
              "\n",
              "\n",
              "<div id=\"df-7a24d69f-9380-47d2-8248-fb589049c7e5\">\n",
              "  <button class=\"colab-df-quickchart\" onclick=\"quickchart('df-7a24d69f-9380-47d2-8248-fb589049c7e5')\"\n",
              "            title=\"Suggest charts\"\n",
              "            style=\"display:none;\">\n",
              "\n",
              "<svg xmlns=\"http://www.w3.org/2000/svg\" height=\"24px\"viewBox=\"0 0 24 24\"\n",
              "     width=\"24px\">\n",
              "    <g>\n",
              "        <path d=\"M19 3H5c-1.1 0-2 .9-2 2v14c0 1.1.9 2 2 2h14c1.1 0 2-.9 2-2V5c0-1.1-.9-2-2-2zM9 17H7v-7h2v7zm4 0h-2V7h2v10zm4 0h-2v-4h2v4z\"/>\n",
              "    </g>\n",
              "</svg>\n",
              "  </button>\n",
              "\n",
              "<style>\n",
              "  .colab-df-quickchart {\n",
              "      --bg-color: #E8F0FE;\n",
              "      --fill-color: #1967D2;\n",
              "      --hover-bg-color: #E2EBFA;\n",
              "      --hover-fill-color: #174EA6;\n",
              "      --disabled-fill-color: #AAA;\n",
              "      --disabled-bg-color: #DDD;\n",
              "  }\n",
              "\n",
              "  [theme=dark] .colab-df-quickchart {\n",
              "      --bg-color: #3B4455;\n",
              "      --fill-color: #D2E3FC;\n",
              "      --hover-bg-color: #434B5C;\n",
              "      --hover-fill-color: #FFFFFF;\n",
              "      --disabled-bg-color: #3B4455;\n",
              "      --disabled-fill-color: #666;\n",
              "  }\n",
              "\n",
              "  .colab-df-quickchart {\n",
              "    background-color: var(--bg-color);\n",
              "    border: none;\n",
              "    border-radius: 50%;\n",
              "    cursor: pointer;\n",
              "    display: none;\n",
              "    fill: var(--fill-color);\n",
              "    height: 32px;\n",
              "    padding: 0;\n",
              "    width: 32px;\n",
              "  }\n",
              "\n",
              "  .colab-df-quickchart:hover {\n",
              "    background-color: var(--hover-bg-color);\n",
              "    box-shadow: 0 1px 2px rgba(60, 64, 67, 0.3), 0 1px 3px 1px rgba(60, 64, 67, 0.15);\n",
              "    fill: var(--button-hover-fill-color);\n",
              "  }\n",
              "\n",
              "  .colab-df-quickchart-complete:disabled,\n",
              "  .colab-df-quickchart-complete:disabled:hover {\n",
              "    background-color: var(--disabled-bg-color);\n",
              "    fill: var(--disabled-fill-color);\n",
              "    box-shadow: none;\n",
              "  }\n",
              "\n",
              "  .colab-df-spinner {\n",
              "    border: 2px solid var(--fill-color);\n",
              "    border-color: transparent;\n",
              "    border-bottom-color: var(--fill-color);\n",
              "    animation:\n",
              "      spin 1s steps(1) infinite;\n",
              "  }\n",
              "\n",
              "  @keyframes spin {\n",
              "    0% {\n",
              "      border-color: transparent;\n",
              "      border-bottom-color: var(--fill-color);\n",
              "      border-left-color: var(--fill-color);\n",
              "    }\n",
              "    20% {\n",
              "      border-color: transparent;\n",
              "      border-left-color: var(--fill-color);\n",
              "      border-top-color: var(--fill-color);\n",
              "    }\n",
              "    30% {\n",
              "      border-color: transparent;\n",
              "      border-left-color: var(--fill-color);\n",
              "      border-top-color: var(--fill-color);\n",
              "      border-right-color: var(--fill-color);\n",
              "    }\n",
              "    40% {\n",
              "      border-color: transparent;\n",
              "      border-right-color: var(--fill-color);\n",
              "      border-top-color: var(--fill-color);\n",
              "    }\n",
              "    60% {\n",
              "      border-color: transparent;\n",
              "      border-right-color: var(--fill-color);\n",
              "    }\n",
              "    80% {\n",
              "      border-color: transparent;\n",
              "      border-right-color: var(--fill-color);\n",
              "      border-bottom-color: var(--fill-color);\n",
              "    }\n",
              "    90% {\n",
              "      border-color: transparent;\n",
              "      border-bottom-color: var(--fill-color);\n",
              "    }\n",
              "  }\n",
              "</style>\n",
              "\n",
              "  <script>\n",
              "    async function quickchart(key) {\n",
              "      const quickchartButtonEl =\n",
              "        document.querySelector('#' + key + ' button');\n",
              "      quickchartButtonEl.disabled = true;  // To prevent multiple clicks.\n",
              "      quickchartButtonEl.classList.add('colab-df-spinner');\n",
              "      try {\n",
              "        const charts = await google.colab.kernel.invokeFunction(\n",
              "            'suggestCharts', [key], {});\n",
              "      } catch (error) {\n",
              "        console.error('Error during call to suggestCharts:', error);\n",
              "      }\n",
              "      quickchartButtonEl.classList.remove('colab-df-spinner');\n",
              "      quickchartButtonEl.classList.add('colab-df-quickchart-complete');\n",
              "    }\n",
              "    (() => {\n",
              "      let quickchartButtonEl =\n",
              "        document.querySelector('#df-7a24d69f-9380-47d2-8248-fb589049c7e5 button');\n",
              "      quickchartButtonEl.style.display =\n",
              "        google.colab.kernel.accessAllowed ? 'block' : 'none';\n",
              "    })();\n",
              "  </script>\n",
              "</div>\n",
              "\n",
              "    </div>\n",
              "  </div>\n"
            ],
            "application/vnd.google.colaboratory.intrinsic+json": {
              "type": "dataframe",
              "variable_name": "df",
              "summary": "{\n  \"name\": \"df\",\n  \"rows\": 2219,\n  \"fields\": [\n    {\n      \"column\": \"Protein\",\n      \"properties\": {\n        \"dtype\": \"string\",\n        \"num_unique_values\": 2219,\n        \"samples\": [\n          \"Q08289\",\n          \"P07360\",\n          \"O43674\"\n        ],\n        \"semantic_type\": \"\",\n        \"description\": \"\"\n      }\n    },\n    {\n      \"column\": \"Probability_Partition_1\",\n      \"properties\": {\n        \"dtype\": \"float32\",\n        \"num_unique_values\": 2213,\n        \"samples\": [\n          0.9452017545700073,\n          0.9162939786911011,\n          0.9754362106323242\n        ],\n        \"semantic_type\": \"\",\n        \"description\": \"\"\n      }\n    },\n    {\n      \"column\": \"Probability_Partition_2\",\n      \"properties\": {\n        \"dtype\": \"float32\",\n        \"num_unique_values\": 2218,\n        \"samples\": [\n          0.9052753448486328,\n          0.9624902606010437,\n          0.9917158484458923\n        ],\n        \"semantic_type\": \"\",\n        \"description\": \"\"\n      }\n    },\n    {\n      \"column\": \"Probability_Partition_3\",\n      \"properties\": {\n        \"dtype\": \"float32\",\n        \"num_unique_values\": 2212,\n        \"samples\": [\n          0.9789448976516724,\n          0.9825549125671387,\n          0.9974492192268372\n        ],\n        \"semantic_type\": \"\",\n        \"description\": \"\"\n      }\n    },\n    {\n      \"column\": \"Probability_Partition_4\",\n      \"properties\": {\n        \"dtype\": \"float32\",\n        \"num_unique_values\": 2216,\n        \"samples\": [\n          0.9868944883346558,\n          0.9568493962287903,\n          0.9924250841140747\n        ],\n        \"semantic_type\": \"\",\n        \"description\": \"\"\n      }\n    },\n    {\n      \"column\": \"Probability_Partition_5\",\n      \"properties\": {\n        \"dtype\": \"float32\",\n        \"num_unique_values\": 2209,\n        \"samples\": [\n          0.9832690954208374,\n          0.9876232147216797,\n          0.9994025230407715\n        ],\n        \"semantic_type\": \"\",\n        \"description\": \"\"\n      }\n    },\n    {\n      \"column\": \"Probability_Partition_6\",\n      \"properties\": {\n        \"dtype\": \"float32\",\n        \"num_unique_values\": 2209,\n        \"samples\": [\n          0.9819079041481018,\n          0.916827917098999,\n          0.9898595213890076\n        ],\n        \"semantic_type\": \"\",\n        \"description\": \"\"\n      }\n    },\n    {\n      \"column\": \"Probability_Partition_7\",\n      \"properties\": {\n        \"dtype\": \"float32\",\n        \"num_unique_values\": 2063,\n        \"samples\": [\n          0.9978420734405518,\n          0.9913323521614075,\n          0.9662833213806152\n        ],\n        \"semantic_type\": \"\",\n        \"description\": \"\"\n      }\n    },\n    {\n      \"column\": \"Probability_Partition_8\",\n      \"properties\": {\n        \"dtype\": \"float32\",\n        \"num_unique_values\": 1802,\n        \"samples\": [\n          0.982636570930481,\n          0.9889763593673706,\n          0.997837483882904\n        ],\n        \"semantic_type\": \"\",\n        \"description\": \"\"\n      }\n    },\n    {\n      \"column\": \"Mean_Probability\",\n      \"properties\": {\n        \"dtype\": \"float32\",\n        \"num_unique_values\": 2216,\n        \"samples\": [\n          0.9913517832756042,\n          0.9642115831375122,\n          0.995894193649292\n        ],\n        \"semantic_type\": \"\",\n        \"description\": \"\"\n      }\n    },\n    {\n      \"column\": \"Majority_Prediction\",\n      \"properties\": {\n        \"dtype\": \"number\",\n        \"std\": 0.0,\n        \"min\": 1.0,\n        \"max\": 1.0,\n        \"num_unique_values\": 1,\n        \"samples\": [\n          1.0\n        ],\n        \"semantic_type\": \"\",\n        \"description\": \"\"\n      }\n    }\n  ]\n}"
            }
          },
          "metadata": {},
          "execution_count": 41
        }
      ]
    },
    {
      "cell_type": "code",
      "source": [
        "df.to_csv(\"/content/drive/MyDrive/protein_props/NEW_WORK/XGB_DI_druggable.csv\")"
      ],
      "metadata": {
        "id": "xYePl12_xf29"
      },
      "execution_count": null,
      "outputs": []
    },
    {
      "cell_type": "code",
      "source": [],
      "metadata": {
        "id": "mL7uDa0HxnXA"
      },
      "execution_count": null,
      "outputs": []
    }
  ]
}