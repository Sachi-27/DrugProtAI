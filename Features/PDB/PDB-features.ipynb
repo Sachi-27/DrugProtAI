{
 "cells": [
  {
   "cell_type": "code",
   "execution_count": 1,
   "metadata": {},
   "outputs": [
    {
     "name": "stdout",
     "output_type": "stream",
     "text": [
      "Total Human proteins from Uniprot that are Swissprot Verified: 20434\n"
     ]
    }
   ],
   "source": [
    "import json\n",
    "\n",
    "with open('entire_pdb_info.json') as f:\n",
    "    pdb_info = json.load(f)\n",
    "    proteins = list(pdb_info.keys())\n",
    "\n",
    "print(\"Total Human proteins from Uniprot that are Swissprot Verified:\",  len(proteins))"
   ]
  },
  {
   "cell_type": "code",
   "execution_count": 3,
   "metadata": {},
   "outputs": [
    {
     "name": "stdout",
     "output_type": "stream",
     "text": [
      "Total Human proteins from Uniprot: 20434\n"
     ]
    }
   ],
   "source": [
    "with open(\"../PCFs/files_for_ml/protein_props.json\") as f:\n",
    "    uniprot_data = json.load(f)\n",
    "\n",
    "print(\"Total Human proteins from Uniprot:\", len(uniprot_data))"
   ]
  },
  {
   "cell_type": "code",
   "execution_count": 6,
   "metadata": {},
   "outputs": [
    {
     "name": "stdout",
     "output_type": "stream",
     "text": [
      "MLPGLALLLLAAWTARALEVPTDGNAGLLAEPQIAMFCGRLNMHMNVQNGKWDSDPSGTKTCIDTKEGILQYCQEVYPELQITNVVEANQPVTIQNWCKRGRKQCKTHPHFVIPYRCLVGEFVSDALLVPDKCKFLHQERMDVCETHLHWHTVAKETCSEKSTNLHDYGMLLPCGIDKFRGVEFVCCPLAEESDNVDSADAEEDDSDVWWGGADTDYADGSEDKVVEVAEEEEVAEVEEEEADDDEDDEDGDEVEEEAEEPYEEATERTTSIATTTTTTTESVEEVVREVCSEQAETGPCRAMISRWYFDVTEGKCAPFFYGGCGGNRNNFDTEEYCMAVCGSAMSQSLLKTTQEPLARDPVKLPTTAASTPDAVDKYLETPGDENEHAHFQKAKERLEAKHRERMSQVMREWEEAERQAKNLPKADKKAVIQHFQEKVESLEQEAANERQQLVETHMARVEAMLNDRRRLALENYITALQAVPPRPRHVFNMLKKYVRAEQKDRQHTLKHFEHVRMVDPKKAAQIRSQVMTHLRVIYERMNQSLSLLYNVPAVAEEIQDEVDELLQKEQNYSDDVLANMISEPRISYGNDALMPSLTETKTTVELLPVNGEFSLDDLQPWHSFGADSVPANTENEVEPVDARPAADRGLTTRPGSGLTNIKTEEISEVKMDAEFRHDSGYEVHHQKLVFFAEDVGSNKGAIIGLMVGGVVIATVIVITLVMLKKKQYTSIHHGVVEVDAAVTPEERHLSKMQQNGYENPTYKFFEQMQN\n",
      "770\n"
     ]
    }
   ],
   "source": [
    "print(uniprot_data[\"P05067\"][\"Sequence\"])\n",
    "print(uniprot_data[\"P05067\"][\"Sequence Length\"])"
   ]
  },
  {
   "cell_type": "code",
   "execution_count": 19,
   "metadata": {},
   "outputs": [],
   "source": [
    "def generate_pdb_sequence(uniprot_id):\n",
    "    info = pdb_info[uniprot_id]\n",
    "    seqlen = uniprot_data[uniprot_id][\"Sequence Length\"]\n",
    "    seq = uniprot_data[uniprot_id][\"Sequence\"]\n",
    "    pdb_seq = \"N\"*seqlen\n",
    "    for component in info:\n",
    "        start = component[\"location\"][\"start\"][\"value\"] # 1-indexed\n",
    "        end = component[\"location\"][\"end\"][\"value\"]\n",
    "        comp_type = component[\"type\"]\n",
    "        if comp_type == \"Helix\":\n",
    "            pdb_seq = pdb_seq[:start-1] + \"H\"*(end-start+1) + pdb_seq[end:]\n",
    "        elif comp_type == \"Beta strand\":\n",
    "            pdb_seq = pdb_seq[:start-1] + \"E\"*(end-start+1) + pdb_seq[end:]\n",
    "        elif comp_type == \"Turn\":\n",
    "            pdb_seq = pdb_seq[:start-1] + \"T\"*(end-start+1) + pdb_seq[end:]\n",
    "        else:\n",
    "            print(\"Unknown component type:\", comp_type)\n",
    "    return seq, pdb_seq\n"
   ]
  },
  {
   "cell_type": "code",
   "execution_count": 20,
   "metadata": {},
   "outputs": [
    {
     "data": {
      "text/plain": [
       "(770,\n",
       " 770,\n",
       " 'MLPGLALLLLAAWTARALEVPTDGNAGLLAEPQIAMFCGRLNMHMNVQNGKWDSDPSGTKTCIDTKEGILQYCQEVYPELQITNVVEANQPVTIQNWCKRGRKQCKTHPHFVIPYRCLVGEFVSDALLVPDKCKFLHQERMDVCETHLHWHTVAKETCSEKSTNLHDYGMLLPCGIDKFRGVEFVCCPLAEESDNVDSADAEEDDSDVWWGGADTDYADGSEDKVVEVAEEEEVAEVEEEEADDDEDDEDGDEVEEEAEEPYEEATERTTSIATTTTTTTESVEEVVREVCSEQAETGPCRAMISRWYFDVTEGKCAPFFYGGCGGNRNNFDTEEYCMAVCGSAMSQSLLKTTQEPLARDPVKLPTTAASTPDAVDKYLETPGDENEHAHFQKAKERLEAKHRERMSQVMREWEEAERQAKNLPKADKKAVIQHFQEKVESLEQEAANERQQLVETHMARVEAMLNDRRRLALENYITALQAVPPRPRHVFNMLKKYVRAEQKDRQHTLKHFEHVRMVDPKKAAQIRSQVMTHLRVIYERMNQSLSLLYNVPAVAEEIQDEVDELLQKEQNYSDDVLANMISEPRISYGNDALMPSLTETKTTVELLPVNGEFSLDDLQPWHSFGADSVPANTENEVEPVDARPAADRGLTTRPGSGLTNIKTEEISEVKMDAEFRHDSGYEVHHQKLVFFAEDVGSNKGAIIGLMVGGVVIATVIVITLVMLKKKQYTSIHHGVVEVDAAVTPEERHLSKMQQNGYENPTYKFFEQMQN',\n",
       " 'NNNNNNNNNNNNNNNNNNNNNNNNNHHHNNNNEEENNNNNNNEEENTTTNNEEENEEENNNNNNNHHHHHHHHHHHNNNNNEEEEEENNNNEEENNEEETTTEEEENNNEEENNEEEEENNNNNNNNNNNNNNEEEEEENNNNNNNHHHHHHHHHHHHHHNNEEEEEEEEEEEETTTEEEEEEEEEEENNNNNNNNNNNNNNNNNNNNNNNNNNNNNNNNNNNNNNNNNNNNNNNNNNNNNNNNNNNNNNNNNNNNNNNNNNNNNNNNNNNNNNNNNNNNNNNNNNNHHHHHNNNNNNEEENNEEEEEEETTTTEEEEEEENEEENNNNNEEEHHHHHHHHNNNNNNNNNNNNNNNNNNNNNNNNNNNNNNNNHHHHHHHNNNNNNNNHHHHHHHHHHHHHHHHHHHHHHHHHHHHHHNNEEENHHHHHHHHHHHHHHHHHHHHHHHHHHHHHHHHHHHHHHHHHHHHHHHHHHHHHHHHNEEENNHHHHHHHHHHHHHHHHHHHHHHHHHHHHHHHHNHHHHHHHHHHHHHHHHHHHHHHHHHHHHHHHNHHHHHHHHHHHHHHHNNNNNNNNNNNNNNNNNNNNNNNNNNNNNNNNNNNNNNNNNNNNNNNNHHHHNEEENNNNNNNNNNNNNNNNNNNNNNNNNNNNNNNNNNNNNNNNNNNNNNNNNNHHHNTTTNNEEENNNEEEEEEETTTTNNEEENNNEEEEEEHHHNNNNNEEEEENNNNNNNNNNNNNNNNNNHHHHHHHHHHHNEEENNNNEEENNNNN')"
      ]
     },
     "execution_count": 20,
     "metadata": {},
     "output_type": "execute_result"
    }
   ],
   "source": [
    "seq, pdb_seq = generate_pdb_sequence(\"P05067\")\n",
    "len(seq), len(pdb_seq), seq, pdb_seq"
   ]
  },
  {
   "cell_type": "code",
   "execution_count": 33,
   "metadata": {},
   "outputs": [],
   "source": [
    "pdb_sequences = {}\n",
    "for protein in proteins:\n",
    "    seq, pdb_seq = generate_pdb_sequence(protein)\n",
    "    pdb_sequences[protein] = {\"seq\": seq, \"pdb_seq\": pdb_seq}\n",
    "\n",
    "with open(\"files_for_ml/pdb_sequences.json\", \"w\") as f:\n",
    "    json.dump(pdb_sequences, f, indent=4)"
   ]
  }
 ],
 "metadata": {
  "kernelspec": {
   "display_name": "Python 3",
   "language": "python",
   "name": "python3"
  },
  "language_info": {
   "codemirror_mode": {
    "name": "ipython",
    "version": 3
   },
   "file_extension": ".py",
   "mimetype": "text/x-python",
   "name": "python",
   "nbconvert_exporter": "python",
   "pygments_lexer": "ipython3",
   "version": "3.10.12"
  }
 },
 "nbformat": 4,
 "nbformat_minor": 2
}
