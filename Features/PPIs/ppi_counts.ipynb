{
 "cells": [
  {
   "cell_type": "code",
   "execution_count": 1,
   "metadata": {},
   "outputs": [],
   "source": [
    "import json \n",
    "import os \n",
    "\n",
    "files = os.listdir('PPI_indiv')"
   ]
  },
  {
   "cell_type": "code",
   "execution_count": 4,
   "metadata": {},
   "outputs": [],
   "source": [
    "ppi = {}"
   ]
  },
  {
   "cell_type": "code",
   "execution_count": 5,
   "metadata": {},
   "outputs": [],
   "source": [
    "for file in files:\n",
    "    uniprot_id = file.split('.')[0]\n",
    "    with open('PPI_indiv/' + file, 'r') as f:\n",
    "        d = json.load(f)\n",
    "    interactions = d[uniprot_id]\n",
    "    binary_count = 0\n",
    "    binary_experimental_count = 0\n",
    "    xeno_count = 0\n",
    "    xeno_experimental_count = 0\n",
    "    for interaction in interactions:\n",
    "        if(interaction['entry1'] == uniprot_id):\n",
    "            if(interaction['interaction_type'] == 'binary'):\n",
    "                binary_count += 1\n",
    "                binary_experimental_count += interaction[\"nb_exp\"]\n",
    "            elif(interaction['interaction_type'] == 'xeno'):\n",
    "                xeno_count += 1\n",
    "                xeno_experimental_count += interaction[\"nb_exp\"]\n",
    "            else:\n",
    "                print('Unknown interaction type:', interaction['interaction_type'])\n",
    "    \n",
    "    ppi[uniprot_id] = {\n",
    "        'binary_count': binary_count,\n",
    "        'binary_experimental_count': binary_experimental_count,\n",
    "        'xeno_count': xeno_count,\n",
    "        'xeno_experimental_count': xeno_experimental_count\n",
    "    }\n"
   ]
  },
  {
   "cell_type": "code",
   "execution_count": 6,
   "metadata": {},
   "outputs": [],
   "source": [
    "with open('files_for_ml/ppi.json', 'w') as f:\n",
    "    json.dump(ppi, f, indent=4)"
   ]
  },
  {
   "cell_type": "code",
   "execution_count": 7,
   "metadata": {},
   "outputs": [
    {
     "name": "stdout",
     "output_type": "stream",
     "text": [
      "Number of proteins with no interactions: 8824\n"
     ]
    }
   ],
   "source": [
    "empty_count = 0\n",
    "for protein_id in ppi:\n",
    "    if ppi[protein_id]['binary_count'] == 0 and ppi[protein_id]['xeno_count'] == 0:\n",
    "        empty_count += 1\n",
    "print('Number of proteins with no interactions:', empty_count)"
   ]
  },
  {
   "cell_type": "code",
   "execution_count": null,
   "metadata": {},
   "outputs": [],
   "source": []
  }
 ],
 "metadata": {
  "kernelspec": {
   "display_name": "Python 3",
   "language": "python",
   "name": "python3"
  },
  "language_info": {
   "codemirror_mode": {
    "name": "ipython",
    "version": 3
   },
   "file_extension": ".py",
   "mimetype": "text/x-python",
   "name": "python",
   "nbconvert_exporter": "python",
   "pygments_lexer": "ipython3",
   "version": "3.10.12"
  }
 },
 "nbformat": 4,
 "nbformat_minor": 2
}
