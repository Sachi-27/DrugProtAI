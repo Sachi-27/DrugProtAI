{
 "cells": [
  {
   "cell_type": "code",
   "execution_count": 1,
   "metadata": {},
   "outputs": [
    {
     "name": "stdout",
     "output_type": "stream",
     "text": [
      "{'Disulfide bond', 'Glycosylation', 'Signal', 'Chain', 'Modified residue', 'Cross-link', 'Peptide'}\n",
      "7\n"
     ]
    }
   ],
   "source": [
    "import os\n",
    "import json\n",
    "\n",
    "# Numberings are 1-indexed\n",
    "\n",
    "types = set()\n",
    "files = os.listdir(\"PTM_indiv\")\n",
    "for file in files:\n",
    "    protein_id = file.split(\".\")[0]\n",
    "    with open(\"PTM_indiv/\" + file, \"r\") as f:\n",
    "        data = json.load(f)\n",
    "        for entity in data[protein_id]:\n",
    "            types.add(entity[\"type\"])\n",
    "\n",
    "print(types)\n",
    "print(len(types))"
   ]
  },
  {
   "cell_type": "code",
   "execution_count": 2,
   "metadata": {},
   "outputs": [],
   "source": [
    "with open(\"../PCFs/files_for_ml/protein_props.json\") as f:\n",
    "    uniprot_human_proteins = json.load(f)"
   ]
  },
  {
   "cell_type": "code",
   "execution_count": 3,
   "metadata": {},
   "outputs": [
    {
     "data": {
      "text/plain": [
       "120"
      ]
     },
     "execution_count": 3,
     "metadata": {},
     "output_type": "execute_result"
    }
   ],
   "source": [
    "uniprot_human_proteins[\"A0A0A0MRZ7\"][\"Sequence Length\"]"
   ]
  },
  {
   "cell_type": "markdown",
   "metadata": {},
   "source": [
    "We realise that not all locations are occupied by either chain or signal types. But having a chain may mean something\n",
    "\n",
    "Checking how many have signals and how many signals \n"
   ]
  },
  {
   "cell_type": "code",
   "execution_count": 6,
   "metadata": {},
   "outputs": [
    {
     "name": "stdout",
     "output_type": "stream",
     "text": [
      "1\n",
      "3612\n"
     ]
    }
   ],
   "source": [
    "signal_count = {}\n",
    "for protein in uniprot_human_proteins:\n",
    "    with open(\"PTM_indiv/\" + protein + \".json\", \"r\") as f:\n",
    "        data = json.load(f)\n",
    "        for entity in data[protein]:\n",
    "            if entity[\"type\"] == \"Signal\":\n",
    "                if protein not in signal_count:\n",
    "                    signal_count[protein] = 0\n",
    "                signal_count[protein] += 1\n",
    "\n",
    "print(max(signal_count.values()))\n",
    "print(len(signal_count))"
   ]
  },
  {
   "cell_type": "markdown",
   "metadata": {},
   "source": [
    "Therefore only 3612 have signals and there is exactly one signal in each of them. We can have a boolean about whether signal is present or not. Should we categorise this signal as well is another question?\n",
    "\n",
    "Now check if Glycosylation, Modified Residue are at single locations"
   ]
  },
  {
   "cell_type": "code",
   "execution_count": 10,
   "metadata": {},
   "outputs": [],
   "source": [
    "for protein in uniprot_human_proteins:\n",
    "    with open(\"PTM_indiv/\" + protein + \".json\", \"r\") as f:\n",
    "        data = json.load(f)\n",
    "        for entity in data[protein]:\n",
    "            if entity[\"type\"] == \"Glycosylation\":\n",
    "                if(entity[\"location\"][\"start\"][\"value\"] != entity[\"location\"][\"end\"][\"value\"]):\n",
    "                    print(\"Protein\", protein, \"has a glycosylation site with multiple locations\")\n",
    "            if entity[\"type\"] == \"Modified residue\":\n",
    "                if(entity[\"location\"][\"start\"][\"value\"] != entity[\"location\"][\"end\"][\"value\"]):\n",
    "                    print(\"Protein\", protein, \"has a modified residue with multiple locations\")"
   ]
  },
  {
   "cell_type": "markdown",
   "metadata": {},
   "source": [
    "No output in the previous cell. Meaning Modified residues and glycosylation all occur at single locations\n",
    "\n",
    "We store the number of Glycosylation, Cross-link, Modified residue, Signal and Disulfide bond for each protein in PTM_counts.csv"
   ]
  },
  {
   "cell_type": "code",
   "execution_count": 12,
   "metadata": {},
   "outputs": [],
   "source": [
    "import pandas as pd\n",
    "\n",
    "# For every protein, get the number of Glycosylation, Cross-link, Modified residue, Signal and Disulfide bond.\n",
    "PTM_info = {}\n",
    "for protein in uniprot_human_proteins:\n",
    "    with open(\"PTM_indiv/\" + protein + \".json\", \"r\") as f:\n",
    "        data = json.load(f)\n",
    "        PTM_info[protein] = {\"Glycosylation\": 0, \"Cross-link\": 0, \"Modified residue\": 0, \"Signal\": 0, \"Disulfide bond\": 0}\n",
    "        for entity in data[protein]:\n",
    "            if entity[\"type\"] in PTM_info[protein]:\n",
    "                PTM_info[protein][entity[\"type\"]] += 1\n",
    "\n",
    "df = pd.DataFrame.from_dict(PTM_info, orient='index')\n",
    "df.to_csv(\"files_for_ml/PTM_counts.csv\")"
   ]
  },
  {
   "cell_type": "markdown",
   "metadata": {},
   "source": [
    "We plan to categorise Glycosylations as either N-linked or O-linked"
   ]
  },
  {
   "cell_type": "code",
   "execution_count": 66,
   "metadata": {},
   "outputs": [],
   "source": [
    "for protein in uniprot_human_proteins:\n",
    "    with open(\"PTM_indiv/\" + protein + \".json\", \"r\") as f:\n",
    "        data = json.load(f)\n",
    "        for entity in data[protein]:\n",
    "            if entity[\"type\"] == \"Glycosylation\":\n",
    "                possible_links = [\"O-linked\", \"N-linked\", \"C-linked\", \"N-beta-linked\", \"S-linked\", \"O-alpha-linked\"]\n",
    "                contains_link = 0\n",
    "                for link in possible_links:\n",
    "                    if entity[\"description\"].find(link) != -1:\n",
    "                        contains_link += 1\n",
    "                \n",
    "                if contains_link == 0:\n",
    "                    print(\"Protein\", protein, \"has a glycosylation site that is not linked to any type\")\n",
    "                elif contains_link > 1:\n",
    "                    print(\"Protein\", protein, \"has a glycosylation site that is linked to multiple types\")"
   ]
  },
  {
   "cell_type": "markdown",
   "metadata": {},
   "source": [
    "Each glycolysation site has exactly one link: O-linked/N-linked/C-linked/N-beta-linked/S-linked/O-alpha-linked\n",
    "\n",
    "We extract all the above glycosylation info for every protein and store in glycosylation.csv"
   ]
  },
  {
   "cell_type": "code",
   "execution_count": 24,
   "metadata": {},
   "outputs": [
    {
     "data": {
      "text/plain": [
       "20434"
      ]
     },
     "execution_count": 24,
     "metadata": {},
     "output_type": "execute_result"
    }
   ],
   "source": [
    "glycosylation_info = {}\n",
    "\n",
    "for protein in uniprot_human_proteins:\n",
    "    glycosylation_info[protein] = {\"O-linked\": 0, \"N-linked\": 0, \"C-linked\": 0, \"N-beta-linked\": 0, \"S-linked\": 0, \"O-alpha-linked\": 0}\n",
    "    with open(\"PTM_indiv/\" + protein + \".json\", \"r\") as f:\n",
    "        data = json.load(f)\n",
    "        for entity in data[protein]:\n",
    "            if entity[\"type\"] == \"Glycosylation\":\n",
    "                possible_links = [\"O-linked\", \"N-linked\", \"C-linked\", \"N-beta-linked\", \"S-linked\", \"O-alpha-linked\"]\n",
    "                for link in possible_links:\n",
    "                    if entity[\"description\"].find(link) != -1:\n",
    "                        glycosylation_info[protein][link] += 1\n",
    "                        break # Since, only one link can be present every glycosylation site\n",
    "\n",
    "len(glycosylation_info)"
   ]
  },
  {
   "cell_type": "code",
   "execution_count": 25,
   "metadata": {},
   "outputs": [],
   "source": [
    "df = pd.DataFrame.from_dict(glycosylation_info, orient='index')\n",
    "df.to_csv(\"files_for_ml/glycosylation.csv\")"
   ]
  },
  {
   "cell_type": "markdown",
   "metadata": {},
   "source": [
    "Number of proteins containing non-zero number of \n",
    "1. O-linked = 371\t\n",
    "2. N-linked = 4436\t\n",
    "3. C-linked = 20\n",
    "4. N-beta-linked =\t11\n",
    "5. S-linked = 3\n",
    "6. O-alpha-linked = 4\n",
    "\n",
    "\n",
    "Lets study categories for Modified residue entity type"
   ]
  },
  {
   "cell_type": "code",
   "execution_count": 78,
   "metadata": {},
   "outputs": [
    {
     "name": "stdout",
     "output_type": "stream",
     "text": [
      "Protein O60563 has a modified residue that is not of the known types\n",
      "2193\n",
      "0\n"
     ]
    }
   ],
   "source": [
    "none_count = 0\n",
    "multiple_count = 0\n",
    "for protein in uniprot_human_proteins:\n",
    "    with open(\"PTM_indiv/\" + protein + \".json\", \"r\") as f:\n",
    "        data = json.load(f)\n",
    "        for entity in data[protein]:\n",
    "            if entity[\"type\"] == \"Modified residue\":\n",
    "                possible_residues = [\"Phosphoserine\", \"Phosphothreonine\", \"Phosphotyrosine\", \"acetylmethionine\", \"methylarginine\",\"Dimethylated arginine\", \"acetyllysine\", \"acetylalanine\", \"acetylthreonine\", \"Cysteine\", \"hydroxyarginine\",\"succinyllysine\",\"acetylserine\",\"polyglutamate\",\"methyllysine\",\"hydroxyasparagine\", \"pyridoxal phosphate\", \"Citrulline\", \"ribosylserine\"]\n",
    "                possible_residues.extend([\"acetylglycine\", \"Phenylalanine\",\"Proline\", \"Pyrrolidone\",\"lipoyllysine\", \"biotinyllysine\",\"glutamine\",\"pantetheine 4'-phosphoryl\",\"carboxyglutamate\",\"acetylvaline\",\"Phosphohistidine\",\"Sulfotyrosine\"])\n",
    "                possible_residues.extend([\"Methionine amide\",\"Leucine amide\",\"methylhistidine\"])\n",
    "                contains_residue = 0\n",
    "                for link in possible_residues:\n",
    "                    if entity[\"description\"].lower().find(link.lower()) != -1:\n",
    "                        contains_residue += 1\n",
    "                \n",
    "                if contains_residue == 0:\n",
    "                    none_count += 1\n",
    "                    if(none_count == 1):\n",
    "                        print(\"Protein\", protein, \"has a modified residue that is not of the known types\")\n",
    "                elif contains_residue > 1:\n",
    "                    multiple_count += 1\n",
    "                    # print(\"Protein\", protein, \"has a modified residue that is of multiple types\")\n",
    "\n",
    "print(none_count)\n",
    "print(multiple_count) # There are no multiples"
   ]
  },
  {
   "cell_type": "code",
   "execution_count": null,
   "metadata": {},
   "outputs": [],
   "source": []
  }
 ],
 "metadata": {
  "kernelspec": {
   "display_name": "Python 3",
   "language": "python",
   "name": "python3"
  },
  "language_info": {
   "codemirror_mode": {
    "name": "ipython",
    "version": 3
   },
   "file_extension": ".py",
   "mimetype": "text/x-python",
   "name": "python",
   "nbconvert_exporter": "python",
   "pygments_lexer": "ipython3",
   "version": "3.10.12"
  }
 },
 "nbformat": 4,
 "nbformat_minor": 2
}
